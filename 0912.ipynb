{
  "nbformat": 4,
  "nbformat_minor": 0,
  "metadata": {
    "colab": {
      "provenance": [],
      "authorship_tag": "ABX9TyNhBfj87qZepbnJG3ObkFXB",
      "include_colab_link": true
    },
    "kernelspec": {
      "name": "python3",
      "display_name": "Python 3"
    },
    "language_info": {
      "name": "python"
    }
  },
  "cells": [
    {
      "cell_type": "markdown",
      "metadata": {
        "id": "view-in-github",
        "colab_type": "text"
      },
      "source": [
        "<a href=\"https://colab.research.google.com/github/YonggunJung/ICT_TensorFlow/blob/main/0912.ipynb\" target=\"_parent\"><img src=\"https://colab.research.google.com/assets/colab-badge.svg\" alt=\"Open In Colab\"/></a>"
      ]
    },
    {
      "cell_type": "code",
      "execution_count": null,
      "metadata": {
        "id": "fyLoVMr20_3-",
        "colab": {
          "base_uri": "https://localhost:8080/",
          "height": 430
        },
        "outputId": "4e76c76b-41fa-4037-89c7-357a6d53ba59"
      },
      "outputs": [
        {
          "output_type": "display_data",
          "data": {
            "text/plain": [
              "<Figure size 640x480 with 1 Axes>"
            ],
            "image/png": "[encoded data removed]"
          },
          "metadata": {}
        }
      ],
      "source": [
        "import numpy as np\n",
        "import pandas as pd\n",
        "import matplotlib.pyplot as plt\n",
        "\n",
        "df = pd.DataFrame({'공부시간(x)' : [1,2,3,4,5,7,8,10,12,13,14,15,18,20,25,28,30],\n",
        "                   '시험점수(t)' : [5,7,20,31,40,44,46,49,60,62,70,80,85,91,92,97,98]})\n",
        "\n",
        "plt.scatter(df['공부시간(x)'],df['시험점수(t)'])\n",
        "plt.plot(df['공부시간(x)'], df['공부시간(x)']*5 - 7, color='g')\n",
        "plt.show()"
      ]
    },
    {
      "cell_type": "code",
      "source": [
        "# sklearn을 이용해서 간단한 simple linear regression을 구현\n",
        "# 필요한 module을 import\n",
        "\n",
        "import numpy as np # 데이터를 2차원 matrix로 표현하기 위해 사용(차원 형태로 표현하기 위해 사용)\n",
        "from sklearn import linear_model\n",
        "\n",
        "# Training Data Set\n",
        "# x_data(feature, 독립변수)는 당연히 matrix로 표현, 그리고 x_data는 feature가 1개\n",
        "# t_data(target, label, 종속변수) 2차원 matrix로 표현\n",
        "\n",
        "x_data = np.array([1, 2, 3 ,4, 5]).reshape(5, 1)\n",
        "print(x_data)\n",
        "t_data = np.array([3, 5, 7, 9, 11]).reshape(5, 1)\n",
        "print(t_data)\n",
        "\n",
        "# linear regression model을 생성\n",
        "sklearn_model = linear_model.LinearRegression() # LinearRegression model을 생성(지금은 비었음)\n",
        "\n",
        "# Training Data Set을 이용해서 Model을 학습\n",
        "sklearn_model.fit(x_data, t_data)\n",
        "\n",
        "# 상식적으로 생각했을 때 우리 model은 아마도 y = 2x + 1, Y = XW + b\n",
        "\n",
        "# 회기계수부터 구하기 (W, b)\n",
        "print('Weight : {}, bias : {}'.format(sklearn_model.coef_, sklearn_model.intercept_))\n",
        "\n",
        "# 학습이 다 끝나면 이제 prediction(예측)을 함\n",
        "predict_value = sklearn_model.predict([[10], [20]])\n",
        "print(predict_value)"
      ],
      "metadata": {
        "id": "CRGdDYA_1Hju",
        "colab": {
          "base_uri": "https://localhost:8080/"
        },
        "outputId": "6cfd4291-5fe9-4013-d583-79dc171ba41e"
      },
      "execution_count": null,
      "outputs": [
        {
          "output_type": "stream",
          "name": "stdout",
          "text": [
            "[[1]\n",
            " [2]\n",
            " [3]\n",
            " [4]\n",
            " [5]]\n",
            "[[ 3]\n",
            " [ 5]\n",
            " [ 7]\n",
            " [ 9]\n",
            " [11]]\n",
            "Weight : [[2.]], bias : [1.]\n",
            "[[21.]\n",
            " [41.]]\n"
          ]
        }
      ]
    },
    {
      "cell_type": "code",
      "source": [
        "# TensorFlow 구현\n",
        "\n",
        "# 필요한 module import\n",
        "\n",
        "import numpy as np\n",
        "from tensorflow.keras.models import Sequential\n",
        "from tensorflow.keras.layers import Flatten, Dense   # Flatten은 input layer, Dense는 output layer\n",
        "from tensorflow.keras.optimizers import SGD\n",
        "\n",
        "# Training Data Set\n",
        "x_data = np.array([1, 2, 3 ,4, 5]).reshape(5, 1)\n",
        "t_data = np.array([3, 5, 7, 9, 11]).reshape(5, 1)\n",
        "\n",
        "# Model 구현\n",
        "keras_model = Sequential()\n",
        "\n",
        "keras_model.add(Flatten(input_shape = (1, )))  # 독립변수가 하나라서 (1, )\n",
        "keras_model.add(Dense(units = 1, activation = 'linear')) #  activation 기본이 linear\n",
        "\n",
        "# Model 설정\n",
        "keras_model.compile(optimizer = SGD(learning_rate = 1e-2), loss = 'mse') # learning_rate는 하이퍼 파라미터로 적당값을 찾아야한다, 1e-2 = 0.01\n",
        "\n",
        "# Model 학습\n",
        "keras_model.fit(x_data, t_data, epochs = 5000, verbose = 0) # verbose는 학습하는 과정 출력 할건지\n",
        "\n",
        "# Model을 이용한 예측\n",
        "keras_result = keras_model.predict([[10], [20]])\n",
        "print(keras_result)"
      ],
      "metadata": {
        "colab": {
          "base_uri": "https://localhost:8080/"
        },
        "id": "RU6oT521N0LP",
        "outputId": "d1d5dfb7-7fff-452d-d9c9-dd316e2c8c9b"
      },
      "execution_count": null,
      "outputs": [
        {
          "output_type": "stream",
          "name": "stdout",
          "text": [
            "1/1 [==============================] - 0s 75ms/step\n",
            "[[21.000032]\n",
            " [41.000084]]\n"
          ]
        }
      ]
    },
    {
      "cell_type": "code",
      "source": [],
      "metadata": {
        "id": "d1gG8ymlN0JN"
      },
      "execution_count": null,
      "outputs": []
    },
    {
      "cell_type": "code",
      "source": [],
      "metadata": {
        "id": "r1LxMuA8N0G_"
      },
      "execution_count": null,
      "outputs": []
    },
    {
      "cell_type": "code",
      "source": [],
      "metadata": {
        "id": "uc5LbXDFN0En"
      },
      "execution_count": null,
      "outputs": []
    }
  ]
}