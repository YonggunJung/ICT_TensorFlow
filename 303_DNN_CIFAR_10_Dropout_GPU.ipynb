{
  "nbformat": 4,
  "nbformat_minor": 0,
  "metadata": {
    "colab": {
      "provenance": [],
      "include_colab_link": true
    },
    "kernelspec": {
      "name": "python3",
      "display_name": "Python 3"
    },
    "accelerator": "GPU"
  },
  "cells": [
    {
      "cell_type": "markdown",
      "metadata": {
        "id": "view-in-github",
        "colab_type": "text"
      },
      "source": [
        "<a href=\"https://colab.research.google.com/github/YonggunJung/ICT_TensorFlow/blob/main/303_DNN_CIFAR_10_Dropout_GPU.ipynb\" target=\"_parent\"><img src=\"https://colab.research.google.com/assets/colab-badge.svg\" alt=\"Open In Colab\"/></a>"
      ]
    },
    {
      "cell_type": "markdown",
      "metadata": {
        "id": "q2Pr7oBdYLdf"
      },
      "source": [
        "# CIFAR 10 - Categorical Classification\n",
        "\n",
        "> ## Dropout"
      ]
    },
    {
      "cell_type": "code",
      "metadata": {
        "id": "RbPgODpVzdHI"
      },
      "source": [
        "import warnings\n",
        "warnings.filterwarnings('ignore')"
      ],
      "execution_count": null,
      "outputs": []
    },
    {
      "cell_type": "markdown",
      "metadata": {
        "id": "H49A769LYp-a"
      },
      "source": [
        "# I. CIFAR 10 Data_Set Load & Review"
      ]
    },
    {
      "cell_type": "markdown",
      "metadata": {
        "id": "vb6EIkRcbPb4"
      },
      "source": [
        "> ## 1) Load CIFAR 10 Data_Set"
      ]
    },
    {
      "cell_type": "code",
      "metadata": {
        "id": "DxstjE8b_6Te",
        "colab": {
          "base_uri": "https://localhost:8080/"
        },
        "outputId": "62295de6-a401-40ad-88f4-70c87cdcc906"
      },
      "source": [
        "from tensorflow.keras.datasets import cifar10\n",
        "\n",
        "(X_train, y_train), (X_test, y_test) = cifar10.load_data()"
      ],
      "execution_count": null,
      "outputs": [
        {
          "output_type": "stream",
          "name": "stdout",
          "text": [
            "Downloading data from https://www.cs.toronto.edu/~kriz/cifar-10-python.tar.gz\n",
            "170498071/170498071 [==============================] - 14s 0us/step\n"
          ]
        }
      ]
    },
    {
      "cell_type": "markdown",
      "metadata": {
        "id": "Mk9XL5vGHor6"
      },
      "source": [
        "# II. Data Preprocessing"
      ]
    },
    {
      "cell_type": "markdown",
      "metadata": {
        "id": "ec8zU4XCZRUF"
      },
      "source": [
        "> ## 1) Reshape and Normalization"
      ]
    },
    {
      "cell_type": "markdown",
      "metadata": {
        "id": "olI6ZPtEIb8H"
      },
      "source": [
        "* reshape\n",
        " * (50000, 32, 32, 3) to (50000, 3072)"
      ]
    },
    {
      "cell_type": "code",
      "metadata": {
        "id": "8-toPn1ZAmFd",
        "colab": {
          "base_uri": "https://localhost:8080/"
        },
        "outputId": "fa939ac6-fb3c-4eb7-9cf6-041a32a79fc5"
      },
      "source": [
        "X_train = X_train.reshape((50000, 32 * 32 * 3))\n",
        "X_test = X_test.reshape((10000, 32 * 32 * 3))\n",
        "\n",
        "X_train.shape, X_test.shape"
      ],
      "execution_count": null,
      "outputs": [
        {
          "output_type": "execute_result",
          "data": {
            "text/plain": [
              "((50000, 3072), (10000, 3072))"
            ]
          },
          "metadata": {},
          "execution_count": 3
        }
      ]
    },
    {
      "cell_type": "markdown",
      "metadata": {
        "id": "UN-xPWjYIeWL"
      },
      "source": [
        "* Normalization"
      ]
    },
    {
      "cell_type": "code",
      "metadata": {
        "id": "SoGHuYeFIGBj"
      },
      "source": [
        "X_train = X_train.astype(float) / 255\n",
        "X_test = X_test.astype(float) / 255"
      ],
      "execution_count": null,
      "outputs": []
    },
    {
      "cell_type": "markdown",
      "metadata": {
        "id": "BtSROU80aF12"
      },
      "source": [
        "> ## 2) One Hot Encoding"
      ]
    },
    {
      "cell_type": "code",
      "metadata": {
        "id": "eC48Oym3Ao8E"
      },
      "source": [
        "from tensorflow.keras.utils import to_categorical\n",
        "\n",
        "y_train = to_categorical(y_train)\n",
        "y_test = to_categorical(y_test)"
      ],
      "execution_count": null,
      "outputs": []
    },
    {
      "cell_type": "markdown",
      "source": [
        "> ## 3) train_test_split( )\n",
        "\n",
        "* Train(40,000) vs. Validation(10,000)"
      ],
      "metadata": {
        "id": "5Y0xaGNzYkI2"
      }
    },
    {
      "cell_type": "code",
      "source": [
        "from sklearn.model_selection import train_test_split\n",
        "\n",
        "X_train, X_valid, y_train, y_valid = train_test_split(X_train, y_train,\n",
        "                                                      test_size = 0.2,\n",
        "                                                      random_state = 2045)"
      ],
      "metadata": {
        "id": "zdpfzw3TXRHG"
      },
      "execution_count": null,
      "outputs": []
    },
    {
      "cell_type": "markdown",
      "metadata": {
        "id": "NTwZiSjiop3v"
      },
      "source": [
        "# III. Keras Modeling"
      ]
    },
    {
      "cell_type": "markdown",
      "metadata": {
        "id": "j5CT0TurJCkc"
      },
      "source": [
        "> ## 1) Model Define"
      ]
    },
    {
      "cell_type": "markdown",
      "metadata": {
        "id": "ydDCl0jTJD58"
      },
      "source": [
        "* 모델 신경망 구조 정의\n",
        " - 3개 Hidden Layers & 2816개 Nodes\n",
        " - Dropout"
      ]
    },
    {
      "cell_type": "code",
      "metadata": {
        "id": "II0DskRdAcHS"
      },
      "source": [
        "from tensorflow.keras import models\n",
        "from tensorflow.keras import layers\n",
        "\n",
        "CIFAR = models.Sequential()\n",
        "CIFAR.add(layers.Dense(2048, activation = 'relu', input_shape = (32 * 32 * 3,)))\n",
        "# CIFAR.add(layers.Dropout(0.6))\n",
        "CIFAR.add(layers.Dense(512, activation = 'relu'))\n",
        "CIFAR.add(layers.Dropout(0.5))\n",
        "CIFAR.add(layers.Dense(128, activation = 'relu'))\n",
        "# CIFAR.add(layers.Dropout(0.4))\n",
        "CIFAR.add(layers.Dense(10, activation = 'softmax'))"
      ],
      "execution_count": null,
      "outputs": []
    },
    {
      "cell_type": "markdown",
      "metadata": {
        "id": "PqrObAHZJTN8"
      },
      "source": [
        "* 모델 구조 확인"
      ]
    },
    {
      "cell_type": "code",
      "metadata": {
        "id": "wbtjOA4XMTUd",
        "colab": {
          "base_uri": "https://localhost:8080/"
        },
        "outputId": "40a151ed-56f1-4848-e86d-40a8d7ada5a2"
      },
      "source": [
        "CIFAR.summary()"
      ],
      "execution_count": null,
      "outputs": [
        {
          "output_type": "stream",
          "name": "stdout",
          "text": [
            "Model: \"sequential\"\n",
            "_________________________________________________________________\n",
            " Layer (type)                Output Shape              Param #   \n",
            "=================================================================\n",
            " dense (Dense)               (None, 2048)              6293504   \n",
            "                                                                 \n",
            " dense_1 (Dense)             (None, 512)               1049088   \n",
            "                                                                 \n",
            " dropout (Dropout)           (None, 512)               0         \n",
            "                                                                 \n",
            " dense_2 (Dense)             (None, 128)               65664     \n",
            "                                                                 \n",
            " dense_3 (Dense)             (None, 10)                1290      \n",
            "                                                                 \n",
            "=================================================================\n",
            "Total params: 7409546 (28.27 MB)\n",
            "Trainable params: 7409546 (28.27 MB)\n",
            "Non-trainable params: 0 (0.00 Byte)\n",
            "_________________________________________________________________\n"
          ]
        }
      ]
    },
    {
      "cell_type": "markdown",
      "metadata": {
        "id": "tpjBDBeYoyuj"
      },
      "source": [
        "> ## 2) Model Compile"
      ]
    },
    {
      "cell_type": "markdown",
      "metadata": {
        "id": "f3sxkQa0JoUr"
      },
      "source": [
        "* 모델 학습방법 설정"
      ]
    },
    {
      "cell_type": "code",
      "metadata": {
        "id": "AyK_t1qwAi6M"
      },
      "source": [
        "CIFAR.compile(loss = 'categorical_crossentropy',\n",
        "              optimizer = 'adam',\n",
        "              metrics = ['accuracy'])"
      ],
      "execution_count": null,
      "outputs": []
    },
    {
      "cell_type": "markdown",
      "metadata": {
        "id": "umiq4B-Xo3OB"
      },
      "source": [
        "> ## 3) Model Fit"
      ]
    },
    {
      "cell_type": "markdown",
      "metadata": {
        "id": "1KuXREziKMD1"
      },
      "source": [
        "* 약 5분"
      ]
    },
    {
      "cell_type": "code",
      "metadata": {
        "id": "zxwqwAqRAqRP",
        "colab": {
          "base_uri": "https://localhost:8080/"
        },
        "outputId": "db041417-e8bd-4931-d970-c36fac7b0ea0"
      },
      "source": [
        "%%time\n",
        "\n",
        "Hist_CIFAR = CIFAR.fit(X_train, y_train,\n",
        "                       epochs = 100,\n",
        "                       batch_size = 128,\n",
        "                       validation_data = (X_valid, y_valid))"
      ],
      "execution_count": null,
      "outputs": [
        {
          "output_type": "stream",
          "name": "stdout",
          "text": [
            "Epoch 1/100\n",
            "313/313 [==============================] - 9s 8ms/step - loss: 2.1829 - accuracy: 0.1860 - val_loss: 1.9524 - val_accuracy: 0.2916\n",
            "Epoch 2/100\n",
            "313/313 [==============================] - 2s 6ms/step - loss: 1.9222 - accuracy: 0.2934 - val_loss: 1.7972 - val_accuracy: 0.3521\n",
            "Epoch 3/100\n",
            "313/313 [==============================] - 2s 6ms/step - loss: 1.7983 - accuracy: 0.3512 - val_loss: 1.7483 - val_accuracy: 0.3600\n",
            "Epoch 4/100\n",
            "313/313 [==============================] - 2s 8ms/step - loss: 1.7110 - accuracy: 0.3851 - val_loss: 1.6730 - val_accuracy: 0.3951\n",
            "Epoch 5/100\n",
            "313/313 [==============================] - 2s 6ms/step - loss: 1.6461 - accuracy: 0.4105 - val_loss: 1.6264 - val_accuracy: 0.4164\n",
            "Epoch 6/100\n",
            "313/313 [==============================] - 2s 6ms/step - loss: 1.6077 - accuracy: 0.4210 - val_loss: 1.5985 - val_accuracy: 0.4290\n",
            "Epoch 7/100\n",
            "313/313 [==============================] - 2s 6ms/step - loss: 1.5775 - accuracy: 0.4331 - val_loss: 1.5891 - val_accuracy: 0.4393\n",
            "Epoch 8/100\n",
            "313/313 [==============================] - 2s 6ms/step - loss: 1.5507 - accuracy: 0.4448 - val_loss: 1.5496 - val_accuracy: 0.4433\n",
            "Epoch 9/100\n",
            "313/313 [==============================] - 2s 6ms/step - loss: 1.5289 - accuracy: 0.4534 - val_loss: 1.5798 - val_accuracy: 0.4310\n",
            "Epoch 10/100\n",
            "313/313 [==============================] - 2s 7ms/step - loss: 1.5050 - accuracy: 0.4615 - val_loss: 1.5417 - val_accuracy: 0.4456\n",
            "Epoch 11/100\n",
            "313/313 [==============================] - 2s 7ms/step - loss: 1.4876 - accuracy: 0.4645 - val_loss: 1.5082 - val_accuracy: 0.4589\n",
            "Epoch 12/100\n",
            "313/313 [==============================] - 2s 6ms/step - loss: 1.4632 - accuracy: 0.4757 - val_loss: 1.5003 - val_accuracy: 0.4629\n",
            "Epoch 13/100\n",
            "313/313 [==============================] - 2s 6ms/step - loss: 1.4508 - accuracy: 0.4798 - val_loss: 1.4840 - val_accuracy: 0.4734\n",
            "Epoch 14/100\n",
            "313/313 [==============================] - 2s 6ms/step - loss: 1.4407 - accuracy: 0.4859 - val_loss: 1.4908 - val_accuracy: 0.4771\n",
            "Epoch 15/100\n",
            "313/313 [==============================] - 2s 6ms/step - loss: 1.4228 - accuracy: 0.4894 - val_loss: 1.4493 - val_accuracy: 0.4848\n",
            "Epoch 16/100\n",
            "313/313 [==============================] - 2s 7ms/step - loss: 1.4098 - accuracy: 0.4954 - val_loss: 1.4631 - val_accuracy: 0.4787\n",
            "Epoch 17/100\n",
            "313/313 [==============================] - 2s 8ms/step - loss: 1.3994 - accuracy: 0.5005 - val_loss: 1.4384 - val_accuracy: 0.4894\n",
            "Epoch 18/100\n",
            "313/313 [==============================] - 2s 6ms/step - loss: 1.3840 - accuracy: 0.5050 - val_loss: 1.4569 - val_accuracy: 0.4858\n",
            "Epoch 19/100\n",
            "313/313 [==============================] - 2s 6ms/step - loss: 1.3735 - accuracy: 0.5076 - val_loss: 1.4524 - val_accuracy: 0.4858\n",
            "Epoch 20/100\n",
            "313/313 [==============================] - 2s 6ms/step - loss: 1.3663 - accuracy: 0.5104 - val_loss: 1.4290 - val_accuracy: 0.4956\n",
            "Epoch 21/100\n",
            "313/313 [==============================] - 2s 6ms/step - loss: 1.3530 - accuracy: 0.5145 - val_loss: 1.4442 - val_accuracy: 0.4834\n",
            "Epoch 22/100\n",
            "313/313 [==============================] - 2s 6ms/step - loss: 1.3397 - accuracy: 0.5194 - val_loss: 1.4145 - val_accuracy: 0.4944\n",
            "Epoch 23/100\n",
            "313/313 [==============================] - 2s 8ms/step - loss: 1.3352 - accuracy: 0.5226 - val_loss: 1.4263 - val_accuracy: 0.4961\n",
            "Epoch 24/100\n",
            "313/313 [==============================] - 2s 6ms/step - loss: 1.3313 - accuracy: 0.5207 - val_loss: 1.4070 - val_accuracy: 0.4977\n",
            "Epoch 25/100\n",
            "313/313 [==============================] - 2s 6ms/step - loss: 1.3148 - accuracy: 0.5270 - val_loss: 1.4390 - val_accuracy: 0.4887\n",
            "Epoch 26/100\n",
            "313/313 [==============================] - 2s 6ms/step - loss: 1.3096 - accuracy: 0.5318 - val_loss: 1.4484 - val_accuracy: 0.4880\n",
            "Epoch 27/100\n",
            "313/313 [==============================] - 2s 6ms/step - loss: 1.2962 - accuracy: 0.5331 - val_loss: 1.4265 - val_accuracy: 0.4921\n",
            "Epoch 28/100\n",
            "313/313 [==============================] - 2s 6ms/step - loss: 1.2941 - accuracy: 0.5365 - val_loss: 1.4204 - val_accuracy: 0.4955\n",
            "Epoch 29/100\n",
            "313/313 [==============================] - 3s 8ms/step - loss: 1.2877 - accuracy: 0.5361 - val_loss: 1.4351 - val_accuracy: 0.4898\n",
            "Epoch 30/100\n",
            "313/313 [==============================] - 2s 7ms/step - loss: 1.2766 - accuracy: 0.5426 - val_loss: 1.4023 - val_accuracy: 0.5057\n",
            "Epoch 31/100\n",
            "313/313 [==============================] - 2s 7ms/step - loss: 1.2644 - accuracy: 0.5445 - val_loss: 1.4267 - val_accuracy: 0.4988\n",
            "Epoch 32/100\n",
            "313/313 [==============================] - 2s 6ms/step - loss: 1.2706 - accuracy: 0.5465 - val_loss: 1.4228 - val_accuracy: 0.4998\n",
            "Epoch 33/100\n",
            "313/313 [==============================] - 2s 6ms/step - loss: 1.2540 - accuracy: 0.5465 - val_loss: 1.4406 - val_accuracy: 0.4967\n",
            "Epoch 34/100\n",
            "313/313 [==============================] - 2s 6ms/step - loss: 1.2435 - accuracy: 0.5501 - val_loss: 1.4266 - val_accuracy: 0.4981\n",
            "Epoch 35/100\n",
            "313/313 [==============================] - 2s 8ms/step - loss: 1.2438 - accuracy: 0.5505 - val_loss: 1.4428 - val_accuracy: 0.4936\n",
            "Epoch 36/100\n",
            "313/313 [==============================] - 2s 6ms/step - loss: 1.2341 - accuracy: 0.5522 - val_loss: 1.4339 - val_accuracy: 0.4946\n",
            "Epoch 37/100\n",
            "313/313 [==============================] - 2s 6ms/step - loss: 1.2256 - accuracy: 0.5556 - val_loss: 1.4128 - val_accuracy: 0.5069\n",
            "Epoch 38/100\n",
            "313/313 [==============================] - 2s 6ms/step - loss: 1.2268 - accuracy: 0.5580 - val_loss: 1.4264 - val_accuracy: 0.5031\n",
            "Epoch 39/100\n",
            "313/313 [==============================] - 2s 6ms/step - loss: 1.2125 - accuracy: 0.5633 - val_loss: 1.4208 - val_accuracy: 0.5012\n",
            "Epoch 40/100\n",
            "313/313 [==============================] - 2s 6ms/step - loss: 1.2126 - accuracy: 0.5617 - val_loss: 1.4282 - val_accuracy: 0.5011\n",
            "Epoch 41/100\n",
            "313/313 [==============================] - 2s 8ms/step - loss: 1.2063 - accuracy: 0.5684 - val_loss: 1.4307 - val_accuracy: 0.4992\n",
            "Epoch 42/100\n",
            "313/313 [==============================] - 2s 6ms/step - loss: 1.2033 - accuracy: 0.5660 - val_loss: 1.4179 - val_accuracy: 0.4990\n",
            "Epoch 43/100\n",
            "313/313 [==============================] - 2s 7ms/step - loss: 1.1909 - accuracy: 0.5703 - val_loss: 1.5015 - val_accuracy: 0.4854\n",
            "Epoch 44/100\n",
            "313/313 [==============================] - 2s 6ms/step - loss: 1.1856 - accuracy: 0.5740 - val_loss: 1.4331 - val_accuracy: 0.5035\n",
            "Epoch 45/100\n",
            "313/313 [==============================] - 2s 6ms/step - loss: 1.1858 - accuracy: 0.5703 - val_loss: 1.4298 - val_accuracy: 0.5014\n",
            "Epoch 46/100\n",
            "313/313 [==============================] - 2s 6ms/step - loss: 1.1777 - accuracy: 0.5778 - val_loss: 1.4331 - val_accuracy: 0.5012\n",
            "Epoch 47/100\n",
            "313/313 [==============================] - 2s 7ms/step - loss: 1.1712 - accuracy: 0.5787 - val_loss: 1.4290 - val_accuracy: 0.5068\n",
            "Epoch 48/100\n",
            "313/313 [==============================] - 2s 6ms/step - loss: 1.1698 - accuracy: 0.5795 - val_loss: 1.4645 - val_accuracy: 0.4956\n",
            "Epoch 49/100\n",
            "313/313 [==============================] - 2s 6ms/step - loss: 1.1637 - accuracy: 0.5810 - val_loss: 1.4185 - val_accuracy: 0.5084\n",
            "Epoch 50/100\n",
            "313/313 [==============================] - 2s 6ms/step - loss: 1.1525 - accuracy: 0.5813 - val_loss: 1.4172 - val_accuracy: 0.5114\n",
            "Epoch 51/100\n",
            "313/313 [==============================] - 2s 6ms/step - loss: 1.1498 - accuracy: 0.5866 - val_loss: 1.4288 - val_accuracy: 0.5076\n",
            "Epoch 52/100\n",
            "313/313 [==============================] - 2s 6ms/step - loss: 1.1484 - accuracy: 0.5865 - val_loss: 1.4492 - val_accuracy: 0.5007\n",
            "Epoch 53/100\n",
            "313/313 [==============================] - 2s 7ms/step - loss: 1.1504 - accuracy: 0.5828 - val_loss: 1.4778 - val_accuracy: 0.4974\n",
            "Epoch 54/100\n",
            "313/313 [==============================] - 2s 7ms/step - loss: 1.1391 - accuracy: 0.5861 - val_loss: 1.4370 - val_accuracy: 0.5047\n",
            "Epoch 55/100\n",
            "313/313 [==============================] - 2s 6ms/step - loss: 1.1301 - accuracy: 0.5889 - val_loss: 1.4463 - val_accuracy: 0.5052\n",
            "Epoch 56/100\n",
            "313/313 [==============================] - 2s 7ms/step - loss: 1.1333 - accuracy: 0.5881 - val_loss: 1.4486 - val_accuracy: 0.5114\n",
            "Epoch 57/100\n",
            "313/313 [==============================] - 2s 6ms/step - loss: 1.1201 - accuracy: 0.5940 - val_loss: 1.4576 - val_accuracy: 0.4988\n",
            "Epoch 58/100\n",
            "313/313 [==============================] - 2s 6ms/step - loss: 1.1219 - accuracy: 0.5954 - val_loss: 1.4418 - val_accuracy: 0.5070\n",
            "Epoch 59/100\n",
            "313/313 [==============================] - 2s 7ms/step - loss: 1.1164 - accuracy: 0.5960 - val_loss: 1.4620 - val_accuracy: 0.5017\n",
            "Epoch 60/100\n",
            "313/313 [==============================] - 2s 7ms/step - loss: 1.1126 - accuracy: 0.5980 - val_loss: 1.4580 - val_accuracy: 0.5056\n",
            "Epoch 61/100\n",
            "313/313 [==============================] - 2s 6ms/step - loss: 1.1072 - accuracy: 0.5997 - val_loss: 1.4563 - val_accuracy: 0.5025\n",
            "Epoch 62/100\n",
            "313/313 [==============================] - 2s 6ms/step - loss: 1.1033 - accuracy: 0.6000 - val_loss: 1.4831 - val_accuracy: 0.5024\n",
            "Epoch 63/100\n",
            "313/313 [==============================] - 2s 6ms/step - loss: 1.1040 - accuracy: 0.6014 - val_loss: 1.4525 - val_accuracy: 0.5084\n",
            "Epoch 64/100\n",
            "313/313 [==============================] - 2s 6ms/step - loss: 1.0983 - accuracy: 0.6028 - val_loss: 1.4694 - val_accuracy: 0.5123\n",
            "Epoch 65/100\n",
            "313/313 [==============================] - 2s 6ms/step - loss: 1.0958 - accuracy: 0.6041 - val_loss: 1.4583 - val_accuracy: 0.5078\n",
            "Epoch 66/100\n",
            "313/313 [==============================] - 2s 8ms/step - loss: 1.0818 - accuracy: 0.6090 - val_loss: 1.4764 - val_accuracy: 0.5032\n",
            "Epoch 67/100\n",
            "313/313 [==============================] - 2s 6ms/step - loss: 1.0800 - accuracy: 0.6091 - val_loss: 1.4707 - val_accuracy: 0.5017\n",
            "Epoch 68/100\n",
            "313/313 [==============================] - 2s 6ms/step - loss: 1.0824 - accuracy: 0.6116 - val_loss: 1.4855 - val_accuracy: 0.5013\n",
            "Epoch 69/100\n",
            "313/313 [==============================] - 2s 7ms/step - loss: 1.0780 - accuracy: 0.6094 - val_loss: 1.4601 - val_accuracy: 0.5078\n",
            "Epoch 70/100\n",
            "313/313 [==============================] - 2s 6ms/step - loss: 1.0790 - accuracy: 0.6092 - val_loss: 1.4875 - val_accuracy: 0.5103\n",
            "Epoch 71/100\n",
            "313/313 [==============================] - 2s 6ms/step - loss: 1.0746 - accuracy: 0.6120 - val_loss: 1.5478 - val_accuracy: 0.4846\n",
            "Epoch 72/100\n",
            "313/313 [==============================] - 2s 7ms/step - loss: 1.0617 - accuracy: 0.6173 - val_loss: 1.4855 - val_accuracy: 0.5080\n",
            "Epoch 73/100\n",
            "313/313 [==============================] - 2s 7ms/step - loss: 1.0514 - accuracy: 0.6182 - val_loss: 1.4749 - val_accuracy: 0.5067\n",
            "Epoch 74/100\n",
            "313/313 [==============================] - 2s 6ms/step - loss: 1.0545 - accuracy: 0.6193 - val_loss: 1.5037 - val_accuracy: 0.5036\n",
            "Epoch 75/100\n",
            "313/313 [==============================] - 2s 7ms/step - loss: 1.0453 - accuracy: 0.6216 - val_loss: 1.4890 - val_accuracy: 0.5054\n",
            "Epoch 76/100\n",
            "313/313 [==============================] - 2s 6ms/step - loss: 1.0571 - accuracy: 0.6196 - val_loss: 1.4810 - val_accuracy: 0.5061\n",
            "Epoch 77/100\n",
            "313/313 [==============================] - 2s 6ms/step - loss: 1.0525 - accuracy: 0.6180 - val_loss: 1.5227 - val_accuracy: 0.5016\n",
            "Epoch 78/100\n",
            "313/313 [==============================] - 3s 8ms/step - loss: 1.0486 - accuracy: 0.6218 - val_loss: 1.5063 - val_accuracy: 0.5016\n",
            "Epoch 79/100\n",
            "313/313 [==============================] - 2s 7ms/step - loss: 1.0438 - accuracy: 0.6213 - val_loss: 1.5046 - val_accuracy: 0.5044\n",
            "Epoch 80/100\n",
            "313/313 [==============================] - 2s 6ms/step - loss: 1.0400 - accuracy: 0.6239 - val_loss: 1.4828 - val_accuracy: 0.5065\n",
            "Epoch 81/100\n",
            "313/313 [==============================] - 2s 6ms/step - loss: 1.0434 - accuracy: 0.6203 - val_loss: 1.5010 - val_accuracy: 0.5108\n",
            "Epoch 82/100\n",
            "313/313 [==============================] - 2s 6ms/step - loss: 1.0335 - accuracy: 0.6244 - val_loss: 1.5145 - val_accuracy: 0.5010\n",
            "Epoch 83/100\n",
            "313/313 [==============================] - 2s 6ms/step - loss: 1.0395 - accuracy: 0.6226 - val_loss: 1.4971 - val_accuracy: 0.5125\n",
            "Epoch 84/100\n",
            "313/313 [==============================] - 2s 7ms/step - loss: 1.0332 - accuracy: 0.6252 - val_loss: 1.5013 - val_accuracy: 0.5075\n",
            "Epoch 85/100\n",
            "313/313 [==============================] - 2s 7ms/step - loss: 1.0272 - accuracy: 0.6291 - val_loss: 1.5020 - val_accuracy: 0.5073\n",
            "Epoch 86/100\n",
            "313/313 [==============================] - 2s 6ms/step - loss: 1.0237 - accuracy: 0.6300 - val_loss: 1.5370 - val_accuracy: 0.5010\n",
            "Epoch 87/100\n",
            "313/313 [==============================] - 2s 6ms/step - loss: 1.0185 - accuracy: 0.6330 - val_loss: 1.4909 - val_accuracy: 0.5076\n",
            "Epoch 88/100\n",
            "313/313 [==============================] - 2s 6ms/step - loss: 1.0125 - accuracy: 0.6334 - val_loss: 1.5716 - val_accuracy: 0.4968\n",
            "Epoch 89/100\n",
            "313/313 [==============================] - 2s 6ms/step - loss: 1.0214 - accuracy: 0.6292 - val_loss: 1.5156 - val_accuracy: 0.5015\n",
            "Epoch 90/100\n",
            "313/313 [==============================] - 2s 7ms/step - loss: 1.0085 - accuracy: 0.6351 - val_loss: 1.5428 - val_accuracy: 0.4990\n",
            "Epoch 91/100\n",
            "313/313 [==============================] - 2s 7ms/step - loss: 1.0026 - accuracy: 0.6349 - val_loss: 1.5309 - val_accuracy: 0.4995\n",
            "Epoch 92/100\n",
            "313/313 [==============================] - 2s 6ms/step - loss: 1.0166 - accuracy: 0.6300 - val_loss: 1.5160 - val_accuracy: 0.5052\n",
            "Epoch 93/100\n",
            "313/313 [==============================] - 2s 6ms/step - loss: 1.0034 - accuracy: 0.6381 - val_loss: 1.5535 - val_accuracy: 0.4989\n",
            "Epoch 94/100\n",
            "313/313 [==============================] - 2s 6ms/step - loss: 1.0071 - accuracy: 0.6334 - val_loss: 1.5353 - val_accuracy: 0.5036\n",
            "Epoch 95/100\n",
            "313/313 [==============================] - 2s 7ms/step - loss: 0.9967 - accuracy: 0.6396 - val_loss: 1.5424 - val_accuracy: 0.4998\n",
            "Epoch 96/100\n",
            "313/313 [==============================] - 2s 7ms/step - loss: 1.0004 - accuracy: 0.6391 - val_loss: 1.5566 - val_accuracy: 0.5042\n",
            "Epoch 97/100\n",
            "313/313 [==============================] - 2s 7ms/step - loss: 0.9911 - accuracy: 0.6404 - val_loss: 1.5424 - val_accuracy: 0.4989\n",
            "Epoch 98/100\n",
            "313/313 [==============================] - 2s 7ms/step - loss: 0.9896 - accuracy: 0.6421 - val_loss: 1.5369 - val_accuracy: 0.5091\n",
            "Epoch 99/100\n",
            "313/313 [==============================] - 2s 6ms/step - loss: 0.9856 - accuracy: 0.6445 - val_loss: 1.5382 - val_accuracy: 0.5067\n",
            "Epoch 100/100\n",
            "313/313 [==============================] - 2s 7ms/step - loss: 0.9836 - accuracy: 0.6445 - val_loss: 1.5562 - val_accuracy: 0.5092\n",
            "CPU times: user 3min 22s, sys: 16.4 s, total: 3min 38s\n",
            "Wall time: 4min 24s\n"
          ]
        }
      ]
    },
    {
      "cell_type": "markdown",
      "metadata": {
        "id": "FnnIyFtNKhbD"
      },
      "source": [
        "> ## 4) 학습 결과 시각화"
      ]
    },
    {
      "cell_type": "markdown",
      "metadata": {
        "id": "YgXRhVauKqOm"
      },
      "source": [
        "* Loss Visualization"
      ]
    },
    {
      "cell_type": "code",
      "metadata": {
        "id": "OQ4ke8BbKi50",
        "colab": {
          "base_uri": "https://localhost:8080/",
          "height": 487
        },
        "outputId": "e6bf5832-fb2e-4372-f14f-1978ce1789c2"
      },
      "source": [
        "import matplotlib.pyplot as plt\n",
        "\n",
        "epochs = range(1, len(Hist_CIFAR.history['loss']) + 1)\n",
        "\n",
        "plt.figure(figsize = (15, 5))\n",
        "\n",
        "plt.subplot(1, 2, 1)\n",
        "plt.plot(epochs, Hist_CIFAR.history['loss'], 'b-')\n",
        "plt.plot(epochs, Hist_CIFAR.history['val_loss'], 'r--')\n",
        "plt.title('Training & Validation Loss')\n",
        "plt.xlabel('Epochs')\n",
        "plt.ylabel('Loss')\n",
        "plt.ylim(0, 4.5)\n",
        "plt.legend(['Training Loss', 'Validation Loss'])\n",
        "plt.grid()\n",
        "\n",
        "plt.subplot(1, 2, 2)\n",
        "plt.plot(epochs, Hist_CIFAR.history['accuracy'], 'b-')\n",
        "plt.plot(epochs, Hist_CIFAR.history['val_accuracy'], 'r--')\n",
        "plt.title('Training & Validation Accuracy')\n",
        "plt.xlabel('Epochs')\n",
        "plt.ylabel('Accuracy')\n",
        "plt.legend(['Training Accuracy', 'Validation Accuracy'])\n",
        "plt.grid()\n",
        "\n",
        "plt.show()"
      ],
      "execution_count": null,
      "outputs": [
        {
          "output_type": "display_data",
          "data": {
            "text/plain": [
              "<Figure size 1500x500 with 2 Axes>"
            ],
            "image/png": "[encoded data removed]"
          },
          "metadata": {}
        }
      ]
    },
    {
      "cell_type": "markdown",
      "metadata": {
        "id": "_uJSOLBko7lh"
      },
      "source": [
        "> ## 5) Model Evaluate"
      ]
    },
    {
      "cell_type": "markdown",
      "metadata": {
        "id": "i-TqAB2ALGzZ"
      },
      "source": [
        "* Loss & Accuracy"
      ]
    },
    {
      "cell_type": "code",
      "metadata": {
        "id": "OF30PuZsAxQJ",
        "colab": {
          "base_uri": "https://localhost:8080/"
        },
        "outputId": "f535a357-4ac9-4b73-fb41-6e29dea9c8dd"
      },
      "source": [
        "loss, accuracy = CIFAR.evaluate(X_test, y_test, verbose = 0)\n",
        "\n",
        "print('Loss = {:.5f}'.format(loss))\n",
        "print('Accuracy = {:.5f}'.format(accuracy))"
      ],
      "execution_count": null,
      "outputs": [
        {
          "output_type": "stream",
          "name": "stdout",
          "text": [
            "Loss = 1.53647\n",
            "Accuracy = 0.50650\n"
          ]
        }
      ]
    },
    {
      "cell_type": "markdown",
      "metadata": {
        "id": "sN48I9GrLxOX"
      },
      "source": [
        "#\n",
        "#\n",
        "#\n",
        "# End Of Document\n",
        "#\n",
        "#\n",
        "#"
      ]
    }
  ]
}