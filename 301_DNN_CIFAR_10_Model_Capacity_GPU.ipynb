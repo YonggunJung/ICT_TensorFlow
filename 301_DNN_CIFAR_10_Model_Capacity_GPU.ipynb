{
  "nbformat": 4,
  "nbformat_minor": 0,
  "metadata": {
    "colab": {
      "provenance": [],
      "include_colab_link": true
    },
    "kernelspec": {
      "name": "python3",
      "display_name": "Python 3"
    },
    "accelerator": "GPU"
  },
  "cells": [
    {
      "cell_type": "markdown",
      "metadata": {
        "id": "view-in-github",
        "colab_type": "text"
      },
      "source": [
        "<a href=\"https://colab.research.google.com/github/YonggunJung/ICT_TensorFlow/blob/main/301_DNN_CIFAR_10_Model_Capacity_GPU.ipynb\" target=\"_parent\"><img src=\"https://colab.research.google.com/assets/colab-badge.svg\" alt=\"Open In Colab\"/></a>"
      ]
    },
    {
      "cell_type": "markdown",
      "metadata": {
        "id": "q2Pr7oBdYLdf"
      },
      "source": [
        "# CIFAR 10 - Categorical Classification\n",
        "\n",
        "> ## Model_Capacity"
      ]
    },
    {
      "cell_type": "code",
      "metadata": {
        "id": "RbPgODpVzdHI"
      },
      "source": [
        "import warnings\n",
        "warnings.filterwarnings('ignore')"
      ],
      "execution_count": null,
      "outputs": []
    },
    {
      "cell_type": "markdown",
      "metadata": {
        "id": "H49A769LYp-a"
      },
      "source": [
        "# I. CIFAR 10 Data_Set Load & Review"
      ]
    },
    {
      "cell_type": "markdown",
      "metadata": {
        "id": "vb6EIkRcbPb4"
      },
      "source": [
        "> ## 1) Load CIFAR 10 Data_Set"
      ]
    },
    {
      "cell_type": "code",
      "metadata": {
        "id": "DxstjE8b_6Te",
        "colab": {
          "base_uri": "https://localhost:8080/"
        },
        "outputId": "9ab81b0e-6be2-451a-a03b-ba4d7bf0fe6d"
      },
      "source": [
        "from tensorflow.keras.datasets import cifar10\n",
        "\n",
        "(X_train, y_train), (X_test, y_test) = cifar10.load_data()"
      ],
      "execution_count": null,
      "outputs": [
        {
          "output_type": "stream",
          "name": "stdout",
          "text": [
            "Downloading data from https://www.cs.toronto.edu/~kriz/cifar-10-python.tar.gz\n",
            "170498071/170498071 [==============================] - 4s 0us/step\n"
          ]
        }
      ]
    },
    {
      "cell_type": "markdown",
      "metadata": {
        "id": "Mk9XL5vGHor6"
      },
      "source": [
        "# II. Data Preprocessing"
      ]
    },
    {
      "cell_type": "markdown",
      "metadata": {
        "id": "ec8zU4XCZRUF"
      },
      "source": [
        "> ## 1) Reshape and Normalization"
      ]
    },
    {
      "cell_type": "markdown",
      "metadata": {
        "id": "olI6ZPtEIb8H"
      },
      "source": [
        "* reshape\n",
        " * (50000, 32, 32, 3) to (50000, 3072)"
      ]
    },
    {
      "cell_type": "code",
      "metadata": {
        "id": "8-toPn1ZAmFd",
        "colab": {
          "base_uri": "https://localhost:8080/"
        },
        "outputId": "14d034ba-d356-4a88-fb6f-ea8d27610861"
      },
      "source": [
        "X_train = X_train.reshape((50000, 32 * 32 * 3))\n",
        "X_test = X_test.reshape((10000, 32 * 32 * 3))\n",
        "\n",
        "X_train.shape, X_test.shape"
      ],
      "execution_count": null,
      "outputs": [
        {
          "output_type": "execute_result",
          "data": {
            "text/plain": [
              "((50000, 3072), (10000, 3072))"
            ]
          },
          "metadata": {},
          "execution_count": 3
        }
      ]
    },
    {
      "cell_type": "markdown",
      "metadata": {
        "id": "UN-xPWjYIeWL"
      },
      "source": [
        "* Normalization"
      ]
    },
    {
      "cell_type": "code",
      "metadata": {
        "id": "SoGHuYeFIGBj"
      },
      "source": [
        "X_train = X_train.astype(float) / 255\n",
        "X_test = X_test.astype(float) / 255"
      ],
      "execution_count": null,
      "outputs": []
    },
    {
      "cell_type": "markdown",
      "metadata": {
        "id": "BtSROU80aF12"
      },
      "source": [
        "> ## 2) One Hot Encoding"
      ]
    },
    {
      "cell_type": "code",
      "metadata": {
        "id": "eC48Oym3Ao8E"
      },
      "source": [
        "from tensorflow.keras.utils import to_categorical\n",
        "\n",
        "y_train = to_categorical(y_train)\n",
        "y_test = to_categorical(y_test)"
      ],
      "execution_count": null,
      "outputs": []
    },
    {
      "cell_type": "markdown",
      "source": [
        "> ## 3) train_test_split( )\n",
        "\n",
        "* Train(40,000) vs. Validation(10,000)"
      ],
      "metadata": {
        "id": "5Y0xaGNzYkI2"
      }
    },
    {
      "cell_type": "code",
      "source": [
        "from sklearn.model_selection import train_test_split\n",
        "\n",
        "X_train, X_valid, y_train, y_valid = train_test_split(X_train, y_train,\n",
        "                                                      test_size = 0.2,\n",
        "                                                      random_state = 2045)"
      ],
      "metadata": {
        "id": "zdpfzw3TXRHG"
      },
      "execution_count": null,
      "outputs": []
    },
    {
      "cell_type": "markdown",
      "metadata": {
        "id": "NTwZiSjiop3v"
      },
      "source": [
        "# III. Keras Modeling"
      ]
    },
    {
      "cell_type": "markdown",
      "metadata": {
        "id": "j5CT0TurJCkc"
      },
      "source": [
        "> ## 1) Model Define"
      ]
    },
    {
      "cell_type": "markdown",
      "metadata": {
        "id": "ydDCl0jTJD58"
      },
      "source": [
        "* 모델 신경망 구조 정의\n",
        " - 2개 Hidden Layers & 640개 Nodes\n",
        " - Model Capacity"
      ]
    },
    {
      "cell_type": "code",
      "metadata": {
        "id": "II0DskRdAcHS"
      },
      "source": [
        "from tensorflow.keras import models\n",
        "from tensorflow.keras import layers\n",
        "\n",
        "CIFAR = models.Sequential()\n",
        "CIFAR.add(layers.Dense(512, activation = 'relu', input_shape = (32 * 32 * 3,)))\n",
        "CIFAR.add(layers.Dense(128, activation = 'relu'))\n",
        "CIFAR.add(layers.Dense(10, activation = 'softmax'))"
      ],
      "execution_count": null,
      "outputs": []
    },
    {
      "cell_type": "markdown",
      "metadata": {
        "id": "PqrObAHZJTN8"
      },
      "source": [
        "* 모델 구조 확인"
      ]
    },
    {
      "cell_type": "code",
      "metadata": {
        "id": "wbtjOA4XMTUd",
        "colab": {
          "base_uri": "https://localhost:8080/"
        },
        "outputId": "89176f3f-03d7-41d6-ac08-b3e6f3969ccc"
      },
      "source": [
        "CIFAR.summary()"
      ],
      "execution_count": null,
      "outputs": [
        {
          "output_type": "stream",
          "name": "stdout",
          "text": [
            "Model: \"sequential\"\n",
            "_________________________________________________________________\n",
            " Layer (type)                Output Shape              Param #   \n",
            "=================================================================\n",
            " dense (Dense)               (None, 512)               1573376   \n",
            "                                                                 \n",
            " dense_1 (Dense)             (None, 128)               65664     \n",
            "                                                                 \n",
            " dense_2 (Dense)             (None, 10)                1290      \n",
            "                                                                 \n",
            "=================================================================\n",
            "Total params: 1640330 (6.26 MB)\n",
            "Trainable params: 1640330 (6.26 MB)\n",
            "Non-trainable params: 0 (0.00 Byte)\n",
            "_________________________________________________________________\n"
          ]
        }
      ]
    },
    {
      "cell_type": "markdown",
      "metadata": {
        "id": "tpjBDBeYoyuj"
      },
      "source": [
        "> ## 2) Model Compile"
      ]
    },
    {
      "cell_type": "markdown",
      "metadata": {
        "id": "f3sxkQa0JoUr"
      },
      "source": [
        "* 모델 학습방법 설정"
      ]
    },
    {
      "cell_type": "code",
      "metadata": {
        "id": "AyK_t1qwAi6M"
      },
      "source": [
        "CIFAR.compile(loss = 'categorical_crossentropy',\n",
        "              optimizer = 'adam',\n",
        "              metrics = ['accuracy'])"
      ],
      "execution_count": null,
      "outputs": []
    },
    {
      "cell_type": "markdown",
      "metadata": {
        "id": "umiq4B-Xo3OB"
      },
      "source": [
        "> ## 3) Model Fit"
      ]
    },
    {
      "cell_type": "markdown",
      "metadata": {
        "id": "1KuXREziKMD1"
      },
      "source": [
        "* 약 4분"
      ]
    },
    {
      "cell_type": "code",
      "metadata": {
        "id": "zxwqwAqRAqRP",
        "colab": {
          "base_uri": "https://localhost:8080/"
        },
        "outputId": "41287dd0-12a0-4c78-8b65-4c71bcd8488a"
      },
      "source": [
        "%%time\n",
        "\n",
        "Hist_CIFAR = CIFAR.fit(X_train, y_train,\n",
        "                       epochs = 100,\n",
        "                       batch_size = 128,\n",
        "                       validation_data = (X_valid, y_valid))"
      ],
      "execution_count": null,
      "outputs": [
        {
          "output_type": "stream",
          "name": "stdout",
          "text": [
            "Epoch 1/100\n",
            "313/313 [==============================] - 8s 6ms/step - loss: 1.9791 - accuracy: 0.2979 - val_loss: 1.8134 - val_accuracy: 0.3611\n",
            "Epoch 2/100\n",
            "313/313 [==============================] - 1s 5ms/step - loss: 1.7555 - accuracy: 0.3750 - val_loss: 1.7099 - val_accuracy: 0.3874\n",
            "Epoch 3/100\n",
            "313/313 [==============================] - 2s 5ms/step - loss: 1.6731 - accuracy: 0.4015 - val_loss: 1.6779 - val_accuracy: 0.4048\n",
            "Epoch 4/100\n",
            "313/313 [==============================] - 2s 5ms/step - loss: 1.6186 - accuracy: 0.4223 - val_loss: 1.6247 - val_accuracy: 0.4262\n",
            "Epoch 5/100\n",
            "313/313 [==============================] - 2s 6ms/step - loss: 1.5751 - accuracy: 0.4414 - val_loss: 1.5701 - val_accuracy: 0.4446\n",
            "Epoch 6/100\n",
            "313/313 [==============================] - 2s 6ms/step - loss: 1.5329 - accuracy: 0.4581 - val_loss: 1.5546 - val_accuracy: 0.4465\n",
            "Epoch 7/100\n",
            "313/313 [==============================] - 2s 5ms/step - loss: 1.5001 - accuracy: 0.4690 - val_loss: 1.5255 - val_accuracy: 0.4595\n",
            "Epoch 8/100\n",
            "313/313 [==============================] - 2s 5ms/step - loss: 1.4705 - accuracy: 0.4764 - val_loss: 1.5309 - val_accuracy: 0.4564\n",
            "Epoch 9/100\n",
            "313/313 [==============================] - 1s 5ms/step - loss: 1.4443 - accuracy: 0.4882 - val_loss: 1.4956 - val_accuracy: 0.4700\n",
            "Epoch 10/100\n",
            "313/313 [==============================] - 2s 5ms/step - loss: 1.4268 - accuracy: 0.4913 - val_loss: 1.4923 - val_accuracy: 0.4746\n",
            "Epoch 11/100\n",
            "313/313 [==============================] - 2s 5ms/step - loss: 1.4019 - accuracy: 0.5002 - val_loss: 1.4734 - val_accuracy: 0.4753\n",
            "Epoch 12/100\n",
            "313/313 [==============================] - 2s 6ms/step - loss: 1.3749 - accuracy: 0.5121 - val_loss: 1.4583 - val_accuracy: 0.4860\n",
            "Epoch 13/100\n",
            "313/313 [==============================] - 1s 4ms/step - loss: 1.3617 - accuracy: 0.5178 - val_loss: 1.4403 - val_accuracy: 0.4894\n",
            "Epoch 14/100\n",
            "313/313 [==============================] - 1s 4ms/step - loss: 1.3358 - accuracy: 0.5239 - val_loss: 1.4582 - val_accuracy: 0.4878\n",
            "Epoch 15/100\n",
            "313/313 [==============================] - 1s 5ms/step - loss: 1.3283 - accuracy: 0.5282 - val_loss: 1.4511 - val_accuracy: 0.4940\n",
            "Epoch 16/100\n",
            "313/313 [==============================] - 1s 5ms/step - loss: 1.2994 - accuracy: 0.5389 - val_loss: 1.4701 - val_accuracy: 0.4877\n",
            "Epoch 17/100\n",
            "313/313 [==============================] - 1s 4ms/step - loss: 1.2887 - accuracy: 0.5423 - val_loss: 1.4251 - val_accuracy: 0.5028\n",
            "Epoch 18/100\n",
            "313/313 [==============================] - 1s 5ms/step - loss: 1.2693 - accuracy: 0.5487 - val_loss: 1.4289 - val_accuracy: 0.4981\n",
            "Epoch 19/100\n",
            "313/313 [==============================] - 2s 5ms/step - loss: 1.2499 - accuracy: 0.5564 - val_loss: 1.4472 - val_accuracy: 0.4933\n",
            "Epoch 20/100\n",
            "313/313 [==============================] - 2s 6ms/step - loss: 1.2373 - accuracy: 0.5590 - val_loss: 1.5184 - val_accuracy: 0.4826\n",
            "Epoch 21/100\n",
            "313/313 [==============================] - 2s 5ms/step - loss: 1.2306 - accuracy: 0.5623 - val_loss: 1.5025 - val_accuracy: 0.4809\n",
            "Epoch 22/100\n",
            "313/313 [==============================] - 2s 5ms/step - loss: 1.2114 - accuracy: 0.5690 - val_loss: 1.4357 - val_accuracy: 0.4961\n",
            "Epoch 23/100\n",
            "313/313 [==============================] - 2s 5ms/step - loss: 1.2036 - accuracy: 0.5720 - val_loss: 1.4394 - val_accuracy: 0.5025\n",
            "Epoch 24/100\n",
            "313/313 [==============================] - 2s 5ms/step - loss: 1.1968 - accuracy: 0.5726 - val_loss: 1.4703 - val_accuracy: 0.4878\n",
            "Epoch 25/100\n",
            "313/313 [==============================] - 1s 5ms/step - loss: 1.1729 - accuracy: 0.5808 - val_loss: 1.4232 - val_accuracy: 0.5102\n",
            "Epoch 26/100\n",
            "313/313 [==============================] - 2s 5ms/step - loss: 1.1612 - accuracy: 0.5838 - val_loss: 1.4272 - val_accuracy: 0.5081\n",
            "Epoch 27/100\n",
            "313/313 [==============================] - 2s 5ms/step - loss: 1.1470 - accuracy: 0.5914 - val_loss: 1.4376 - val_accuracy: 0.5088\n",
            "Epoch 28/100\n",
            "313/313 [==============================] - 2s 6ms/step - loss: 1.1415 - accuracy: 0.5933 - val_loss: 1.4183 - val_accuracy: 0.5097\n",
            "Epoch 29/100\n",
            "313/313 [==============================] - 1s 4ms/step - loss: 1.1258 - accuracy: 0.5990 - val_loss: 1.4242 - val_accuracy: 0.5097\n",
            "Epoch 30/100\n",
            "313/313 [==============================] - 2s 5ms/step - loss: 1.1132 - accuracy: 0.6041 - val_loss: 1.4471 - val_accuracy: 0.5052\n",
            "Epoch 31/100\n",
            "313/313 [==============================] - 1s 4ms/step - loss: 1.0924 - accuracy: 0.6098 - val_loss: 1.4644 - val_accuracy: 0.5140\n",
            "Epoch 32/100\n",
            "313/313 [==============================] - 1s 5ms/step - loss: 1.0915 - accuracy: 0.6125 - val_loss: 1.4453 - val_accuracy: 0.5129\n",
            "Epoch 33/100\n",
            "313/313 [==============================] - 1s 5ms/step - loss: 1.0787 - accuracy: 0.6159 - val_loss: 1.4685 - val_accuracy: 0.5060\n",
            "Epoch 34/100\n",
            "313/313 [==============================] - 1s 4ms/step - loss: 1.0705 - accuracy: 0.6199 - val_loss: 1.4757 - val_accuracy: 0.4991\n",
            "Epoch 35/100\n",
            "313/313 [==============================] - 2s 5ms/step - loss: 1.0541 - accuracy: 0.6242 - val_loss: 1.4354 - val_accuracy: 0.5148\n",
            "Epoch 36/100\n",
            "313/313 [==============================] - 2s 6ms/step - loss: 1.0495 - accuracy: 0.6281 - val_loss: 1.4663 - val_accuracy: 0.5094\n",
            "Epoch 37/100\n",
            "313/313 [==============================] - 2s 5ms/step - loss: 1.0261 - accuracy: 0.6359 - val_loss: 1.4933 - val_accuracy: 0.5122\n",
            "Epoch 38/100\n",
            "313/313 [==============================] - 2s 5ms/step - loss: 1.0267 - accuracy: 0.6323 - val_loss: 1.4783 - val_accuracy: 0.5159\n",
            "Epoch 39/100\n",
            "313/313 [==============================] - 1s 5ms/step - loss: 1.0151 - accuracy: 0.6397 - val_loss: 1.5239 - val_accuracy: 0.5001\n",
            "Epoch 40/100\n",
            "313/313 [==============================] - 2s 5ms/step - loss: 1.0026 - accuracy: 0.6434 - val_loss: 1.5009 - val_accuracy: 0.5042\n",
            "Epoch 41/100\n",
            "313/313 [==============================] - 1s 4ms/step - loss: 0.9955 - accuracy: 0.6464 - val_loss: 1.4853 - val_accuracy: 0.5102\n",
            "Epoch 42/100\n",
            "313/313 [==============================] - 1s 5ms/step - loss: 0.9777 - accuracy: 0.6521 - val_loss: 1.5092 - val_accuracy: 0.5042\n",
            "Epoch 43/100\n",
            "313/313 [==============================] - 2s 5ms/step - loss: 0.9828 - accuracy: 0.6498 - val_loss: 1.5103 - val_accuracy: 0.5067\n",
            "Epoch 44/100\n",
            "313/313 [==============================] - 2s 6ms/step - loss: 0.9670 - accuracy: 0.6554 - val_loss: 1.5049 - val_accuracy: 0.5218\n",
            "Epoch 45/100\n",
            "313/313 [==============================] - 2s 5ms/step - loss: 0.9527 - accuracy: 0.6580 - val_loss: 1.5328 - val_accuracy: 0.5099\n",
            "Epoch 46/100\n",
            "313/313 [==============================] - 2s 5ms/step - loss: 0.9471 - accuracy: 0.6615 - val_loss: 1.5392 - val_accuracy: 0.5058\n",
            "Epoch 47/100\n",
            "313/313 [==============================] - 1s 4ms/step - loss: 0.9367 - accuracy: 0.6668 - val_loss: 1.5892 - val_accuracy: 0.5103\n",
            "Epoch 48/100\n",
            "313/313 [==============================] - 2s 5ms/step - loss: 0.9311 - accuracy: 0.6696 - val_loss: 1.5644 - val_accuracy: 0.5096\n",
            "Epoch 49/100\n",
            "313/313 [==============================] - 2s 6ms/step - loss: 0.9090 - accuracy: 0.6773 - val_loss: 1.5574 - val_accuracy: 0.5099\n",
            "Epoch 50/100\n",
            "313/313 [==============================] - 1s 5ms/step - loss: 0.9216 - accuracy: 0.6717 - val_loss: 1.6490 - val_accuracy: 0.5032\n",
            "Epoch 51/100\n",
            "313/313 [==============================] - 2s 6ms/step - loss: 0.9146 - accuracy: 0.6749 - val_loss: 1.5833 - val_accuracy: 0.5065\n",
            "Epoch 52/100\n",
            "313/313 [==============================] - 2s 5ms/step - loss: 0.9012 - accuracy: 0.6799 - val_loss: 1.5964 - val_accuracy: 0.5021\n",
            "Epoch 53/100\n",
            "313/313 [==============================] - 1s 4ms/step - loss: 0.8918 - accuracy: 0.6806 - val_loss: 1.6200 - val_accuracy: 0.5062\n",
            "Epoch 54/100\n",
            "313/313 [==============================] - 1s 4ms/step - loss: 0.8764 - accuracy: 0.6885 - val_loss: 1.6112 - val_accuracy: 0.5039\n",
            "Epoch 55/100\n",
            "313/313 [==============================] - 1s 4ms/step - loss: 0.8681 - accuracy: 0.6906 - val_loss: 1.6628 - val_accuracy: 0.4967\n",
            "Epoch 56/100\n",
            "313/313 [==============================] - 1s 4ms/step - loss: 0.8742 - accuracy: 0.6892 - val_loss: 1.6589 - val_accuracy: 0.5009\n",
            "Epoch 57/100\n",
            "313/313 [==============================] - 1s 4ms/step - loss: 0.8639 - accuracy: 0.6912 - val_loss: 1.6445 - val_accuracy: 0.5011\n",
            "Epoch 58/100\n",
            "313/313 [==============================] - 1s 4ms/step - loss: 0.8428 - accuracy: 0.7004 - val_loss: 1.6742 - val_accuracy: 0.5126\n",
            "Epoch 59/100\n",
            "313/313 [==============================] - 2s 5ms/step - loss: 0.8419 - accuracy: 0.6984 - val_loss: 1.6939 - val_accuracy: 0.5002\n",
            "Epoch 60/100\n",
            "313/313 [==============================] - 2s 6ms/step - loss: 0.8435 - accuracy: 0.6957 - val_loss: 1.7125 - val_accuracy: 0.4929\n",
            "Epoch 61/100\n",
            "313/313 [==============================] - 1s 5ms/step - loss: 0.8258 - accuracy: 0.7043 - val_loss: 1.6946 - val_accuracy: 0.5038\n",
            "Epoch 62/100\n",
            "313/313 [==============================] - 1s 4ms/step - loss: 0.8297 - accuracy: 0.7038 - val_loss: 1.7445 - val_accuracy: 0.5004\n",
            "Epoch 63/100\n",
            "313/313 [==============================] - 2s 5ms/step - loss: 0.8163 - accuracy: 0.7082 - val_loss: 1.7056 - val_accuracy: 0.4944\n",
            "Epoch 64/100\n",
            "313/313 [==============================] - 2s 5ms/step - loss: 0.8071 - accuracy: 0.7128 - val_loss: 1.6935 - val_accuracy: 0.5058\n",
            "Epoch 65/100\n",
            "313/313 [==============================] - 1s 5ms/step - loss: 0.8013 - accuracy: 0.7134 - val_loss: 1.7175 - val_accuracy: 0.5007\n",
            "Epoch 66/100\n",
            "313/313 [==============================] - 1s 5ms/step - loss: 0.7937 - accuracy: 0.7165 - val_loss: 1.7259 - val_accuracy: 0.5055\n",
            "Epoch 67/100\n",
            "313/313 [==============================] - 2s 5ms/step - loss: 0.7836 - accuracy: 0.7210 - val_loss: 1.7795 - val_accuracy: 0.5054\n",
            "Epoch 68/100\n",
            "313/313 [==============================] - 2s 6ms/step - loss: 0.7763 - accuracy: 0.7240 - val_loss: 1.7660 - val_accuracy: 0.5013\n",
            "Epoch 69/100\n",
            "313/313 [==============================] - 2s 5ms/step - loss: 0.7852 - accuracy: 0.7200 - val_loss: 1.7462 - val_accuracy: 0.5059\n",
            "Epoch 70/100\n",
            "313/313 [==============================] - 2s 5ms/step - loss: 0.7587 - accuracy: 0.7303 - val_loss: 1.7865 - val_accuracy: 0.5062\n",
            "Epoch 71/100\n",
            "313/313 [==============================] - 1s 4ms/step - loss: 0.7613 - accuracy: 0.7276 - val_loss: 1.7958 - val_accuracy: 0.5025\n",
            "Epoch 72/100\n",
            "313/313 [==============================] - 2s 5ms/step - loss: 0.7628 - accuracy: 0.7267 - val_loss: 1.8004 - val_accuracy: 0.5069\n",
            "Epoch 73/100\n",
            "313/313 [==============================] - 1s 5ms/step - loss: 0.7488 - accuracy: 0.7313 - val_loss: 1.7959 - val_accuracy: 0.4958\n",
            "Epoch 74/100\n",
            "313/313 [==============================] - 1s 5ms/step - loss: 0.7580 - accuracy: 0.7304 - val_loss: 1.8224 - val_accuracy: 0.5038\n",
            "Epoch 75/100\n",
            "313/313 [==============================] - 2s 5ms/step - loss: 0.7412 - accuracy: 0.7357 - val_loss: 1.8141 - val_accuracy: 0.5079\n",
            "Epoch 76/100\n",
            "313/313 [==============================] - 2s 6ms/step - loss: 0.7326 - accuracy: 0.7403 - val_loss: 1.8635 - val_accuracy: 0.5028\n",
            "Epoch 77/100\n",
            "313/313 [==============================] - 1s 5ms/step - loss: 0.7233 - accuracy: 0.7404 - val_loss: 1.8553 - val_accuracy: 0.5025\n",
            "Epoch 78/100\n",
            "313/313 [==============================] - 2s 5ms/step - loss: 0.7147 - accuracy: 0.7463 - val_loss: 1.8776 - val_accuracy: 0.5071\n",
            "Epoch 79/100\n",
            "313/313 [==============================] - 1s 4ms/step - loss: 0.7148 - accuracy: 0.7445 - val_loss: 1.9281 - val_accuracy: 0.4997\n",
            "Epoch 80/100\n",
            "313/313 [==============================] - 2s 5ms/step - loss: 0.7157 - accuracy: 0.7459 - val_loss: 1.8944 - val_accuracy: 0.5046\n",
            "Epoch 81/100\n",
            "313/313 [==============================] - 1s 4ms/step - loss: 0.7003 - accuracy: 0.7507 - val_loss: 1.9373 - val_accuracy: 0.5001\n",
            "Epoch 82/100\n",
            "313/313 [==============================] - 1s 5ms/step - loss: 0.7053 - accuracy: 0.7458 - val_loss: 1.9228 - val_accuracy: 0.4927\n",
            "Epoch 83/100\n",
            "313/313 [==============================] - 2s 5ms/step - loss: 0.6863 - accuracy: 0.7528 - val_loss: 1.9462 - val_accuracy: 0.5030\n",
            "Epoch 84/100\n",
            "313/313 [==============================] - 2s 6ms/step - loss: 0.6932 - accuracy: 0.7513 - val_loss: 1.9015 - val_accuracy: 0.5029\n",
            "Epoch 85/100\n",
            "313/313 [==============================] - 1s 5ms/step - loss: 0.6858 - accuracy: 0.7546 - val_loss: 2.0233 - val_accuracy: 0.4966\n",
            "Epoch 86/100\n",
            "313/313 [==============================] - 1s 4ms/step - loss: 0.6748 - accuracy: 0.7575 - val_loss: 1.9724 - val_accuracy: 0.5006\n",
            "Epoch 87/100\n",
            "313/313 [==============================] - 2s 5ms/step - loss: 0.6816 - accuracy: 0.7573 - val_loss: 2.0420 - val_accuracy: 0.4982\n",
            "Epoch 88/100\n",
            "313/313 [==============================] - 1s 4ms/step - loss: 0.6793 - accuracy: 0.7559 - val_loss: 2.0696 - val_accuracy: 0.4885\n",
            "Epoch 89/100\n",
            "313/313 [==============================] - 1s 4ms/step - loss: 0.6686 - accuracy: 0.7599 - val_loss: 2.0306 - val_accuracy: 0.4975\n",
            "Epoch 90/100\n",
            "313/313 [==============================] - 1s 5ms/step - loss: 0.6630 - accuracy: 0.7634 - val_loss: 1.9935 - val_accuracy: 0.4980\n",
            "Epoch 91/100\n",
            "313/313 [==============================] - 2s 5ms/step - loss: 0.6495 - accuracy: 0.7668 - val_loss: 2.0531 - val_accuracy: 0.4834\n",
            "Epoch 92/100\n",
            "313/313 [==============================] - 2s 6ms/step - loss: 0.6519 - accuracy: 0.7679 - val_loss: 2.0533 - val_accuracy: 0.4862\n",
            "Epoch 93/100\n",
            "313/313 [==============================] - 1s 5ms/step - loss: 0.6493 - accuracy: 0.7679 - val_loss: 2.1142 - val_accuracy: 0.4927\n",
            "Epoch 94/100\n",
            "313/313 [==============================] - 1s 5ms/step - loss: 0.6358 - accuracy: 0.7736 - val_loss: 2.0638 - val_accuracy: 0.5047\n",
            "Epoch 95/100\n",
            "313/313 [==============================] - 1s 5ms/step - loss: 0.6327 - accuracy: 0.7732 - val_loss: 2.1042 - val_accuracy: 0.4966\n",
            "Epoch 96/100\n",
            "313/313 [==============================] - 1s 5ms/step - loss: 0.6287 - accuracy: 0.7758 - val_loss: 2.1706 - val_accuracy: 0.4913\n",
            "Epoch 97/100\n",
            "313/313 [==============================] - 2s 5ms/step - loss: 0.6342 - accuracy: 0.7719 - val_loss: 2.0685 - val_accuracy: 0.5015\n",
            "Epoch 98/100\n",
            "313/313 [==============================] - 1s 5ms/step - loss: 0.6203 - accuracy: 0.7763 - val_loss: 2.1070 - val_accuracy: 0.4925\n",
            "Epoch 99/100\n",
            "313/313 [==============================] - 2s 5ms/step - loss: 0.6220 - accuracy: 0.7793 - val_loss: 2.1249 - val_accuracy: 0.4951\n",
            "Epoch 100/100\n",
            "313/313 [==============================] - 2s 6ms/step - loss: 0.6058 - accuracy: 0.7840 - val_loss: 2.2067 - val_accuracy: 0.4934\n",
            "CPU times: user 2min 33s, sys: 13.9 s, total: 2min 47s\n",
            "Wall time: 3min 25s\n"
          ]
        }
      ]
    },
    {
      "cell_type": "markdown",
      "metadata": {
        "id": "FnnIyFtNKhbD"
      },
      "source": [
        "> ## 4) 학습 결과 시각화"
      ]
    },
    {
      "cell_type": "markdown",
      "metadata": {
        "id": "YgXRhVauKqOm"
      },
      "source": [
        "* Loss Visualization"
      ]
    },
    {
      "cell_type": "code",
      "metadata": {
        "id": "OQ4ke8BbKi50",
        "colab": {
          "base_uri": "https://localhost:8080/",
          "height": 487
        },
        "outputId": "1f0597d7-c0e5-4100-c4df-47dea01e9035"
      },
      "source": [
        "import matplotlib.pyplot as plt\n",
        "\n",
        "epochs = range(1, len(Hist_CIFAR.history['loss']) + 1)\n",
        "\n",
        "plt.figure(figsize = (15, 5))\n",
        "\n",
        "plt.subplot(1, 2, 1)\n",
        "plt.plot(epochs, Hist_CIFAR.history['loss'], 'b-')\n",
        "plt.plot(epochs, Hist_CIFAR.history['val_loss'], 'r--')\n",
        "plt.title('Training & Validation Loss')\n",
        "plt.xlabel('Epochs')\n",
        "plt.ylabel('Loss')\n",
        "plt.ylim(0, 4.5)\n",
        "plt.legend(['Training Loss', 'Validation Loss'])\n",
        "plt.grid()\n",
        "\n",
        "plt.subplot(1, 2, 2)\n",
        "plt.plot(epochs, Hist_CIFAR.history['accuracy'], 'b-')\n",
        "plt.plot(epochs, Hist_CIFAR.history['val_accuracy'], 'r--')\n",
        "plt.title('Training & Validation Accuracy')\n",
        "plt.xlabel('Epochs')\n",
        "plt.ylabel('Accuracy')\n",
        "plt.legend(['Training Accuracy', 'Validation Accuracy'])\n",
        "plt.grid()\n",
        "\n",
        "plt.show()"
      ],
      "execution_count": null,
      "outputs": [
        {
          "output_type": "display_data",
          "data": {
            "text/plain": [
              "<Figure size 1500x500 with 2 Axes>"
            ],
            "image/png": "[encoded data removed]"
          },
          "metadata": {}
        }
      ]
    },
    {
      "cell_type": "markdown",
      "metadata": {
        "id": "_uJSOLBko7lh"
      },
      "source": [
        "> ## 5) Model Evaluate"
      ]
    },
    {
      "cell_type": "markdown",
      "metadata": {
        "id": "i-TqAB2ALGzZ"
      },
      "source": [
        "* Loss & Accuracy"
      ]
    },
    {
      "cell_type": "code",
      "metadata": {
        "id": "OF30PuZsAxQJ",
        "colab": {
          "base_uri": "https://localhost:8080/"
        },
        "outputId": "fbcc8fbc-654c-4d4e-cf4e-5d1adc0876c3"
      },
      "source": [
        "loss, accuracy = CIFAR.evaluate(X_test, y_test, verbose = 0)\n",
        "\n",
        "print('Loss = {:.5f}'.format(loss))\n",
        "print('Accuracy = {:.5f}'.format(accuracy))"
      ],
      "execution_count": null,
      "outputs": [
        {
          "output_type": "stream",
          "name": "stdout",
          "text": [
            "Loss = 2.24532\n",
            "Accuracy = 0.48580\n"
          ]
        }
      ]
    },
    {
      "cell_type": "markdown",
      "metadata": {
        "id": "sN48I9GrLxOX"
      },
      "source": [
        "#\n",
        "#\n",
        "#\n",
        "# End Of Document\n",
        "#\n",
        "#\n",
        "#"
      ]
    }
  ]
}