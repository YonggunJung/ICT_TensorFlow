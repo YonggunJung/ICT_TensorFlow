{
  "nbformat": 4,
  "nbformat_minor": 0,
  "metadata": {
    "colab": {
      "provenance": [],
      "include_colab_link": true
    },
    "kernelspec": {
      "name": "python3",
      "display_name": "Python 3"
    },
    "accelerator": "GPU"
  },
  "cells": [
    {
      "cell_type": "markdown",
      "metadata": {
        "id": "view-in-github",
        "colab_type": "text"
      },
      "source": [
        "<a href=\"https://colab.research.google.com/github/YonggunJung/ICT_TensorFlow/blob/main/201_CNN_Dogs_and_Cats_Github_GPU.ipynb\" target=\"_parent\"><img src=\"https://colab.research.google.com/assets/colab-badge.svg\" alt=\"Open In Colab\"/></a>"
      ]
    },
    {
      "cell_type": "markdown",
      "metadata": {
        "id": "q2Pr7oBdYLdf"
      },
      "source": [
        "# 이미지 데이터 셋을 이용한 CNN Modeling\n",
        "> # Github\n",
        "## Dogs and Cats Image_Data\n",
        "* Train_Data : 2000(1000_Dogs, 1000_Cats)\n",
        "* Valid_Data : 1000(500_Dogs, 500_Cats)\n",
        "* Test_Data : 1000(500_Dogs, 500_Cats)"
      ]
    },
    {
      "cell_type": "code",
      "metadata": {
        "id": "RbPgODpVzdHI"
      },
      "source": [
        "import warnings\n",
        "warnings.filterwarnings('ignore')"
      ],
      "execution_count": null,
      "outputs": []
    },
    {
      "cell_type": "markdown",
      "source": [
        "* Import TensorFlow"
      ],
      "metadata": {
        "id": "yI8cuQkfxyfb"
      }
    },
    {
      "cell_type": "code",
      "source": [
        "import tensorflow as tf\n",
        "\n",
        "tf.__version__"
      ],
      "metadata": {
        "colab": {
          "base_uri": "https://localhost:8080/",
          "height": 35
        },
        "id": "b0whlIaSx2Yq",
        "outputId": "f98215ae-d97d-440d-c218-2d706bc2107f"
      },
      "execution_count": null,
      "outputs": [
        {
          "output_type": "execute_result",
          "data": {
            "text/plain": [
              "'2.12.0'"
            ],
            "application/vnd.google.colaboratory.intrinsic+json": {
              "type": "string"
            }
          },
          "metadata": {},
          "execution_count": 2
        }
      ]
    },
    {
      "cell_type": "markdown",
      "metadata": {
        "id": "6d1FeKK1CgqG"
      },
      "source": [
        "# I. wget From Github\n",
        "* 'dogs_and_cats_small.zip' 파일 다운로드"
      ]
    },
    {
      "cell_type": "code",
      "source": [
        "!wget https://raw.githubusercontent.com/rusita-ai/pyData/master/dogs_and_cats_small.zip"
      ],
      "metadata": {
        "colab": {
          "base_uri": "https://localhost:8080/"
        },
        "id": "f32hYtuOh4F4",
        "outputId": "7dd2369c-bf5e-4d18-88f9-a285b34e18b4"
      },
      "execution_count": null,
      "outputs": [
        {
          "output_type": "stream",
          "name": "stdout",
          "text": [
            "--2023-04-04 07:57:44--  https://raw.githubusercontent.com/rusita-ai/pyData/master/dogs_and_cats_small.zip\n",
            "Resolving raw.githubusercontent.com (raw.githubusercontent.com)... 185.199.108.133, 185.199.109.133, 185.199.110.133, ...\n",
            "Connecting to raw.githubusercontent.com (raw.githubusercontent.com)|185.199.108.133|:443... connected.\n",
            "HTTP request sent, awaiting response... 200 OK\n",
            "Length: 90618980 (86M) [application/zip]\n",
            "Saving to: ‘dogs_and_cats_small.zip’\n",
            "\n",
            "dogs_and_cats_small 100%[===================>]  86.42M   146MB/s    in 0.6s    \n",
            "\n",
            "2023-04-04 07:57:51 (146 MB/s) - ‘dogs_and_cats_small.zip’ saved [90618980/90618980]\n",
            "\n"
          ]
        }
      ]
    },
    {
      "cell_type": "markdown",
      "metadata": {
        "id": "O0njEDt2CgqJ"
      },
      "source": [
        "* 다운로드 결과 확인"
      ]
    },
    {
      "cell_type": "code",
      "metadata": {
        "colab": {
          "base_uri": "https://localhost:8080/"
        },
        "outputId": "7c05354e-84ba-47a6-83a7-373b41715c72",
        "id": "A9XdvsnVCgqK"
      },
      "source": [
        "!ls -l"
      ],
      "execution_count": null,
      "outputs": [
        {
          "output_type": "stream",
          "name": "stdout",
          "text": [
            "total 88500\n",
            "-rw-r--r-- 1 root root 90618980 Apr  4 07:57 dogs_and_cats_small.zip\n",
            "drwxr-xr-x 1 root root     4096 Mar 31 13:36 sample_data\n"
          ]
        }
      ]
    },
    {
      "cell_type": "markdown",
      "metadata": {
        "id": "1DyFdyVxFyHK"
      },
      "source": [
        "# II. Data Preprocessing"
      ]
    },
    {
      "cell_type": "markdown",
      "metadata": {
        "id": "D9zdBsGKnLUo"
      },
      "source": [
        "> ## 1) Unzip 'dogs_and_cats_small.zip'"
      ]
    },
    {
      "cell_type": "code",
      "metadata": {
        "id": "WkuHaDXcnUtY"
      },
      "source": [
        "!unzip -q /content/dogs_and_cats_small.zip"
      ],
      "execution_count": null,
      "outputs": []
    },
    {
      "cell_type": "markdown",
      "source": [
        "* 학습 데이터 확인"
      ],
      "metadata": {
        "id": "nYRGJ9bpp4pF"
      }
    },
    {
      "cell_type": "code",
      "metadata": {
        "colab": {
          "base_uri": "https://localhost:8080/"
        },
        "id": "QBJ4dEK4ewii",
        "outputId": "967aaee3-ae79-4aab-fad1-783da5f87e11"
      },
      "source": [
        "!ls -l"
      ],
      "execution_count": null,
      "outputs": [
        {
          "output_type": "stream",
          "name": "stdout",
          "text": [
            "total 88512\n",
            "-rw-r--r-- 1 root root 90618980 Apr  4 07:57 dogs_and_cats_small.zip\n",
            "drwxr-xr-x 1 root root     4096 Mar 31 13:36 sample_data\n",
            "drwxr-xr-x 4 root root     4096 Apr  4 07:57 test\n",
            "drwxr-xr-x 4 root root     4096 Apr  4 07:57 train\n",
            "drwxr-xr-x 4 root root     4096 Apr  4 07:57 validation\n"
          ]
        }
      ]
    },
    {
      "cell_type": "markdown",
      "metadata": {
        "id": "H49A769LYp-a"
      },
      "source": [
        "> ## 2) Image_File Directory Setting"
      ]
    },
    {
      "cell_type": "markdown",
      "metadata": {
        "id": "fwUMpMCYGB7Z"
      },
      "source": [
        "* train_dir\n",
        "* valid_dir\n",
        "* test_dir"
      ]
    },
    {
      "cell_type": "code",
      "metadata": {
        "id": "DxstjE8b_6Te"
      },
      "source": [
        "train_dir = '/content/train'\n",
        "valid_dir = '/content/validation'\n",
        "test_dir  = '/content/test'"
      ],
      "execution_count": null,
      "outputs": []
    },
    {
      "cell_type": "markdown",
      "metadata": {
        "id": "Mk9XL5vGHor6"
      },
      "source": [
        "> ## 3) ImageDataGenerator( ) & flow_from_directory( )"
      ]
    },
    {
      "cell_type": "markdown",
      "metadata": {
        "id": "_UbiVo2EGlOt"
      },
      "source": [
        "* Normalization\n",
        " * ImageDataGenerator( )\n",
        "* Resizing & Generator\n",
        " * flow_from_directory( )"
      ]
    },
    {
      "cell_type": "code",
      "metadata": {
        "id": "eC48Oym3Ao8E",
        "colab": {
          "base_uri": "https://localhost:8080/"
        },
        "outputId": "dcf87d0c-cef0-442d-b528-895e14674cc6"
      },
      "source": [
        "from tensorflow.keras.preprocessing.image import ImageDataGenerator\n",
        "\n",
        "train_datagen = ImageDataGenerator(rescale = 1./255)\n",
        "valid_datagen = ImageDataGenerator(rescale = 1./255)\n",
        "\n",
        "# 사람 손으로 개와 고양이를 나눠야 한다\n",
        "train_generator = train_datagen.flow_from_directory(\n",
        "                  train_dir,\n",
        "                  target_size = (150, 150),\n",
        "                  batch_size = 20,\n",
        "                  class_mode = 'binary')   # 2진 분류라서 바이너리, 3개 이상이면 카테고리칼\n",
        "\n",
        "valid_generator = valid_datagen.flow_from_directory(\n",
        "                  valid_dir,\n",
        "                  target_size = (150, 150),\n",
        "                  batch_size = 20,\n",
        "                  class_mode = 'binary')"
      ],
      "execution_count": null,
      "outputs": [
        {
          "output_type": "stream",
          "name": "stdout",
          "text": [
            "Found 2000 images belonging to 2 classes.\n",
            "Found 1000 images belonging to 2 classes.\n"
          ]
        }
      ]
    },
    {
      "cell_type": "markdown",
      "metadata": {
        "id": "vCpCB_giJbZr"
      },
      "source": [
        "> ## 4) Test train_generator"
      ]
    },
    {
      "cell_type": "code",
      "metadata": {
        "id": "NW5rHWtcJnTq",
        "colab": {
          "base_uri": "https://localhost:8080/"
        },
        "outputId": "32537d87-2fc2-4e2c-bd2b-55bf34912aba"
      },
      "source": [
        "for data_batch, labels_batch in train_generator:\n",
        "    print('배치 데이터 크기:', data_batch.shape)\n",
        "    print('배치 레이블 크기:', labels_batch.shape)\n",
        "    break"
      ],
      "execution_count": null,
      "outputs": [
        {
          "output_type": "stream",
          "name": "stdout",
          "text": [
            "배치 데이터 크기: (20, 150, 150, 3)\n",
            "배치 레이블 크기: (20,)\n"
          ]
        }
      ]
    },
    {
      "cell_type": "code",
      "metadata": {
        "colab": {
          "base_uri": "https://localhost:8080/"
        },
        "id": "-OcEigJpk7Bm",
        "outputId": "3276d73a-4a20-4a3c-d9fe-81b44abf9040"
      },
      "source": [
        "labels_batch"
      ],
      "execution_count": null,
      "outputs": [
        {
          "output_type": "execute_result",
          "data": {
            "text/plain": [
              "array([1., 1., 0., 1., 1., 1., 1., 0., 0., 0., 1., 1., 1., 0., 1., 1., 0.,\n",
              "       1., 1., 0.], dtype=float32)"
            ]
          },
          "metadata": {},
          "execution_count": 10
        }
      ]
    },
    {
      "cell_type": "markdown",
      "metadata": {
        "id": "NTwZiSjiop3v"
      },
      "source": [
        "# III. CNN Keras Modeling"
      ]
    },
    {
      "cell_type": "markdown",
      "metadata": {
        "id": "j5CT0TurJCkc"
      },
      "source": [
        "> ## 1) Model Define"
      ]
    },
    {
      "cell_type": "markdown",
      "metadata": {
        "id": "ydDCl0jTJD58"
      },
      "source": [
        "* Feature Extraction & Classification"
      ]
    },
    {
      "cell_type": "code",
      "metadata": {
        "id": "II0DskRdAcHS"
      },
      "source": [
        "from tensorflow.keras import layers\n",
        "from tensorflow.keras import models\n",
        "\n",
        "model = models.Sequential()\n",
        "model.add(layers.Conv2D(32, (3, 3), activation = 'relu', input_shape = (150, 150, 3)))\n",
        "model.add(layers.MaxPooling2D((2, 2)))\n",
        "model.add(layers.Conv2D(64, (3, 3), activation = 'relu'))\n",
        "model.add(layers.MaxPooling2D((2, 2)))\n",
        "model.add(layers.Conv2D(128, (3, 3), activation = 'relu'))\n",
        "model.add(layers.MaxPooling2D((2, 2)))\n",
        "model.add(layers.Conv2D(128, (3, 3), activation = 'relu'))\n",
        "model.add(layers.MaxPooling2D((2, 2)))\n",
        "\n",
        "model.add(layers.Flatten())\n",
        "model.add(layers.Dense(512, activation = 'relu'))\n",
        "model.add(layers.Dense(1, activation = 'sigmoid'))"
      ],
      "execution_count": null,
      "outputs": []
    },
    {
      "cell_type": "code",
      "metadata": {
        "id": "wbtjOA4XMTUd",
        "colab": {
          "base_uri": "https://localhost:8080/"
        },
        "outputId": "2cc336b9-4ecb-4e43-8eee-b2d822d1cbc0"
      },
      "source": [
        "model.summary()"
      ],
      "execution_count": null,
      "outputs": [
        {
          "output_type": "stream",
          "name": "stdout",
          "text": [
            "Model: \"sequential\"\n",
            "_________________________________________________________________\n",
            " Layer (type)                Output Shape              Param #   \n",
            "=================================================================\n",
            " conv2d (Conv2D)             (None, 148, 148, 32)      896       \n",
            "                                                                 \n",
            " max_pooling2d (MaxPooling2D  (None, 74, 74, 32)       0         \n",
            " )                                                               \n",
            "                                                                 \n",
            " conv2d_1 (Conv2D)           (None, 72, 72, 64)        18496     \n",
            "                                                                 \n",
            " max_pooling2d_1 (MaxPooling  (None, 36, 36, 64)       0         \n",
            " 2D)                                                             \n",
            "                                                                 \n",
            " conv2d_2 (Conv2D)           (None, 34, 34, 128)       73856     \n",
            "                                                                 \n",
            " max_pooling2d_2 (MaxPooling  (None, 17, 17, 128)      0         \n",
            " 2D)                                                             \n",
            "                                                                 \n",
            " conv2d_3 (Conv2D)           (None, 15, 15, 128)       147584    \n",
            "                                                                 \n",
            " max_pooling2d_3 (MaxPooling  (None, 7, 7, 128)        0         \n",
            " 2D)                                                             \n",
            "                                                                 \n",
            " flatten (Flatten)           (None, 6272)              0         \n",
            "                                                                 \n",
            " dense (Dense)               (None, 512)               3211776   \n",
            "                                                                 \n",
            " dense_1 (Dense)             (None, 1)                 513       \n",
            "                                                                 \n",
            "=================================================================\n",
            "Total params: 3,453,121\n",
            "Trainable params: 3,453,121\n",
            "Non-trainable params: 0\n",
            "_________________________________________________________________\n"
          ]
        }
      ]
    },
    {
      "cell_type": "markdown",
      "metadata": {
        "id": "tpjBDBeYoyuj"
      },
      "source": [
        "> ## 2) Model Compile"
      ]
    },
    {
      "cell_type": "markdown",
      "metadata": {
        "id": "f3sxkQa0JoUr"
      },
      "source": [
        "* 모델 학습방법 설정"
      ]
    },
    {
      "cell_type": "code",
      "metadata": {
        "id": "AyK_t1qwAi6M"
      },
      "source": [
        "model.compile(loss = 'binary_crossentropy',\n",
        "              optimizer = 'adam',\n",
        "              metrics = ['accuracy'])"
      ],
      "execution_count": null,
      "outputs": []
    },
    {
      "cell_type": "markdown",
      "metadata": {
        "id": "umiq4B-Xo3OB"
      },
      "source": [
        "> ## 3) Model Fit"
      ]
    },
    {
      "cell_type": "markdown",
      "metadata": {
        "id": "1KuXREziKMD1"
      },
      "source": [
        "* 모델 학습 수행\n",
        " * 약 11분"
      ]
    },
    {
      "cell_type": "code",
      "metadata": {
        "id": "zxwqwAqRAqRP",
        "colab": {
          "base_uri": "https://localhost:8080/"
        },
        "outputId": "d4cb3f49-84be-489a-c3b9-b09f28b8f0a2"
      },
      "source": [
        "%%time\n",
        "\n",
        "Hist_dandc = model.fit(train_generator,\n",
        "                       steps_per_epoch = 100,\n",
        "                       epochs = 60,\n",
        "                       validation_data = valid_generator,\n",
        "                       validation_steps = 50)"
      ],
      "execution_count": null,
      "outputs": [
        {
          "output_type": "stream",
          "name": "stdout",
          "text": [
            "Epoch 1/60\n",
            "100/100 [==============================] - 23s 109ms/step - loss: 0.6952 - accuracy: 0.5020 - val_loss: 0.6920 - val_accuracy: 0.5000\n",
            "Epoch 2/60\n",
            "100/100 [==============================] - 11s 105ms/step - loss: 0.6925 - accuracy: 0.5235 - val_loss: 0.6931 - val_accuracy: 0.5000\n",
            "Epoch 3/60\n",
            "100/100 [==============================] - 11s 107ms/step - loss: 0.6910 - accuracy: 0.5310 - val_loss: 0.7321 - val_accuracy: 0.5000\n",
            "Epoch 4/60\n",
            "100/100 [==============================] - 11s 107ms/step - loss: 0.6931 - accuracy: 0.5150 - val_loss: 0.6934 - val_accuracy: 0.5000\n",
            "Epoch 5/60\n",
            "100/100 [==============================] - 10s 103ms/step - loss: 0.6936 - accuracy: 0.5150 - val_loss: 0.6845 - val_accuracy: 0.5470\n",
            "Epoch 6/60\n",
            "100/100 [==============================] - 9s 93ms/step - loss: 0.6781 - accuracy: 0.5535 - val_loss: 0.6698 - val_accuracy: 0.5620\n",
            "Epoch 7/60\n",
            "100/100 [==============================] - 10s 103ms/step - loss: 0.6654 - accuracy: 0.5715 - val_loss: 0.6526 - val_accuracy: 0.5940\n",
            "Epoch 8/60\n",
            "100/100 [==============================] - 10s 103ms/step - loss: 0.6455 - accuracy: 0.5975 - val_loss: 0.6482 - val_accuracy: 0.6190\n",
            "Epoch 9/60\n",
            "100/100 [==============================] - 10s 103ms/step - loss: 0.6374 - accuracy: 0.6155 - val_loss: 0.6333 - val_accuracy: 0.6360\n",
            "Epoch 10/60\n",
            "100/100 [==============================] - 10s 103ms/step - loss: 0.6011 - accuracy: 0.6635 - val_loss: 0.6069 - val_accuracy: 0.6550\n",
            "Epoch 11/60\n",
            "100/100 [==============================] - 10s 97ms/step - loss: 0.5516 - accuracy: 0.7160 - val_loss: 0.6170 - val_accuracy: 0.6730\n",
            "Epoch 12/60\n",
            "100/100 [==============================] - 10s 105ms/step - loss: 0.5145 - accuracy: 0.7435 - val_loss: 0.6117 - val_accuracy: 0.6860\n",
            "Epoch 13/60\n",
            "100/100 [==============================] - 10s 102ms/step - loss: 0.4656 - accuracy: 0.7850 - val_loss: 0.5846 - val_accuracy: 0.6930\n",
            "Epoch 14/60\n",
            "100/100 [==============================] - 10s 101ms/step - loss: 0.3912 - accuracy: 0.8225 - val_loss: 0.5880 - val_accuracy: 0.6980\n",
            "Epoch 15/60\n",
            "100/100 [==============================] - 11s 115ms/step - loss: 0.3455 - accuracy: 0.8450 - val_loss: 0.6422 - val_accuracy: 0.7020\n",
            "Epoch 16/60\n",
            "100/100 [==============================] - 11s 115ms/step - loss: 0.2803 - accuracy: 0.8790 - val_loss: 0.6944 - val_accuracy: 0.6860\n",
            "Epoch 17/60\n",
            "100/100 [==============================] - 9s 92ms/step - loss: 0.1987 - accuracy: 0.9200 - val_loss: 0.8808 - val_accuracy: 0.6880\n",
            "Epoch 18/60\n",
            "100/100 [==============================] - 9s 93ms/step - loss: 0.1340 - accuracy: 0.9455 - val_loss: 1.0610 - val_accuracy: 0.6850\n",
            "Epoch 19/60\n",
            "100/100 [==============================] - 10s 101ms/step - loss: 0.0874 - accuracy: 0.9700 - val_loss: 1.3831 - val_accuracy: 0.6760\n",
            "Epoch 20/60\n",
            "100/100 [==============================] - 10s 101ms/step - loss: 0.0695 - accuracy: 0.9760 - val_loss: 1.4333 - val_accuracy: 0.7220\n",
            "Epoch 21/60\n",
            "100/100 [==============================] - 10s 100ms/step - loss: 0.0469 - accuracy: 0.9825 - val_loss: 1.4203 - val_accuracy: 0.7230\n",
            "Epoch 22/60\n",
            "100/100 [==============================] - 11s 114ms/step - loss: 0.0180 - accuracy: 0.9955 - val_loss: 1.7504 - val_accuracy: 0.7200\n",
            "Epoch 23/60\n",
            "100/100 [==============================] - 12s 115ms/step - loss: 0.0239 - accuracy: 0.9910 - val_loss: 2.1823 - val_accuracy: 0.6790\n",
            "Epoch 24/60\n",
            "100/100 [==============================] - 12s 117ms/step - loss: 0.0911 - accuracy: 0.9730 - val_loss: 1.5530 - val_accuracy: 0.7120\n",
            "Epoch 25/60\n",
            "100/100 [==============================] - 12s 116ms/step - loss: 0.0342 - accuracy: 0.9890 - val_loss: 1.7215 - val_accuracy: 0.7180\n",
            "Epoch 26/60\n",
            "100/100 [==============================] - 12s 117ms/step - loss: 0.0203 - accuracy: 0.9955 - val_loss: 1.8032 - val_accuracy: 0.7180\n",
            "Epoch 27/60\n",
            "100/100 [==============================] - 12s 115ms/step - loss: 0.0032 - accuracy: 0.9995 - val_loss: 2.0541 - val_accuracy: 0.7140\n",
            "Epoch 28/60\n",
            "100/100 [==============================] - 12s 116ms/step - loss: 8.0240e-04 - accuracy: 1.0000 - val_loss: 2.0992 - val_accuracy: 0.7180\n",
            "Epoch 29/60\n",
            "100/100 [==============================] - 12s 116ms/step - loss: 4.2732e-04 - accuracy: 1.0000 - val_loss: 2.1531 - val_accuracy: 0.7220\n",
            "Epoch 30/60\n",
            "100/100 [==============================] - 9s 94ms/step - loss: 3.1407e-04 - accuracy: 1.0000 - val_loss: 2.2011 - val_accuracy: 0.7230\n",
            "Epoch 31/60\n",
            "100/100 [==============================] - 10s 100ms/step - loss: 2.4521e-04 - accuracy: 1.0000 - val_loss: 2.2481 - val_accuracy: 0.7240\n",
            "Epoch 32/60\n",
            "100/100 [==============================] - 10s 102ms/step - loss: 2.1119e-04 - accuracy: 1.0000 - val_loss: 2.2908 - val_accuracy: 0.7240\n",
            "Epoch 33/60\n",
            "100/100 [==============================] - 10s 102ms/step - loss: 1.7090e-04 - accuracy: 1.0000 - val_loss: 2.3218 - val_accuracy: 0.7200\n",
            "Epoch 34/60\n",
            "100/100 [==============================] - 10s 101ms/step - loss: 1.4290e-04 - accuracy: 1.0000 - val_loss: 2.3529 - val_accuracy: 0.7210\n",
            "Epoch 35/60\n",
            "100/100 [==============================] - 12s 118ms/step - loss: 1.2128e-04 - accuracy: 1.0000 - val_loss: 2.3824 - val_accuracy: 0.7210\n",
            "Epoch 36/60\n",
            "100/100 [==============================] - 9s 93ms/step - loss: 1.0475e-04 - accuracy: 1.0000 - val_loss: 2.4123 - val_accuracy: 0.7250\n",
            "Epoch 37/60\n",
            "100/100 [==============================] - 12s 123ms/step - loss: 9.0840e-05 - accuracy: 1.0000 - val_loss: 2.4394 - val_accuracy: 0.7260\n",
            "Epoch 38/60\n",
            "100/100 [==============================] - 10s 100ms/step - loss: 7.9968e-05 - accuracy: 1.0000 - val_loss: 2.4670 - val_accuracy: 0.7260\n",
            "Epoch 39/60\n",
            "100/100 [==============================] - 10s 101ms/step - loss: 7.0577e-05 - accuracy: 1.0000 - val_loss: 2.4942 - val_accuracy: 0.7260\n",
            "Epoch 40/60\n",
            "100/100 [==============================] - 10s 103ms/step - loss: 6.2574e-05 - accuracy: 1.0000 - val_loss: 2.5185 - val_accuracy: 0.7260\n",
            "Epoch 41/60\n",
            "100/100 [==============================] - 11s 115ms/step - loss: 5.5508e-05 - accuracy: 1.0000 - val_loss: 2.5446 - val_accuracy: 0.7230\n",
            "Epoch 42/60\n",
            "100/100 [==============================] - 11s 114ms/step - loss: 4.9581e-05 - accuracy: 1.0000 - val_loss: 2.5728 - val_accuracy: 0.7250\n",
            "Epoch 43/60\n",
            "100/100 [==============================] - 11s 115ms/step - loss: 4.4084e-05 - accuracy: 1.0000 - val_loss: 2.5958 - val_accuracy: 0.7240\n",
            "Epoch 44/60\n",
            "100/100 [==============================] - 10s 101ms/step - loss: 3.9659e-05 - accuracy: 1.0000 - val_loss: 2.6178 - val_accuracy: 0.7240\n",
            "Epoch 45/60\n",
            "100/100 [==============================] - 10s 102ms/step - loss: 3.5735e-05 - accuracy: 1.0000 - val_loss: 2.6384 - val_accuracy: 0.7250\n",
            "Epoch 46/60\n",
            "100/100 [==============================] - 10s 101ms/step - loss: 3.2079e-05 - accuracy: 1.0000 - val_loss: 2.6665 - val_accuracy: 0.7240\n",
            "Epoch 47/60\n",
            "100/100 [==============================] - 11s 115ms/step - loss: 2.8919e-05 - accuracy: 1.0000 - val_loss: 2.6854 - val_accuracy: 0.7240\n",
            "Epoch 48/60\n",
            "100/100 [==============================] - 12s 116ms/step - loss: 2.6240e-05 - accuracy: 1.0000 - val_loss: 2.7070 - val_accuracy: 0.7240\n",
            "Epoch 49/60\n",
            "100/100 [==============================] - 10s 99ms/step - loss: 2.3721e-05 - accuracy: 1.0000 - val_loss: 2.7342 - val_accuracy: 0.7240\n",
            "Epoch 50/60\n",
            "100/100 [==============================] - 10s 100ms/step - loss: 2.1685e-05 - accuracy: 1.0000 - val_loss: 2.7582 - val_accuracy: 0.7210\n",
            "Epoch 51/60\n",
            "100/100 [==============================] - 10s 102ms/step - loss: 1.9598e-05 - accuracy: 1.0000 - val_loss: 2.7820 - val_accuracy: 0.7220\n",
            "Epoch 52/60\n",
            "100/100 [==============================] - 10s 100ms/step - loss: 1.7841e-05 - accuracy: 1.0000 - val_loss: 2.8047 - val_accuracy: 0.7220\n",
            "Epoch 53/60\n",
            "100/100 [==============================] - 9s 90ms/step - loss: 1.6222e-05 - accuracy: 1.0000 - val_loss: 2.8306 - val_accuracy: 0.7230\n",
            "Epoch 54/60\n",
            "100/100 [==============================] - 10s 96ms/step - loss: 1.4763e-05 - accuracy: 1.0000 - val_loss: 2.8492 - val_accuracy: 0.7230\n",
            "Epoch 55/60\n",
            "100/100 [==============================] - 10s 100ms/step - loss: 1.3491e-05 - accuracy: 1.0000 - val_loss: 2.8718 - val_accuracy: 0.7220\n",
            "Epoch 56/60\n",
            "100/100 [==============================] - 10s 100ms/step - loss: 1.2372e-05 - accuracy: 1.0000 - val_loss: 2.8972 - val_accuracy: 0.7210\n",
            "Epoch 57/60\n",
            "100/100 [==============================] - 10s 99ms/step - loss: 1.1305e-05 - accuracy: 1.0000 - val_loss: 2.9162 - val_accuracy: 0.7230\n",
            "Epoch 58/60\n",
            "100/100 [==============================] - 9s 92ms/step - loss: 1.0335e-05 - accuracy: 1.0000 - val_loss: 2.9362 - val_accuracy: 0.7230\n",
            "Epoch 59/60\n",
            "100/100 [==============================] - 9s 91ms/step - loss: 9.4782e-06 - accuracy: 1.0000 - val_loss: 2.9623 - val_accuracy: 0.7200\n",
            "Epoch 60/60\n",
            "100/100 [==============================] - 10s 100ms/step - loss: 8.7470e-06 - accuracy: 1.0000 - val_loss: 2.9852 - val_accuracy: 0.7200\n",
            "CPU times: user 11min 33s, sys: 15.9 s, total: 11min 49s\n",
            "Wall time: 11min 51s\n"
          ]
        }
      ]
    },
    {
      "cell_type": "markdown",
      "metadata": {
        "id": "FnnIyFtNKhbD"
      },
      "source": [
        "> ## 4) 학습 결과 시각화"
      ]
    },
    {
      "cell_type": "code",
      "source": [
        "import matplotlib.pyplot as plt\n",
        "\n",
        "epochs = range(1, len(Hist_dandc.history['loss']) + 1)\n",
        "\n",
        "plt.figure(figsize = (15, 5))\n",
        "\n",
        "plt.subplot(1, 2, 1)\n",
        "plt.plot(epochs, Hist_dandc.history['loss'], 'b-')\n",
        "plt.plot(epochs, Hist_dandc.history['val_loss'], 'r--')\n",
        "plt.title('Training & Validation Loss')\n",
        "plt.xlabel('Epochs')\n",
        "plt.ylabel('Loss')\n",
        "plt.legend(['Training Loss', 'Validation Loss'])\n",
        "plt.grid()\n",
        "\n",
        "plt.subplot(1, 2, 2)\n",
        "plt.plot(epochs, Hist_dandc.history['accuracy'], 'b-')\n",
        "plt.plot(epochs, Hist_dandc.history['val_accuracy'], 'r--')\n",
        "plt.title('Training & Validation Accuracy')\n",
        "plt.xlabel('Epochs')\n",
        "plt.ylabel('Accuracy')\n",
        "plt.legend(['Training Accuracy', 'Validation Accuracy'])\n",
        "plt.grid()\n",
        "\n",
        "plt.show()"
      ],
      "metadata": {
        "colab": {
          "base_uri": "https://localhost:8080/",
          "height": 487
        },
        "id": "Xxie5c3bDTTv",
        "outputId": "4278cf6b-0819-46dc-a504-9dcad97b3a54"
      },
      "execution_count": null,
      "outputs": [
        {
          "output_type": "display_data",
          "data": {
            "text/plain": [
              "<Figure size 1500x500 with 2 Axes>"
            ],
            "image/png": "[encoded data removed]"
          },
          "metadata": {}
        }
      ]
    },
    {
      "cell_type": "markdown",
      "metadata": {
        "id": "_uJSOLBko7lh"
      },
      "source": [
        "> ## 5) Model Evaluate"
      ]
    },
    {
      "cell_type": "markdown",
      "metadata": {
        "id": "vqd33SF_RG3q"
      },
      "source": [
        "* test_generator"
      ]
    },
    {
      "cell_type": "code",
      "metadata": {
        "id": "2SZddYK7RLov",
        "colab": {
          "base_uri": "https://localhost:8080/"
        },
        "outputId": "7460e07b-cb0b-4782-bb08-03fc112c160e"
      },
      "source": [
        "test_datagen = ImageDataGenerator(rescale = 1./255)\n",
        "\n",
        "test_generator = test_datagen.flow_from_directory(\n",
        "                 test_dir,\n",
        "                 target_size = (150, 150),\n",
        "                 batch_size = 20,\n",
        "                 class_mode = 'binary')"
      ],
      "execution_count": null,
      "outputs": [
        {
          "output_type": "stream",
          "name": "stdout",
          "text": [
            "Found 1000 images belonging to 2 classes.\n"
          ]
        }
      ]
    },
    {
      "cell_type": "markdown",
      "metadata": {
        "id": "i-TqAB2ALGzZ"
      },
      "source": [
        "* Loss & Accuracy"
      ]
    },
    {
      "cell_type": "code",
      "metadata": {
        "id": "OF30PuZsAxQJ",
        "colab": {
          "base_uri": "https://localhost:8080/"
        },
        "outputId": "1031734f-61f5-4f6f-accd-e8136ef4c645"
      },
      "source": [
        "loss, accuracy = model.evaluate(test_generator,\n",
        "                                steps = 50,\n",
        "                                verbose = 0)\n",
        "\n",
        "print('Loss = {:.5f}'.format(loss))\n",
        "print('Accuracy = {:.5f}'.format(accuracy))"
      ],
      "execution_count": null,
      "outputs": [
        {
          "output_type": "stream",
          "name": "stdout",
          "text": [
            "Loss = 3.42710\n",
            "Accuracy = 0.70800\n"
          ]
        }
      ]
    },
    {
      "cell_type": "markdown",
      "metadata": {
        "id": "fBSR6RDTtWZV"
      },
      "source": [
        "# IV. Model Save & Load to Google Drive"
      ]
    },
    {
      "cell_type": "markdown",
      "metadata": {
        "id": "OoG9bnmFuD5v"
      },
      "source": [
        "> ## 1) Google Drive Mount"
      ]
    },
    {
      "cell_type": "markdown",
      "metadata": {
        "id": "-DoXDaDQD_nR"
      },
      "source": [
        "* Mount Google Drive"
      ]
    },
    {
      "cell_type": "code",
      "metadata": {
        "id": "PQYJikBzuOuQ",
        "colab": {
          "base_uri": "https://localhost:8080/"
        },
        "outputId": "bc44adbd-d79a-473a-d23f-b15bab3e0af2"
      },
      "source": [
        "from google.colab import drive\n",
        "\n",
        "drive.mount('/content/drive')"
      ],
      "execution_count": null,
      "outputs": [
        {
          "output_type": "stream",
          "name": "stdout",
          "text": [
            "Mounted at /content/drive\n"
          ]
        }
      ]
    },
    {
      "cell_type": "markdown",
      "source": [
        "* Make 'models' Directory"
      ],
      "metadata": {
        "id": "tOo9e0oz4Fj-"
      }
    },
    {
      "cell_type": "code",
      "source": [
        "!mkdir -p '/content/drive/My Drive/Colab Notebooks/models'"
      ],
      "metadata": {
        "id": "jMXhIqbg4M-n"
      },
      "execution_count": null,
      "outputs": []
    },
    {
      "cell_type": "markdown",
      "metadata": {
        "id": "0SX2qVV5tfZ5"
      },
      "source": [
        "> ## 2) Model Save"
      ]
    },
    {
      "cell_type": "code",
      "metadata": {
        "id": "o-VnLdQftjvL"
      },
      "source": [
        "model.save('/content/drive/My Drive/Colab Notebooks/models/002_dogs_and_cats_small.h5')"
      ],
      "execution_count": null,
      "outputs": []
    },
    {
      "cell_type": "code",
      "metadata": {
        "id": "rZngp467yJ3f",
        "colab": {
          "base_uri": "https://localhost:8080/"
        },
        "outputId": "4f13bec7-4850-4a46-9785-c61a0c8da249"
      },
      "source": [
        "!ls -l /content/drive/My\\ Drive/Colab\\ Notebooks/models"
      ],
      "execution_count": null,
      "outputs": [
        {
          "output_type": "stream",
          "name": "stdout",
          "text": [
            "total 40558\n",
            "-rw------- 1 root root    34240 Mar 28 08:45 001_Model_iris.h5\n",
            "-rw------- 1 root root 41496728 Apr  4 08:11 002_dogs_and_cats_small.h5\n"
          ]
        }
      ]
    },
    {
      "cell_type": "markdown",
      "metadata": {
        "id": "WiKYR2Y5tsrv"
      },
      "source": [
        "> ## 3) Model Load"
      ]
    },
    {
      "cell_type": "code",
      "metadata": {
        "id": "90UQS7J1tzBZ"
      },
      "source": [
        "from tensorflow.keras.models import load_model\n",
        "\n",
        "model_small = load_model('/content/drive/My Drive/Colab Notebooks/models/002_dogs_and_cats_small.h5')"
      ],
      "execution_count": null,
      "outputs": []
    },
    {
      "cell_type": "code",
      "metadata": {
        "id": "rULDfHRPXh42",
        "colab": {
          "base_uri": "https://localhost:8080/"
        },
        "outputId": "aafa4cdc-ae2e-44dc-953c-88f1b78c4ea9"
      },
      "source": [
        "loss, accuracy = model_small.evaluate(test_generator,\n",
        "                                      steps = 50,\n",
        "                                      verbose = 0)\n",
        "\n",
        "print('Loss = {:.5f}'.format(loss))\n",
        "print('Accuracy = {:.5f}'.format(accuracy))"
      ],
      "execution_count": null,
      "outputs": [
        {
          "output_type": "stream",
          "name": "stdout",
          "text": [
            "Loss = 3.42710\n",
            "Accuracy = 0.70800\n"
          ]
        }
      ]
    },
    {
      "cell_type": "markdown",
      "metadata": {
        "id": "sN48I9GrLxOX"
      },
      "source": [
        "#\n",
        "#\n",
        "#\n",
        "# End Of Document\n",
        "#\n",
        "#\n",
        "#"
      ]
    }
  ]
}