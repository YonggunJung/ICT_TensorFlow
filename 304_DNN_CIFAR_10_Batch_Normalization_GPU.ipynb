{
  "nbformat": 4,
  "nbformat_minor": 0,
  "metadata": {
    "colab": {
      "provenance": [],
      "include_colab_link": true
    },
    "kernelspec": {
      "name": "python3",
      "display_name": "Python 3"
    },
    "accelerator": "GPU"
  },
  "cells": [
    {
      "cell_type": "markdown",
      "metadata": {
        "id": "view-in-github",
        "colab_type": "text"
      },
      "source": [
        "<a href=\"https://colab.research.google.com/github/YonggunJung/ICT_TensorFlow/blob/main/304_DNN_CIFAR_10_Batch_Normalization_GPU.ipynb\" target=\"_parent\"><img src=\"https://colab.research.google.com/assets/colab-badge.svg\" alt=\"Open In Colab\"/></a>"
      ]
    },
    {
      "cell_type": "markdown",
      "metadata": {
        "id": "q2Pr7oBdYLdf"
      },
      "source": [
        "# CIFAR 10 - Categorical Classification\n",
        "\n",
        "> ## Batch Normalization"
      ]
    },
    {
      "cell_type": "code",
      "metadata": {
        "id": "RbPgODpVzdHI"
      },
      "source": [
        "import warnings\n",
        "warnings.filterwarnings('ignore')"
      ],
      "execution_count": null,
      "outputs": []
    },
    {
      "cell_type": "markdown",
      "metadata": {
        "id": "H49A769LYp-a"
      },
      "source": [
        "# I. CIFAR 10 Data_Set Load & Review"
      ]
    },
    {
      "cell_type": "markdown",
      "metadata": {
        "id": "vb6EIkRcbPb4"
      },
      "source": [
        "> ## 1) Load CIFAR 10 Data_Set"
      ]
    },
    {
      "cell_type": "code",
      "metadata": {
        "id": "DxstjE8b_6Te",
        "colab": {
          "base_uri": "https://localhost:8080/"
        },
        "outputId": "d5898c2f-a4dc-4da6-cfca-bf1716fcaadb"
      },
      "source": [
        "from tensorflow.keras.datasets import cifar10\n",
        "\n",
        "(X_train, y_train), (X_test, y_test) = cifar10.load_data()"
      ],
      "execution_count": null,
      "outputs": [
        {
          "output_type": "stream",
          "name": "stdout",
          "text": [
            "Downloading data from https://www.cs.toronto.edu/~kriz/cifar-10-python.tar.gz\n",
            "170498071/170498071 [==============================] - 4s 0us/step\n"
          ]
        }
      ]
    },
    {
      "cell_type": "markdown",
      "metadata": {
        "id": "Mk9XL5vGHor6"
      },
      "source": [
        "# II. Data Preprocessing"
      ]
    },
    {
      "cell_type": "markdown",
      "metadata": {
        "id": "ec8zU4XCZRUF"
      },
      "source": [
        "> ## 1) Reshape and Normalization"
      ]
    },
    {
      "cell_type": "markdown",
      "metadata": {
        "id": "olI6ZPtEIb8H"
      },
      "source": [
        "* reshape\n",
        " * (50000, 32, 32, 3) to (50000, 3072)"
      ]
    },
    {
      "cell_type": "code",
      "metadata": {
        "id": "8-toPn1ZAmFd",
        "colab": {
          "base_uri": "https://localhost:8080/"
        },
        "outputId": "1b7f63a9-13aa-43f7-855e-fdd6b63038d9"
      },
      "source": [
        "X_train = X_train.reshape((50000, 32 * 32 * 3))\n",
        "X_test = X_test.reshape((10000, 32 * 32 * 3))\n",
        "\n",
        "X_train.shape, X_test.shape"
      ],
      "execution_count": null,
      "outputs": [
        {
          "output_type": "execute_result",
          "data": {
            "text/plain": [
              "((50000, 3072), (10000, 3072))"
            ]
          },
          "metadata": {},
          "execution_count": 3
        }
      ]
    },
    {
      "cell_type": "markdown",
      "metadata": {
        "id": "UN-xPWjYIeWL"
      },
      "source": [
        "* Normalization"
      ]
    },
    {
      "cell_type": "code",
      "metadata": {
        "id": "SoGHuYeFIGBj"
      },
      "source": [
        "X_train = X_train.astype(float) / 255\n",
        "X_test = X_test.astype(float) / 255"
      ],
      "execution_count": null,
      "outputs": []
    },
    {
      "cell_type": "markdown",
      "metadata": {
        "id": "BtSROU80aF12"
      },
      "source": [
        "> ## 2) One Hot Encoding"
      ]
    },
    {
      "cell_type": "code",
      "metadata": {
        "id": "eC48Oym3Ao8E"
      },
      "source": [
        "from tensorflow.keras.utils import to_categorical\n",
        "\n",
        "y_train = to_categorical(y_train)\n",
        "y_test = to_categorical(y_test)"
      ],
      "execution_count": null,
      "outputs": []
    },
    {
      "cell_type": "markdown",
      "source": [
        "> ## 3) train_test_split( )\n",
        "\n",
        "* Train(40,000) vs. Validation(10,000)"
      ],
      "metadata": {
        "id": "5Y0xaGNzYkI2"
      }
    },
    {
      "cell_type": "code",
      "source": [
        "from sklearn.model_selection import train_test_split\n",
        "\n",
        "X_train, X_valid, y_train, y_valid = train_test_split(X_train, y_train,\n",
        "                                                      test_size = 0.2,\n",
        "                                                      random_state = 2045)"
      ],
      "metadata": {
        "id": "zdpfzw3TXRHG"
      },
      "execution_count": null,
      "outputs": []
    },
    {
      "cell_type": "markdown",
      "metadata": {
        "id": "NTwZiSjiop3v"
      },
      "source": [
        "# III. Keras Modeling"
      ]
    },
    {
      "cell_type": "markdown",
      "metadata": {
        "id": "j5CT0TurJCkc"
      },
      "source": [
        "> ## 1) Model Define"
      ]
    },
    {
      "cell_type": "markdown",
      "metadata": {
        "id": "ydDCl0jTJD58"
      },
      "source": [
        "* 모델 신경망 구조 정의\n",
        " - 3개 Hidden Layers & 2816개 Nodes\n",
        " - Batch Normalization"
      ]
    },
    {
      "cell_type": "code",
      "metadata": {
        "id": "II0DskRdAcHS"
      },
      "source": [
        "from tensorflow.keras import models\n",
        "from tensorflow.keras import layers\n",
        "\n",
        "CIFAR = models.Sequential()\n",
        "CIFAR.add(layers.Dense(2048, input_shape = (32 * 32 * 3,)))\n",
        "CIFAR.add(layers.BatchNormalization())  # 이건 꼭 덴스와 액티베이션 사이에 있어야함\n",
        "CIFAR.add(layers.Activation('relu'))\n",
        "CIFAR.add(layers.Dense(512))\n",
        "CIFAR.add(layers.BatchNormalization())\n",
        "CIFAR.add(layers.Activation('relu'))\n",
        "CIFAR.add(layers.Dense(128))\n",
        "CIFAR.add(layers.BatchNormalization())\n",
        "CIFAR.add(layers.Activation('relu'))\n",
        "CIFAR.add(layers.Dense(10, activation = 'softmax'))"
      ],
      "execution_count": null,
      "outputs": []
    },
    {
      "cell_type": "markdown",
      "metadata": {
        "id": "PqrObAHZJTN8"
      },
      "source": [
        "* 모델 구조 확인"
      ]
    },
    {
      "cell_type": "code",
      "metadata": {
        "id": "wbtjOA4XMTUd",
        "colab": {
          "base_uri": "https://localhost:8080/"
        },
        "outputId": "fd321f0a-1028-44c9-e36a-6618351da741"
      },
      "source": [
        "CIFAR.summary()"
      ],
      "execution_count": null,
      "outputs": [
        {
          "output_type": "stream",
          "name": "stdout",
          "text": [
            "Model: \"sequential\"\n",
            "_________________________________________________________________\n",
            " Layer (type)                Output Shape              Param #   \n",
            "=================================================================\n",
            " dense (Dense)               (None, 2048)              6293504   \n",
            "                                                                 \n",
            " batch_normalization (Batch  (None, 2048)              8192      \n",
            " Normalization)                                                  \n",
            "                                                                 \n",
            " activation (Activation)     (None, 2048)              0         \n",
            "                                                                 \n",
            " dense_1 (Dense)             (None, 512)               1049088   \n",
            "                                                                 \n",
            " batch_normalization_1 (Bat  (None, 512)               2048      \n",
            " chNormalization)                                                \n",
            "                                                                 \n",
            " activation_1 (Activation)   (None, 512)               0         \n",
            "                                                                 \n",
            " dense_2 (Dense)             (None, 128)               65664     \n",
            "                                                                 \n",
            " batch_normalization_2 (Bat  (None, 128)               512       \n",
            " chNormalization)                                                \n",
            "                                                                 \n",
            " activation_2 (Activation)   (None, 128)               0         \n",
            "                                                                 \n",
            " dense_3 (Dense)             (None, 10)                1290      \n",
            "                                                                 \n",
            "=================================================================\n",
            "Total params: 7420298 (28.31 MB)\n",
            "Trainable params: 7414922 (28.29 MB)\n",
            "Non-trainable params: 5376 (21.00 KB)\n",
            "_________________________________________________________________\n"
          ]
        }
      ]
    },
    {
      "cell_type": "markdown",
      "metadata": {
        "id": "tpjBDBeYoyuj"
      },
      "source": [
        "> ## 2) Model Compile"
      ]
    },
    {
      "cell_type": "markdown",
      "metadata": {
        "id": "f3sxkQa0JoUr"
      },
      "source": [
        "* 모델 학습방법 설정"
      ]
    },
    {
      "cell_type": "code",
      "metadata": {
        "id": "AyK_t1qwAi6M"
      },
      "source": [
        "CIFAR.compile(loss = 'categorical_crossentropy',\n",
        "              optimizer = 'adam',\n",
        "              metrics = ['accuracy'])"
      ],
      "execution_count": null,
      "outputs": []
    },
    {
      "cell_type": "markdown",
      "metadata": {
        "id": "umiq4B-Xo3OB"
      },
      "source": [
        "> ## 3) Model Fit"
      ]
    },
    {
      "cell_type": "markdown",
      "metadata": {
        "id": "1KuXREziKMD1"
      },
      "source": [
        "* 약 5분"
      ]
    },
    {
      "cell_type": "code",
      "metadata": {
        "id": "zxwqwAqRAqRP",
        "colab": {
          "base_uri": "https://localhost:8080/"
        },
        "outputId": "8839ee6d-2015-4099-e403-a62012d34889"
      },
      "source": [
        "%%time\n",
        "\n",
        "Hist_CIFAR = CIFAR.fit(X_train, y_train,\n",
        "                       epochs = 100,\n",
        "                       batch_size = 128,\n",
        "                       validation_data = (X_valid, y_valid))"
      ],
      "execution_count": null,
      "outputs": [
        {
          "output_type": "stream",
          "name": "stdout",
          "text": [
            "Epoch 1/100\n",
            "313/313 [==============================] - 10s 9ms/step - loss: 1.6340 - accuracy: 0.4156 - val_loss: 2.3999 - val_accuracy: 0.2232\n",
            "Epoch 2/100\n",
            "313/313 [==============================] - 2s 7ms/step - loss: 1.3943 - accuracy: 0.5052 - val_loss: 1.7815 - val_accuracy: 0.3669\n",
            "Epoch 3/100\n",
            "313/313 [==============================] - 3s 10ms/step - loss: 1.2682 - accuracy: 0.5499 - val_loss: 1.8928 - val_accuracy: 0.3567\n",
            "Epoch 4/100\n",
            "313/313 [==============================] - 2s 8ms/step - loss: 1.1678 - accuracy: 0.5839 - val_loss: 1.7588 - val_accuracy: 0.3624\n",
            "Epoch 5/100\n",
            "313/313 [==============================] - 2s 7ms/step - loss: 1.0820 - accuracy: 0.6152 - val_loss: 1.7044 - val_accuracy: 0.4012\n",
            "Epoch 6/100\n",
            "313/313 [==============================] - 2s 7ms/step - loss: 0.9901 - accuracy: 0.6487 - val_loss: 2.0607 - val_accuracy: 0.3458\n",
            "Epoch 7/100\n",
            "313/313 [==============================] - 2s 7ms/step - loss: 0.9030 - accuracy: 0.6776 - val_loss: 1.7594 - val_accuracy: 0.3937\n",
            "Epoch 8/100\n",
            "313/313 [==============================] - 3s 9ms/step - loss: 0.8130 - accuracy: 0.7128 - val_loss: 1.5849 - val_accuracy: 0.4515\n",
            "Epoch 9/100\n",
            "313/313 [==============================] - 2s 8ms/step - loss: 0.7269 - accuracy: 0.7450 - val_loss: 2.0464 - val_accuracy: 0.3907\n",
            "Epoch 10/100\n",
            "313/313 [==============================] - 2s 7ms/step - loss: 0.6405 - accuracy: 0.7744 - val_loss: 2.0674 - val_accuracy: 0.3919\n",
            "Epoch 11/100\n",
            "313/313 [==============================] - 2s 7ms/step - loss: 0.5525 - accuracy: 0.8065 - val_loss: 1.7596 - val_accuracy: 0.4577\n",
            "Epoch 12/100\n",
            "313/313 [==============================] - 2s 7ms/step - loss: 0.4825 - accuracy: 0.8321 - val_loss: 2.3011 - val_accuracy: 0.3983\n",
            "Epoch 13/100\n",
            "313/313 [==============================] - 3s 9ms/step - loss: 0.4129 - accuracy: 0.8590 - val_loss: 2.1370 - val_accuracy: 0.4207\n",
            "Epoch 14/100\n",
            "313/313 [==============================] - 2s 7ms/step - loss: 0.3465 - accuracy: 0.8809 - val_loss: 2.5203 - val_accuracy: 0.4047\n",
            "Epoch 15/100\n",
            "313/313 [==============================] - 2s 7ms/step - loss: 0.3028 - accuracy: 0.8968 - val_loss: 2.5945 - val_accuracy: 0.3983\n",
            "Epoch 16/100\n",
            "313/313 [==============================] - 2s 7ms/step - loss: 0.2663 - accuracy: 0.9089 - val_loss: 2.3833 - val_accuracy: 0.4476\n",
            "Epoch 17/100\n",
            "313/313 [==============================] - 2s 7ms/step - loss: 0.2270 - accuracy: 0.9238 - val_loss: 2.2899 - val_accuracy: 0.4712\n",
            "Epoch 18/100\n",
            "313/313 [==============================] - 3s 9ms/step - loss: 0.2016 - accuracy: 0.9317 - val_loss: 2.9637 - val_accuracy: 0.3971\n",
            "Epoch 19/100\n",
            "313/313 [==============================] - 2s 8ms/step - loss: 0.1843 - accuracy: 0.9375 - val_loss: 2.9348 - val_accuracy: 0.4201\n",
            "Epoch 20/100\n",
            "313/313 [==============================] - 2s 7ms/step - loss: 0.1749 - accuracy: 0.9391 - val_loss: 3.0743 - val_accuracy: 0.4203\n",
            "Epoch 21/100\n",
            "313/313 [==============================] - 2s 7ms/step - loss: 0.1585 - accuracy: 0.9463 - val_loss: 3.1136 - val_accuracy: 0.4335\n",
            "Epoch 22/100\n",
            "313/313 [==============================] - 3s 9ms/step - loss: 0.1522 - accuracy: 0.9484 - val_loss: 3.1860 - val_accuracy: 0.4259\n",
            "Epoch 23/100\n",
            "313/313 [==============================] - 3s 10ms/step - loss: 0.1323 - accuracy: 0.9537 - val_loss: 3.3528 - val_accuracy: 0.4113\n",
            "Epoch 24/100\n",
            "313/313 [==============================] - 2s 7ms/step - loss: 0.1243 - accuracy: 0.9588 - val_loss: 2.8413 - val_accuracy: 0.4591\n",
            "Epoch 25/100\n",
            "313/313 [==============================] - 2s 7ms/step - loss: 0.1179 - accuracy: 0.9596 - val_loss: 3.0644 - val_accuracy: 0.4352\n",
            "Epoch 26/100\n",
            "313/313 [==============================] - 2s 7ms/step - loss: 0.1231 - accuracy: 0.9581 - val_loss: 2.8384 - val_accuracy: 0.4778\n",
            "Epoch 27/100\n",
            "313/313 [==============================] - 2s 7ms/step - loss: 0.1048 - accuracy: 0.9639 - val_loss: 3.7742 - val_accuracy: 0.4232\n",
            "Epoch 28/100\n",
            "313/313 [==============================] - 3s 10ms/step - loss: 0.1176 - accuracy: 0.9600 - val_loss: 3.3351 - val_accuracy: 0.4226\n",
            "Epoch 29/100\n",
            "313/313 [==============================] - 2s 8ms/step - loss: 0.1120 - accuracy: 0.9607 - val_loss: 3.9105 - val_accuracy: 0.4235\n",
            "Epoch 30/100\n",
            "313/313 [==============================] - 2s 7ms/step - loss: 0.0979 - accuracy: 0.9654 - val_loss: 2.8968 - val_accuracy: 0.4737\n",
            "Epoch 31/100\n",
            "313/313 [==============================] - 2s 7ms/step - loss: 0.0937 - accuracy: 0.9684 - val_loss: 3.3008 - val_accuracy: 0.4542\n",
            "Epoch 32/100\n",
            "313/313 [==============================] - 2s 7ms/step - loss: 0.0779 - accuracy: 0.9729 - val_loss: 3.4821 - val_accuracy: 0.4707\n",
            "Epoch 33/100\n",
            "313/313 [==============================] - 3s 9ms/step - loss: 0.0798 - accuracy: 0.9729 - val_loss: 4.5160 - val_accuracy: 0.3896\n",
            "Epoch 34/100\n",
            "313/313 [==============================] - 2s 7ms/step - loss: 0.0930 - accuracy: 0.9676 - val_loss: 2.9059 - val_accuracy: 0.4826\n",
            "Epoch 35/100\n",
            "313/313 [==============================] - 2s 7ms/step - loss: 0.0844 - accuracy: 0.9707 - val_loss: 3.4285 - val_accuracy: 0.4571\n",
            "Epoch 36/100\n",
            "313/313 [==============================] - 2s 7ms/step - loss: 0.0802 - accuracy: 0.9719 - val_loss: 3.1424 - val_accuracy: 0.4870\n",
            "Epoch 37/100\n",
            "313/313 [==============================] - 2s 7ms/step - loss: 0.0704 - accuracy: 0.9752 - val_loss: 3.8273 - val_accuracy: 0.4403\n",
            "Epoch 38/100\n",
            "313/313 [==============================] - 3s 9ms/step - loss: 0.0705 - accuracy: 0.9755 - val_loss: 3.9492 - val_accuracy: 0.4403\n",
            "Epoch 39/100\n",
            "313/313 [==============================] - 2s 7ms/step - loss: 0.0858 - accuracy: 0.9707 - val_loss: 3.5088 - val_accuracy: 0.4528\n",
            "Epoch 40/100\n",
            "313/313 [==============================] - 2s 7ms/step - loss: 0.0749 - accuracy: 0.9737 - val_loss: 3.2642 - val_accuracy: 0.4832\n",
            "Epoch 41/100\n",
            "313/313 [==============================] - 2s 8ms/step - loss: 0.0609 - accuracy: 0.9795 - val_loss: 3.4809 - val_accuracy: 0.4744\n",
            "Epoch 42/100\n",
            "313/313 [==============================] - 2s 7ms/step - loss: 0.0701 - accuracy: 0.9748 - val_loss: 3.3789 - val_accuracy: 0.4735\n",
            "Epoch 43/100\n",
            "313/313 [==============================] - 3s 9ms/step - loss: 0.0663 - accuracy: 0.9778 - val_loss: 3.3703 - val_accuracy: 0.4797\n",
            "Epoch 44/100\n",
            "313/313 [==============================] - 2s 7ms/step - loss: 0.0605 - accuracy: 0.9794 - val_loss: 3.4044 - val_accuracy: 0.4824\n",
            "Epoch 45/100\n",
            "313/313 [==============================] - 2s 7ms/step - loss: 0.0625 - accuracy: 0.9781 - val_loss: 3.3068 - val_accuracy: 0.4712\n",
            "Epoch 46/100\n",
            "313/313 [==============================] - 2s 7ms/step - loss: 0.0629 - accuracy: 0.9783 - val_loss: 3.7479 - val_accuracy: 0.4795\n",
            "Epoch 47/100\n",
            "313/313 [==============================] - 2s 7ms/step - loss: 0.0613 - accuracy: 0.9796 - val_loss: 3.3926 - val_accuracy: 0.4775\n",
            "Epoch 48/100\n",
            "313/313 [==============================] - 3s 8ms/step - loss: 0.0522 - accuracy: 0.9824 - val_loss: 3.3782 - val_accuracy: 0.4785\n",
            "Epoch 49/100\n",
            "313/313 [==============================] - 2s 8ms/step - loss: 0.0634 - accuracy: 0.9780 - val_loss: 4.4478 - val_accuracy: 0.4283\n",
            "Epoch 50/100\n",
            "313/313 [==============================] - 2s 7ms/step - loss: 0.0656 - accuracy: 0.9773 - val_loss: 3.8231 - val_accuracy: 0.4738\n",
            "Epoch 51/100\n",
            "313/313 [==============================] - 2s 8ms/step - loss: 0.0597 - accuracy: 0.9788 - val_loss: 4.5916 - val_accuracy: 0.4242\n",
            "Epoch 52/100\n",
            "313/313 [==============================] - 2s 7ms/step - loss: 0.0503 - accuracy: 0.9834 - val_loss: 3.5423 - val_accuracy: 0.4780\n",
            "Epoch 53/100\n",
            "313/313 [==============================] - 3s 9ms/step - loss: 0.0518 - accuracy: 0.9825 - val_loss: 3.9082 - val_accuracy: 0.4461\n",
            "Epoch 54/100\n",
            "313/313 [==============================] - 2s 8ms/step - loss: 0.0499 - accuracy: 0.9829 - val_loss: 3.3741 - val_accuracy: 0.4989\n",
            "Epoch 55/100\n",
            "313/313 [==============================] - 2s 7ms/step - loss: 0.0498 - accuracy: 0.9829 - val_loss: 3.8212 - val_accuracy: 0.4684\n",
            "Epoch 56/100\n",
            "313/313 [==============================] - 2s 8ms/step - loss: 0.0431 - accuracy: 0.9850 - val_loss: 3.7399 - val_accuracy: 0.4730\n",
            "Epoch 57/100\n",
            "313/313 [==============================] - 2s 7ms/step - loss: 0.0462 - accuracy: 0.9846 - val_loss: 3.5409 - val_accuracy: 0.4837\n",
            "Epoch 58/100\n",
            "313/313 [==============================] - 3s 8ms/step - loss: 0.0573 - accuracy: 0.9801 - val_loss: 4.9372 - val_accuracy: 0.4452\n",
            "Epoch 59/100\n",
            "313/313 [==============================] - 3s 8ms/step - loss: 0.0497 - accuracy: 0.9824 - val_loss: 3.2365 - val_accuracy: 0.5029\n",
            "Epoch 60/100\n",
            "313/313 [==============================] - 2s 7ms/step - loss: 0.0504 - accuracy: 0.9819 - val_loss: 4.1675 - val_accuracy: 0.4437\n",
            "Epoch 61/100\n",
            "313/313 [==============================] - 2s 8ms/step - loss: 0.0496 - accuracy: 0.9831 - val_loss: 3.7946 - val_accuracy: 0.4756\n",
            "Epoch 62/100\n",
            "313/313 [==============================] - 2s 8ms/step - loss: 0.0512 - accuracy: 0.9832 - val_loss: 4.4830 - val_accuracy: 0.4531\n",
            "Epoch 63/100\n",
            "313/313 [==============================] - 3s 8ms/step - loss: 0.0422 - accuracy: 0.9857 - val_loss: 3.5549 - val_accuracy: 0.5016\n",
            "Epoch 64/100\n",
            "313/313 [==============================] - 3s 8ms/step - loss: 0.0334 - accuracy: 0.9887 - val_loss: 3.4509 - val_accuracy: 0.5085\n",
            "Epoch 65/100\n",
            "313/313 [==============================] - 2s 7ms/step - loss: 0.0380 - accuracy: 0.9868 - val_loss: 3.7878 - val_accuracy: 0.4801\n",
            "Epoch 66/100\n",
            "313/313 [==============================] - 2s 7ms/step - loss: 0.0460 - accuracy: 0.9841 - val_loss: 3.8834 - val_accuracy: 0.4814\n",
            "Epoch 67/100\n",
            "313/313 [==============================] - 2s 8ms/step - loss: 0.0530 - accuracy: 0.9821 - val_loss: 3.8740 - val_accuracy: 0.4516\n",
            "Epoch 68/100\n",
            "313/313 [==============================] - 2s 8ms/step - loss: 0.0402 - accuracy: 0.9865 - val_loss: 3.8315 - val_accuracy: 0.4812\n",
            "Epoch 69/100\n",
            "313/313 [==============================] - 3s 9ms/step - loss: 0.0350 - accuracy: 0.9883 - val_loss: 4.2207 - val_accuracy: 0.4719\n",
            "Epoch 70/100\n",
            "313/313 [==============================] - 2s 8ms/step - loss: 0.0353 - accuracy: 0.9881 - val_loss: 4.0931 - val_accuracy: 0.4639\n",
            "Epoch 71/100\n",
            "313/313 [==============================] - 2s 7ms/step - loss: 0.0465 - accuracy: 0.9837 - val_loss: 3.8168 - val_accuracy: 0.4893\n",
            "Epoch 72/100\n",
            "313/313 [==============================] - 2s 7ms/step - loss: 0.0441 - accuracy: 0.9848 - val_loss: 3.6895 - val_accuracy: 0.5056\n",
            "Epoch 73/100\n",
            "313/313 [==============================] - 3s 9ms/step - loss: 0.0285 - accuracy: 0.9906 - val_loss: 3.6932 - val_accuracy: 0.5019\n",
            "Epoch 74/100\n",
            "313/313 [==============================] - 3s 9ms/step - loss: 0.0405 - accuracy: 0.9863 - val_loss: 3.7800 - val_accuracy: 0.4926\n",
            "Epoch 75/100\n",
            "313/313 [==============================] - 2s 8ms/step - loss: 0.0422 - accuracy: 0.9855 - val_loss: 4.0764 - val_accuracy: 0.4782\n",
            "Epoch 76/100\n",
            "313/313 [==============================] - 2s 7ms/step - loss: 0.0443 - accuracy: 0.9850 - val_loss: 3.9921 - val_accuracy: 0.4768\n",
            "Epoch 77/100\n",
            "313/313 [==============================] - 2s 7ms/step - loss: 0.0396 - accuracy: 0.9857 - val_loss: 3.6851 - val_accuracy: 0.5029\n",
            "Epoch 78/100\n",
            "313/313 [==============================] - 2s 8ms/step - loss: 0.0286 - accuracy: 0.9902 - val_loss: 3.8687 - val_accuracy: 0.5089\n",
            "Epoch 79/100\n",
            "313/313 [==============================] - 3s 9ms/step - loss: 0.0302 - accuracy: 0.9902 - val_loss: 3.9789 - val_accuracy: 0.4972\n",
            "Epoch 80/100\n",
            "313/313 [==============================] - 2s 7ms/step - loss: 0.0404 - accuracy: 0.9862 - val_loss: 3.9253 - val_accuracy: 0.4885\n",
            "Epoch 81/100\n",
            "313/313 [==============================] - 2s 8ms/step - loss: 0.0380 - accuracy: 0.9872 - val_loss: 4.2423 - val_accuracy: 0.4733\n",
            "Epoch 82/100\n",
            "313/313 [==============================] - 2s 8ms/step - loss: 0.0393 - accuracy: 0.9856 - val_loss: 4.3929 - val_accuracy: 0.4614\n",
            "Epoch 83/100\n",
            "313/313 [==============================] - 3s 8ms/step - loss: 0.0304 - accuracy: 0.9893 - val_loss: 4.1489 - val_accuracy: 0.4872\n",
            "Epoch 84/100\n",
            "313/313 [==============================] - 3s 8ms/step - loss: 0.0331 - accuracy: 0.9884 - val_loss: 3.8552 - val_accuracy: 0.5010\n",
            "Epoch 85/100\n",
            "313/313 [==============================] - 2s 7ms/step - loss: 0.0400 - accuracy: 0.9864 - val_loss: 3.8566 - val_accuracy: 0.5012\n",
            "Epoch 86/100\n",
            "313/313 [==============================] - 2s 8ms/step - loss: 0.0341 - accuracy: 0.9889 - val_loss: 3.8144 - val_accuracy: 0.5071\n",
            "Epoch 87/100\n",
            "313/313 [==============================] - 2s 7ms/step - loss: 0.0275 - accuracy: 0.9905 - val_loss: 3.8795 - val_accuracy: 0.5084\n",
            "Epoch 88/100\n",
            "313/313 [==============================] - 3s 8ms/step - loss: 0.0281 - accuracy: 0.9902 - val_loss: 3.9398 - val_accuracy: 0.4993\n",
            "Epoch 89/100\n",
            "313/313 [==============================] - 3s 9ms/step - loss: 0.0367 - accuracy: 0.9876 - val_loss: 3.5560 - val_accuracy: 0.5232\n",
            "Epoch 90/100\n",
            "313/313 [==============================] - 2s 7ms/step - loss: 0.0298 - accuracy: 0.9898 - val_loss: 3.9867 - val_accuracy: 0.4867\n",
            "Epoch 91/100\n",
            "313/313 [==============================] - 2s 7ms/step - loss: 0.0264 - accuracy: 0.9905 - val_loss: 4.2052 - val_accuracy: 0.5016\n",
            "Epoch 92/100\n",
            "313/313 [==============================] - 2s 7ms/step - loss: 0.0258 - accuracy: 0.9912 - val_loss: 4.6512 - val_accuracy: 0.4781\n",
            "Epoch 93/100\n",
            "313/313 [==============================] - 3s 8ms/step - loss: 0.0361 - accuracy: 0.9877 - val_loss: 3.5674 - val_accuracy: 0.5110\n",
            "Epoch 94/100\n",
            "313/313 [==============================] - 3s 9ms/step - loss: 0.0281 - accuracy: 0.9903 - val_loss: 3.7448 - val_accuracy: 0.5138\n",
            "Epoch 95/100\n",
            "313/313 [==============================] - 2s 7ms/step - loss: 0.0342 - accuracy: 0.9883 - val_loss: 3.8904 - val_accuracy: 0.4992\n",
            "Epoch 96/100\n",
            "313/313 [==============================] - 2s 8ms/step - loss: 0.0318 - accuracy: 0.9892 - val_loss: 3.9959 - val_accuracy: 0.4859\n",
            "Epoch 97/100\n",
            "313/313 [==============================] - 2s 8ms/step - loss: 0.0306 - accuracy: 0.9895 - val_loss: 3.7333 - val_accuracy: 0.5185\n",
            "Epoch 98/100\n",
            "313/313 [==============================] - 3s 10ms/step - loss: 0.0280 - accuracy: 0.9909 - val_loss: 3.6518 - val_accuracy: 0.5168\n",
            "Epoch 99/100\n",
            "313/313 [==============================] - 3s 8ms/step - loss: 0.0199 - accuracy: 0.9932 - val_loss: 3.6439 - val_accuracy: 0.5351\n",
            "Epoch 100/100\n",
            "313/313 [==============================] - 2s 8ms/step - loss: 0.0227 - accuracy: 0.9930 - val_loss: 3.8891 - val_accuracy: 0.5164\n",
            "CPU times: user 4min 12s, sys: 17.5 s, total: 4min 30s\n",
            "Wall time: 4min 24s\n"
          ]
        }
      ]
    },
    {
      "cell_type": "markdown",
      "metadata": {
        "id": "FnnIyFtNKhbD"
      },
      "source": [
        "> ## 4) 학습 결과 시각화"
      ]
    },
    {
      "cell_type": "markdown",
      "metadata": {
        "id": "YgXRhVauKqOm"
      },
      "source": [
        "* Loss Visualization"
      ]
    },
    {
      "cell_type": "code",
      "metadata": {
        "id": "OQ4ke8BbKi50",
        "colab": {
          "base_uri": "https://localhost:8080/",
          "height": 487
        },
        "outputId": "c0a8be27-01f6-41ad-90a6-fd64ec6b2164"
      },
      "source": [
        "import matplotlib.pyplot as plt\n",
        "\n",
        "epochs = range(1, len(Hist_CIFAR.history['loss']) + 1)\n",
        "\n",
        "plt.figure(figsize = (15, 5))\n",
        "\n",
        "plt.subplot(1, 2, 1)\n",
        "plt.plot(epochs, Hist_CIFAR.history['loss'], 'b-')\n",
        "plt.plot(epochs, Hist_CIFAR.history['val_loss'], 'r--')\n",
        "plt.title('Training & Validation Loss')\n",
        "plt.xlabel('Epochs')\n",
        "plt.ylabel('Loss')\n",
        "plt.ylim(0, 4.5)\n",
        "plt.legend(['Training Loss', 'Validation Loss'])\n",
        "plt.grid()\n",
        "\n",
        "plt.subplot(1, 2, 2)\n",
        "plt.plot(epochs, Hist_CIFAR.history['accuracy'], 'b-')\n",
        "plt.plot(epochs, Hist_CIFAR.history['val_accuracy'], 'r--')\n",
        "plt.title('Training & Validation Accuracy')\n",
        "plt.xlabel('Epochs')\n",
        "plt.ylabel('Accuracy')\n",
        "plt.legend(['Training Accuracy', 'Validation Accuracy'])\n",
        "plt.grid()\n",
        "\n",
        "plt.show()"
      ],
      "execution_count": null,
      "outputs": [
        {
          "output_type": "display_data",
          "data": {
            "text/plain": [
              "<Figure size 1500x500 with 2 Axes>"
            ],
            "image/png": "[encoded data removed]"
          },
          "metadata": {}
        }
      ]
    },
    {
      "cell_type": "markdown",
      "metadata": {
        "id": "_uJSOLBko7lh"
      },
      "source": [
        "> ## 5) Model Evaluate"
      ]
    },
    {
      "cell_type": "markdown",
      "metadata": {
        "id": "i-TqAB2ALGzZ"
      },
      "source": [
        "* Loss & Accuracy"
      ]
    },
    {
      "cell_type": "code",
      "metadata": {
        "id": "OF30PuZsAxQJ",
        "colab": {
          "base_uri": "https://localhost:8080/"
        },
        "outputId": "075c6a94-9d65-4f0c-9ca5-48523f7775f9"
      },
      "source": [
        "loss, accuracy = CIFAR.evaluate(X_test, y_test, verbose = 0)\n",
        "\n",
        "print('Loss = {:.5f}'.format(loss))\n",
        "print('Accuracy = {:.5f}'.format(accuracy))"
      ],
      "execution_count": null,
      "outputs": [
        {
          "output_type": "stream",
          "name": "stdout",
          "text": [
            "Loss = 3.93306\n",
            "Accuracy = 0.51320\n"
          ]
        }
      ]
    },
    {
      "cell_type": "markdown",
      "metadata": {
        "id": "sN48I9GrLxOX"
      },
      "source": [
        "#\n",
        "#\n",
        "#\n",
        "# End Of Document\n",
        "#\n",
        "#\n",
        "#"
      ]
    }
  ]
}