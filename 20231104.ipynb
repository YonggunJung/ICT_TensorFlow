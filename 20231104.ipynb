{
  "nbformat": 4,
  "nbformat_minor": 0,
  "metadata": {
    "colab": {
      "provenance": [],
      "authorship_tag": "ABX9TyNL6brnRqAfbEq04JFHgNE/",
      "include_colab_link": true
    },
    "kernelspec": {
      "name": "python3",
      "display_name": "Python 3"
    },
    "language_info": {
      "name": "python"
    }
  },
  "cells": [
    {
      "cell_type": "markdown",
      "metadata": {
        "id": "view-in-github",
        "colab_type": "text"
      },
      "source": [
        "<a href=\"https://colab.research.google.com/github/YonggunJung/ICT_TensorFlow/blob/main/20231104.ipynb\" target=\"_parent\"><img src=\"https://colab.research.google.com/assets/colab-badge.svg\" alt=\"Open In Colab\"/></a>"
      ]
    },
    {
      "cell_type": "code",
      "execution_count": 3,
      "metadata": {
        "colab": {
          "base_uri": "https://localhost:8080/"
        },
        "id": "UeWxLdS5kAuq",
        "outputId": "bcb13ec6-a2ce-464d-cf1c-0fbb3a34bd88"
      },
      "outputs": [
        {
          "output_type": "stream",
          "name": "stdout",
          "text": [
            "hello\n"
          ]
        }
      ],
      "source": [
        "print('hello')"
      ]
    },
    {
      "cell_type": "code",
      "source": [
        "print(3)"
      ],
      "metadata": {
        "colab": {
          "base_uri": "https://localhost:8080/"
        },
        "id": "UkQsIVrfoL3T",
        "outputId": "d32e49c5-bbb0-424b-d6a5-e6e248f811dd"
      },
      "execution_count": 4,
      "outputs": [
        {
          "output_type": "stream",
          "name": "stdout",
          "text": [
            "3\n"
          ]
        }
      ]
    },
    {
      "cell_type": "code",
      "source": [
        "print(3 +4)"
      ],
      "metadata": {
        "colab": {
          "base_uri": "https://localhost:8080/"
        },
        "id": "CLRALQt1oS5p",
        "outputId": "a3ddac21-5e0c-410b-f84e-f7a80c76f903"
      },
      "execution_count": 5,
      "outputs": [
        {
          "output_type": "stream",
          "name": "stdout",
          "text": [
            "7\n"
          ]
        }
      ]
    },
    {
      "cell_type": "code",
      "source": [
        "import numpy as np\n",
        "import pandas as pd\n",
        "import tensorflow as tf"
      ],
      "metadata": {
        "id": "KIKQwl6ooU9Z"
      },
      "execution_count": 6,
      "outputs": []
    },
    {
      "cell_type": "code",
      "source": [
        "# 머신러닝의 머신은 수학의 함수를 의미한다.\n",
        "# 함수에서 학습은 파라미터의 업데이트.\n",
        "# 파라미터가 최적화된 함수를 모델이라고함.\n",
        "# 모델은 학습이 완료된 함수다."
      ],
      "metadata": {
        "id": "miAQMVxb3eIs"
      },
      "execution_count": 7,
      "outputs": []
    },
    {
      "cell_type": "code",
      "source": [
        "# Gradient Descent Method (경사하강법)\n",
        "# 미분값 - 접선의 기울기, 순간 변화량\n",
        "# 경사 = 편미분값 = 접선의 기울기"
      ],
      "metadata": {
        "id": "Rrh6zzxTNS6s"
      },
      "execution_count": null,
      "outputs": []
    }
  ]
}