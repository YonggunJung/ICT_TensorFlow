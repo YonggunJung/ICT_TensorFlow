{
  "nbformat": 4,
  "nbformat_minor": 0,
  "metadata": {
    "colab": {
      "provenance": [],
      "authorship_tag": "ABX9TyNWYiRVKZRbEHNJIcQ+JCP1",
      "include_colab_link": true
    },
    "kernelspec": {
      "name": "python3",
      "display_name": "Python 3"
    },
    "language_info": {
      "name": "python"
    }
  },
  "cells": [
    {
      "cell_type": "markdown",
      "metadata": {
        "id": "view-in-github",
        "colab_type": "text"
      },
      "source": [
        "<a href=\"https://colab.research.google.com/github/YonggunJung/ICT_TensorFlow/blob/main/%EC%82%BC%EA%B0%81%ED%98%95%EC%9D%98_%EC%99%84%EC%84%B1%EC%A1%B0%EA%B1%B4_(1).ipynb\" target=\"_parent\"><img src=\"https://colab.research.google.com/assets/colab-badge.svg\" alt=\"Open In Colab\"/></a>"
      ]
    },
    {
      "cell_type": "code",
      "execution_count": null,
      "metadata": {
        "id": "tG9ybhgmirey"
      },
      "outputs": [],
      "source": [
        "# 문제 설명\n",
        "# 선분 세 개로 삼각형을 만들기 위해서는 다음과 같은 조건을 만족해야 합니다.\n",
        "\n",
        "#  - 가장 긴 변의 길이는 다른 두 변의 길이의 합보다 작아야 합니다.\n",
        "\n",
        "# 삼각형의 세 변의 길이가 담긴 배열 sides이 매개변수로 주어집니다.\n",
        "# 세 변으로 삼각형을 만들 수 있다면 1,\n",
        "# 만들 수 없다면 2를 return하도록 solution 함수를 완성해주세요.\n",
        "\n",
        "# 제한사항\n",
        "# sides의 원소는 자연수입니다.\n",
        "# sides의 길이는 3입니다.\n",
        "# 1 ≤ sides의 원소 ≤ 1,000\n",
        "\n",
        "# 입출력 예\n",
        "# sides     \t          result\n",
        "# [1, 2, 3]\t              2\n",
        "# [3, 6, 2]             \t2\n",
        "# [199, 72, 222]        \t1\n",
        "\n",
        "# 입출력 예 설명\n",
        "# 입출력 예 #1\n",
        "# 가장 큰 변인 3이 나머지 두 변의 합 3과 같으므로 삼각형을 완성할 수 없습니다. 따라서 2를 return합니다.\n",
        "\n",
        "# 입출력 예 #2\n",
        "# 가장 큰 변인 6이 나머지 두 변의 합 5보다 크므로 삼각형을 완성할 수 없습니다. 따라서 2를 return합니다.\n",
        "\n",
        "# 입출력 예 #3\n",
        "# 가장 큰 변인 222가 나머지 두 변의 합 271보다 작으므로 삼각형을 완성할 수 있습니다. 따라서 1을 return합니다."
      ]
    },
    {
      "cell_type": "code",
      "source": [
        "# 뭔가 확실하게는 몰라서 시간 걸림\n",
        "def solution(sides):\n",
        "    answer = 1\n",
        "    if sorted(sides)[0] + sorted(sides)[1] <= sorted(sides)[2]:\n",
        "      answer = 2\n",
        "    return answer"
      ],
      "metadata": {
        "id": "w-E1tT-hjQjC"
      },
      "execution_count": 55,
      "outputs": []
    },
    {
      "cell_type": "code",
      "source": [
        "sides = [199, 72, 222]\n",
        "sides.sort()\n",
        "sides"
      ],
      "metadata": {
        "colab": {
          "base_uri": "https://localhost:8080/"
        },
        "id": "P6avtGPDrxaZ",
        "outputId": "67886f48-8202-495b-df6f-2138b423eaae"
      },
      "execution_count": 56,
      "outputs": [
        {
          "output_type": "execute_result",
          "data": {
            "text/plain": [
              "[72, 199, 222]"
            ]
          },
          "metadata": {},
          "execution_count": 56
        }
      ]
    },
    {
      "cell_type": "code",
      "source": [
        "sides = [199, 72, 222]\n",
        "sorted(sides)"
      ],
      "metadata": {
        "colab": {
          "base_uri": "https://localhost:8080/"
        },
        "id": "8Qm8XaczsI8t",
        "outputId": "8cbdf983-d487-4b8b-bacb-3adc76f0eb9a"
      },
      "execution_count": 61,
      "outputs": [
        {
          "output_type": "execute_result",
          "data": {
            "text/plain": [
              "[72, 199, 222]"
            ]
          },
          "metadata": {},
          "execution_count": 61
        }
      ]
    },
    {
      "cell_type": "code",
      "source": [
        "sides = [1, 2, 3]\n",
        "solution(sides)"
      ],
      "metadata": {
        "colab": {
          "base_uri": "https://localhost:8080/"
        },
        "id": "QntxPTq1j1_n",
        "outputId": "66854e3f-e62d-41ca-e379-f2eae1dd68e9"
      },
      "execution_count": 58,
      "outputs": [
        {
          "output_type": "execute_result",
          "data": {
            "text/plain": [
              "2"
            ]
          },
          "metadata": {},
          "execution_count": 58
        }
      ]
    },
    {
      "cell_type": "code",
      "source": [
        "sides = [3, 6, 2]\n",
        "solution(sides)"
      ],
      "metadata": {
        "colab": {
          "base_uri": "https://localhost:8080/"
        },
        "id": "eBbcgwASkdQm",
        "outputId": "e7f19624-ce6c-44f8-9365-505a986eb9f0"
      },
      "execution_count": 59,
      "outputs": [
        {
          "output_type": "execute_result",
          "data": {
            "text/plain": [
              "2"
            ]
          },
          "metadata": {},
          "execution_count": 59
        }
      ]
    },
    {
      "cell_type": "code",
      "source": [
        "sides = [199, 72, 222]\n",
        "solution(sides)"
      ],
      "metadata": {
        "colab": {
          "base_uri": "https://localhost:8080/"
        },
        "id": "FA2e25dhkeal",
        "outputId": "7c6855e5-9778-435e-f0a7-328eb7656e87"
      },
      "execution_count": 60,
      "outputs": [
        {
          "output_type": "execute_result",
          "data": {
            "text/plain": [
              "1"
            ]
          },
          "metadata": {},
          "execution_count": 60
        }
      ]
    },
    {
      "cell_type": "code",
      "source": [
        "# 다른사람 풀이"
      ],
      "metadata": {
        "id": "zIbPYM6pknnP"
      },
      "execution_count": 62,
      "outputs": []
    },
    {
      "cell_type": "code",
      "source": [
        "# 내가 처음에 생각한 풀이\n",
        "# max(), sum() 이용\n",
        "def solution(sides):\n",
        "    return 1 if max(sides) < (sum(sides) - max(sides)) else 2"
      ],
      "metadata": {
        "id": "5-esJsJQtANe"
      },
      "execution_count": 63,
      "outputs": []
    },
    {
      "cell_type": "code",
      "source": [
        "# 나보다 조금 간단\n",
        "def solution(sides):\n",
        "    sides.sort()\n",
        "    return 1 if sides[0]+sides[1]>sides[2] else 2"
      ],
      "metadata": {
        "id": "BQBSbErUtFQz"
      },
      "execution_count": null,
      "outputs": []
    },
    {
      "cell_type": "code",
      "source": [
        "# 완전 수식으로\n",
        "def solution(sides):\n",
        "    answer = 0\n",
        "    sides.sort()\n",
        "    a, b, c = sides[0], sides[1], sides[2]\n",
        "    if a + b > c:\n",
        "        return 1\n",
        "    return 2"
      ],
      "metadata": {
        "id": "Z95Ge5SNtbUN"
      },
      "execution_count": null,
      "outputs": []
    },
    {
      "cell_type": "code",
      "source": [
        "# 이렇게도 가능, 좋음\n",
        "def solution(sides):\n",
        "    return 1 if sum(sides) > 2 * max(sides) else 2"
      ],
      "metadata": {
        "id": "sBlrvM5ltjVA"
      },
      "execution_count": null,
      "outputs": []
    }
  ]
}