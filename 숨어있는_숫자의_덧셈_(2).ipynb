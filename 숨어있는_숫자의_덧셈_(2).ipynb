{
  "nbformat": 4,
  "nbformat_minor": 0,
  "metadata": {
    "colab": {
      "provenance": [],
      "authorship_tag": "ABX9TyMFojAclj5DKJEh/pdOqMFU",
      "include_colab_link": true
    },
    "kernelspec": {
      "name": "python3",
      "display_name": "Python 3"
    },
    "language_info": {
      "name": "python"
    }
  },
  "cells": [
    {
      "cell_type": "markdown",
      "metadata": {
        "id": "view-in-github",
        "colab_type": "text"
      },
      "source": [
        "<a href=\"https://colab.research.google.com/github/YonggunJung/ICT_TensorFlow/blob/main/%EC%88%A8%EC%96%B4%EC%9E%88%EB%8A%94_%EC%88%AB%EC%9E%90%EC%9D%98_%EB%8D%A7%EC%85%88_(2).ipynb\" target=\"_parent\"><img src=\"https://colab.research.google.com/assets/colab-badge.svg\" alt=\"Open In Colab\"/></a>"
      ]
    },
    {
      "cell_type": "code",
      "execution_count": 1,
      "metadata": {
        "id": "iVO2IbMb4T6I"
      },
      "outputs": [],
      "source": [
        "# 문제 설명\n",
        "# 문자열 my_string이 매개변수로 주어집니다.\n",
        "# my_string은 소문자, 대문자, 자연수로만 구성되어있습니다.\n",
        "# my_string안의 자연수들의 합을 return하도록 solution 함수를 완성해주세요.\n",
        "\n",
        "# 제한사항\n",
        "# 1 ≤ my_string의 길이 ≤ 1,000\n",
        "# 1 ≤ my_string 안의 자연수 ≤ 1000\n",
        "# 연속된 수는 하나의 숫자로 간주합니다.\n",
        "# 000123과 같이 0이 선행하는 경우는 없습니다.\n",
        "# 문자열에 자연수가 없는 경우 0을 return 해주세요.\n",
        "\n",
        "# 입출력 예\n",
        "# my_string\t            result\n",
        "# \"aAb1B2cC34oOp\"\t        37\n",
        "# \"1a2b3c4d123Z\"\t        133\n",
        "\n",
        "# 입출력 예 설명\n",
        "# 입출력 예 #1\n",
        "# \"aAb1B2cC34oOp\"안의 자연수는 1, 2, 34 입니다. 따라서 1 + 2 + 34 = 37 을 return합니다.\n",
        "\n",
        "# 입출력 예 #2\n",
        "# \"1a2b3c4d123Z\"안의 자연수는 1, 2, 3, 4, 123 입니다. 따라서 1 + 2 + 3 + 4 + 123 = 133 을 return합니다."
      ]
    },
    {
      "cell_type": "code",
      "source": [
        "# 어려움 10 이상의 숫자 못찾음 풀이 봄\n",
        "#  점점  길어지고 복잡해짐\n",
        "def solution(my_string):\n",
        "    answer = 0\n",
        "    ns = \"\"\n",
        "    for char in my_string:\n",
        "      if char.isdigit():\n",
        "        ns += char\n",
        "      else:\n",
        "        if ns == \"\":\n",
        "          pass\n",
        "        else:\n",
        "          answer += int(ns)\n",
        "          ns = \"\"\n",
        "    if ns == \"\":\n",
        "      pass\n",
        "    else:\n",
        "      answer += int(ns)\n",
        "    return answer"
      ],
      "metadata": {
        "id": "vPb022ID4bIO"
      },
      "execution_count": 7,
      "outputs": []
    },
    {
      "cell_type": "code",
      "source": [
        "my_string = \"aAb1B2cC34oOp\"\n",
        "solution(my_string)"
      ],
      "metadata": {
        "colab": {
          "base_uri": "https://localhost:8080/"
        },
        "id": "kO4DzHKa4cve",
        "outputId": "b55fa661-c24e-4381-b2fb-5d1b403c952f"
      },
      "execution_count": 8,
      "outputs": [
        {
          "output_type": "execute_result",
          "data": {
            "text/plain": [
              "37"
            ]
          },
          "metadata": {},
          "execution_count": 8
        }
      ]
    },
    {
      "cell_type": "code",
      "source": [
        "my_string = \"1a2b3c4d123Z\"\n",
        "solution(my_string)"
      ],
      "metadata": {
        "colab": {
          "base_uri": "https://localhost:8080/"
        },
        "id": "0s7Vcho64cs9",
        "outputId": "416c1985-d9c6-4631-8aa3-529733b55eeb"
      },
      "execution_count": 9,
      "outputs": [
        {
          "output_type": "execute_result",
          "data": {
            "text/plain": [
              "133"
            ]
          },
          "metadata": {},
          "execution_count": 9
        }
      ]
    },
    {
      "cell_type": "code",
      "source": [
        "# 다른 사람 풀이"
      ],
      "metadata": {
        "id": "7AaZS9wx4cqu"
      },
      "execution_count": 10,
      "outputs": []
    },
    {
      "cell_type": "code",
      "source": [
        "# 참 신기하게 잘 풀었음\n",
        "# 다 이해는 안감\n",
        "def solution(my_string):\n",
        "    s = ''.join(i if i.isdigit() else ' ' for i in my_string)\n",
        "    return sum(int(i) for i in s.split())"
      ],
      "metadata": {
        "id": "nQi3MANF7N3I"
      },
      "execution_count": 12,
      "outputs": []
    },
    {
      "cell_type": "code",
      "source": [
        "# 아는게 힘이다 배워라\n",
        "import re\n",
        "\n",
        "def solution(my_string):\n",
        "    return sum([int(i) for i in re.findall(r'[0-9]+', my_string)])"
      ],
      "metadata": {
        "id": "d3Q4Np467WLF"
      },
      "execution_count": 13,
      "outputs": []
    },
    {
      "cell_type": "code",
      "source": [
        "# 내가 본 풀이보다 더 간단한 느낌\n",
        "def solution(my_string):\n",
        "    answer = 0\n",
        "    temp = ''\n",
        "    for i in my_string:\n",
        "        if i.isdigit():\n",
        "            temp += i\n",
        "        else:\n",
        "            if temp:\n",
        "                answer += int(temp)\n",
        "                temp = ''\n",
        "    if temp:\n",
        "        answer += int(temp)\n",
        "    return answer"
      ],
      "metadata": {
        "id": "nwOU70bY7gh1"
      },
      "execution_count": null,
      "outputs": []
    }
  ]
}