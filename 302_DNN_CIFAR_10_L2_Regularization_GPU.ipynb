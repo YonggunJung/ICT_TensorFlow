{
  "nbformat": 4,
  "nbformat_minor": 0,
  "metadata": {
    "colab": {
      "provenance": [],
      "include_colab_link": true
    },
    "kernelspec": {
      "name": "python3",
      "display_name": "Python 3"
    },
    "accelerator": "GPU"
  },
  "cells": [
    {
      "cell_type": "markdown",
      "metadata": {
        "id": "view-in-github",
        "colab_type": "text"
      },
      "source": [
        "<a href=\"https://colab.research.google.com/github/YonggunJung/ICT_TensorFlow/blob/main/302_DNN_CIFAR_10_L2_Regularization_GPU.ipynb\" target=\"_parent\"><img src=\"https://colab.research.google.com/assets/colab-badge.svg\" alt=\"Open In Colab\"/></a>"
      ]
    },
    {
      "cell_type": "markdown",
      "metadata": {
        "id": "q2Pr7oBdYLdf"
      },
      "source": [
        "# CIFAR 10 - Categorical Classification\n",
        "\n",
        "> ## L2 Regularization"
      ]
    },
    {
      "cell_type": "code",
      "metadata": {
        "id": "RbPgODpVzdHI"
      },
      "source": [
        "import warnings\n",
        "warnings.filterwarnings('ignore')"
      ],
      "execution_count": null,
      "outputs": []
    },
    {
      "cell_type": "markdown",
      "metadata": {
        "id": "H49A769LYp-a"
      },
      "source": [
        "# I. CIFAR 10 Data_Set Load & Review"
      ]
    },
    {
      "cell_type": "markdown",
      "metadata": {
        "id": "vb6EIkRcbPb4"
      },
      "source": [
        "> ## 1) Load CIFAR 10 Data_Set"
      ]
    },
    {
      "cell_type": "code",
      "metadata": {
        "id": "DxstjE8b_6Te",
        "colab": {
          "base_uri": "https://localhost:8080/"
        },
        "outputId": "2e36adc1-dcb7-42d9-dc6d-17fe0c5a46a0"
      },
      "source": [
        "from tensorflow.keras.datasets import cifar10\n",
        "\n",
        "(X_train, y_train), (X_test, y_test) = cifar10.load_data()"
      ],
      "execution_count": null,
      "outputs": [
        {
          "output_type": "stream",
          "name": "stdout",
          "text": [
            "Downloading data from https://www.cs.toronto.edu/~kriz/cifar-10-python.tar.gz\n",
            "170498071/170498071 [==============================] - 2s 0us/step\n"
          ]
        }
      ]
    },
    {
      "cell_type": "markdown",
      "metadata": {
        "id": "Mk9XL5vGHor6"
      },
      "source": [
        "# II. Data Preprocessing"
      ]
    },
    {
      "cell_type": "markdown",
      "metadata": {
        "id": "ec8zU4XCZRUF"
      },
      "source": [
        "> ## 1) Reshape and Normalization"
      ]
    },
    {
      "cell_type": "markdown",
      "metadata": {
        "id": "olI6ZPtEIb8H"
      },
      "source": [
        "* reshape\n",
        " * (50000, 32, 32, 3) to (50000, 3072)"
      ]
    },
    {
      "cell_type": "code",
      "metadata": {
        "id": "8-toPn1ZAmFd",
        "colab": {
          "base_uri": "https://localhost:8080/"
        },
        "outputId": "76866450-d9e6-4acc-c1e2-d964c9bd0eae"
      },
      "source": [
        "X_train = X_train.reshape((50000, 32 * 32 * 3))\n",
        "X_test = X_test.reshape((10000, 32 * 32 * 3))\n",
        "\n",
        "X_train.shape, X_test.shape"
      ],
      "execution_count": null,
      "outputs": [
        {
          "output_type": "execute_result",
          "data": {
            "text/plain": [
              "((50000, 3072), (10000, 3072))"
            ]
          },
          "metadata": {},
          "execution_count": 3
        }
      ]
    },
    {
      "cell_type": "markdown",
      "metadata": {
        "id": "UN-xPWjYIeWL"
      },
      "source": [
        "* Normalization"
      ]
    },
    {
      "cell_type": "code",
      "metadata": {
        "id": "SoGHuYeFIGBj"
      },
      "source": [
        "X_train = X_train.astype(float) / 255\n",
        "X_test = X_test.astype(float) / 255"
      ],
      "execution_count": null,
      "outputs": []
    },
    {
      "cell_type": "markdown",
      "metadata": {
        "id": "BtSROU80aF12"
      },
      "source": [
        "> ## 2) One Hot Encoding"
      ]
    },
    {
      "cell_type": "code",
      "metadata": {
        "id": "eC48Oym3Ao8E"
      },
      "source": [
        "from tensorflow.keras.utils import to_categorical\n",
        "\n",
        "y_train = to_categorical(y_train)\n",
        "y_test = to_categorical(y_test)"
      ],
      "execution_count": null,
      "outputs": []
    },
    {
      "cell_type": "markdown",
      "source": [
        "> ## 3) train_test_split( )\n",
        "\n",
        "* Train(40,000) vs. Validation(10,000)"
      ],
      "metadata": {
        "id": "5Y0xaGNzYkI2"
      }
    },
    {
      "cell_type": "code",
      "source": [
        "from sklearn.model_selection import train_test_split\n",
        "\n",
        "X_train, X_valid, y_train, y_valid = train_test_split(X_train, y_train,\n",
        "                                                      test_size = 0.2,\n",
        "                                                      random_state = 2045)"
      ],
      "metadata": {
        "id": "zdpfzw3TXRHG"
      },
      "execution_count": null,
      "outputs": []
    },
    {
      "cell_type": "markdown",
      "metadata": {
        "id": "NTwZiSjiop3v"
      },
      "source": [
        "# III. Keras Modeling"
      ]
    },
    {
      "cell_type": "markdown",
      "metadata": {
        "id": "j5CT0TurJCkc"
      },
      "source": [
        "> ## 1) Model Define"
      ]
    },
    {
      "cell_type": "markdown",
      "metadata": {
        "id": "ydDCl0jTJD58"
      },
      "source": [
        "* 모델 신경망 구조 정의\n",
        " - 3개 Hidden Layers & 2816개 Nodes\n",
        " - L2 Regularization"
      ]
    },
    {
      "cell_type": "code",
      "metadata": {
        "id": "II0DskRdAcHS"
      },
      "source": [
        "from tensorflow.keras import models\n",
        "from tensorflow.keras import layers\n",
        "from tensorflow.keras import regularizers\n",
        "\n",
        "CIFAR = models.Sequential()\n",
        "CIFAR.add(layers.Dense(2048, activation = 'relu',\n",
        "                       kernel_regularizer = regularizers.l2(0.0005),\n",
        "                       input_shape = (32 * 32 * 3,)))\n",
        "CIFAR.add(layers.Dense(512, activation = 'relu',\n",
        "                       kernel_regularizer = regularizers.l2(0.0005)))\n",
        "CIFAR.add(layers.Dense(128, activation = 'relu',\n",
        "                       kernel_regularizer = regularizers.l2(0.0005)))\n",
        "CIFAR.add(layers.Dense(10, activation = 'softmax'))"
      ],
      "execution_count": null,
      "outputs": []
    },
    {
      "cell_type": "markdown",
      "metadata": {
        "id": "PqrObAHZJTN8"
      },
      "source": [
        "* 모델 구조 확인"
      ]
    },
    {
      "cell_type": "code",
      "metadata": {
        "id": "wbtjOA4XMTUd",
        "colab": {
          "base_uri": "https://localhost:8080/"
        },
        "outputId": "d91246d0-4184-4a05-d05e-19d7fbd0074b"
      },
      "source": [
        "CIFAR.summary()"
      ],
      "execution_count": null,
      "outputs": [
        {
          "output_type": "stream",
          "name": "stdout",
          "text": [
            "Model: \"sequential\"\n",
            "_________________________________________________________________\n",
            " Layer (type)                Output Shape              Param #   \n",
            "=================================================================\n",
            " dense (Dense)               (None, 2048)              6293504   \n",
            "                                                                 \n",
            " dense_1 (Dense)             (None, 512)               1049088   \n",
            "                                                                 \n",
            " dense_2 (Dense)             (None, 128)               65664     \n",
            "                                                                 \n",
            " dense_3 (Dense)             (None, 10)                1290      \n",
            "                                                                 \n",
            "=================================================================\n",
            "Total params: 7409546 (28.27 MB)\n",
            "Trainable params: 7409546 (28.27 MB)\n",
            "Non-trainable params: 0 (0.00 Byte)\n",
            "_________________________________________________________________\n"
          ]
        }
      ]
    },
    {
      "cell_type": "markdown",
      "metadata": {
        "id": "tpjBDBeYoyuj"
      },
      "source": [
        "> ## 2) Model Compile"
      ]
    },
    {
      "cell_type": "markdown",
      "metadata": {
        "id": "f3sxkQa0JoUr"
      },
      "source": [
        "* 모델 학습방법 설정"
      ]
    },
    {
      "cell_type": "code",
      "metadata": {
        "id": "AyK_t1qwAi6M"
      },
      "source": [
        "CIFAR.compile(loss = 'categorical_crossentropy',\n",
        "              optimizer = 'adam',\n",
        "              metrics = ['accuracy'])"
      ],
      "execution_count": null,
      "outputs": []
    },
    {
      "cell_type": "markdown",
      "metadata": {
        "id": "umiq4B-Xo3OB"
      },
      "source": [
        "> ## 3) Model Fit"
      ]
    },
    {
      "cell_type": "markdown",
      "metadata": {
        "id": "1KuXREziKMD1"
      },
      "source": [
        "* 약 5분"
      ]
    },
    {
      "cell_type": "code",
      "metadata": {
        "id": "zxwqwAqRAqRP",
        "colab": {
          "base_uri": "https://localhost:8080/"
        },
        "outputId": "c1e8672b-7125-4dba-a795-f834f9cb8f41"
      },
      "source": [
        "%%time\n",
        "\n",
        "Hist_CIFAR = CIFAR.fit(X_train, y_train,\n",
        "                       epochs = 100,\n",
        "                       batch_size = 128,\n",
        "                       validation_data = (X_valid, y_valid))"
      ],
      "execution_count": null,
      "outputs": [
        {
          "output_type": "stream",
          "name": "stdout",
          "text": [
            "Epoch 1/100\n",
            "313/313 [==============================] - 9s 8ms/step - loss: 2.7839 - accuracy: 0.2785 - val_loss: 2.2091 - val_accuracy: 0.3482\n",
            "Epoch 2/100\n",
            "313/313 [==============================] - 2s 7ms/step - loss: 2.0534 - accuracy: 0.3638 - val_loss: 1.9568 - val_accuracy: 0.3699\n",
            "Epoch 3/100\n",
            "313/313 [==============================] - 2s 6ms/step - loss: 1.8746 - accuracy: 0.3875 - val_loss: 1.8625 - val_accuracy: 0.3791\n",
            "Epoch 4/100\n",
            "313/313 [==============================] - 2s 7ms/step - loss: 1.7827 - accuracy: 0.4094 - val_loss: 1.7933 - val_accuracy: 0.4057\n",
            "Epoch 5/100\n",
            "313/313 [==============================] - 2s 6ms/step - loss: 1.7239 - accuracy: 0.4258 - val_loss: 1.7639 - val_accuracy: 0.4167\n",
            "Epoch 6/100\n",
            "313/313 [==============================] - 2s 6ms/step - loss: 1.6820 - accuracy: 0.4356 - val_loss: 1.6719 - val_accuracy: 0.4427\n",
            "Epoch 7/100\n",
            "313/313 [==============================] - 2s 6ms/step - loss: 1.6338 - accuracy: 0.4516 - val_loss: 1.6304 - val_accuracy: 0.4555\n",
            "Epoch 8/100\n",
            "313/313 [==============================] - 2s 6ms/step - loss: 1.6112 - accuracy: 0.4588 - val_loss: 1.6271 - val_accuracy: 0.4546\n",
            "Epoch 9/100\n",
            "313/313 [==============================] - 2s 6ms/step - loss: 1.5894 - accuracy: 0.4635 - val_loss: 1.6482 - val_accuracy: 0.4436\n",
            "Epoch 10/100\n",
            "313/313 [==============================] - 2s 7ms/step - loss: 1.5689 - accuracy: 0.4733 - val_loss: 1.6206 - val_accuracy: 0.4582\n",
            "Epoch 11/100\n",
            "313/313 [==============================] - 2s 7ms/step - loss: 1.5517 - accuracy: 0.4806 - val_loss: 1.5986 - val_accuracy: 0.4609\n",
            "Epoch 12/100\n",
            "313/313 [==============================] - 2s 6ms/step - loss: 1.5379 - accuracy: 0.4847 - val_loss: 1.5876 - val_accuracy: 0.4724\n",
            "Epoch 13/100\n",
            "313/313 [==============================] - 2s 6ms/step - loss: 1.5150 - accuracy: 0.4929 - val_loss: 1.5745 - val_accuracy: 0.4828\n",
            "Epoch 14/100\n",
            "313/313 [==============================] - 2s 6ms/step - loss: 1.5135 - accuracy: 0.4966 - val_loss: 1.5566 - val_accuracy: 0.4789\n",
            "Epoch 15/100\n",
            "313/313 [==============================] - 2s 6ms/step - loss: 1.4933 - accuracy: 0.5020 - val_loss: 1.5638 - val_accuracy: 0.4819\n",
            "Epoch 16/100\n",
            "313/313 [==============================] - 2s 7ms/step - loss: 1.4916 - accuracy: 0.5017 - val_loss: 1.5786 - val_accuracy: 0.4747\n",
            "Epoch 17/100\n",
            "313/313 [==============================] - 2s 7ms/step - loss: 1.4750 - accuracy: 0.5106 - val_loss: 1.5751 - val_accuracy: 0.4815\n",
            "Epoch 18/100\n",
            "313/313 [==============================] - 2s 6ms/step - loss: 1.4746 - accuracy: 0.5089 - val_loss: 1.5352 - val_accuracy: 0.4902\n",
            "Epoch 19/100\n",
            "313/313 [==============================] - 2s 6ms/step - loss: 1.4765 - accuracy: 0.5096 - val_loss: 1.5516 - val_accuracy: 0.4872\n",
            "Epoch 20/100\n",
            "313/313 [==============================] - 2s 6ms/step - loss: 1.4613 - accuracy: 0.5169 - val_loss: 1.5628 - val_accuracy: 0.4825\n",
            "Epoch 21/100\n",
            "313/313 [==============================] - 2s 6ms/step - loss: 1.4475 - accuracy: 0.5224 - val_loss: 1.5566 - val_accuracy: 0.4881\n",
            "Epoch 22/100\n",
            "313/313 [==============================] - 2s 7ms/step - loss: 1.4404 - accuracy: 0.5255 - val_loss: 1.5389 - val_accuracy: 0.4934\n",
            "Epoch 23/100\n",
            "313/313 [==============================] - 2s 7ms/step - loss: 1.4392 - accuracy: 0.5270 - val_loss: 1.5692 - val_accuracy: 0.4860\n",
            "Epoch 24/100\n",
            "313/313 [==============================] - 2s 8ms/step - loss: 1.4340 - accuracy: 0.5271 - val_loss: 1.5545 - val_accuracy: 0.4938\n",
            "Epoch 25/100\n",
            "313/313 [==============================] - 2s 7ms/step - loss: 1.4245 - accuracy: 0.5343 - val_loss: 1.5358 - val_accuracy: 0.4968\n",
            "Epoch 26/100\n",
            "313/313 [==============================] - 2s 6ms/step - loss: 1.4135 - accuracy: 0.5394 - val_loss: 1.5313 - val_accuracy: 0.5036\n",
            "Epoch 27/100\n",
            "313/313 [==============================] - 2s 6ms/step - loss: 1.4073 - accuracy: 0.5403 - val_loss: 1.5337 - val_accuracy: 0.4995\n",
            "Epoch 28/100\n",
            "313/313 [==============================] - 2s 7ms/step - loss: 1.4063 - accuracy: 0.5421 - val_loss: 1.5898 - val_accuracy: 0.4789\n",
            "Epoch 29/100\n",
            "313/313 [==============================] - 2s 7ms/step - loss: 1.4016 - accuracy: 0.5421 - val_loss: 1.5685 - val_accuracy: 0.4913\n",
            "Epoch 30/100\n",
            "313/313 [==============================] - 2s 7ms/step - loss: 1.3959 - accuracy: 0.5452 - val_loss: 1.5494 - val_accuracy: 0.5005\n",
            "Epoch 31/100\n",
            "313/313 [==============================] - 2s 6ms/step - loss: 1.3866 - accuracy: 0.5480 - val_loss: 1.5186 - val_accuracy: 0.5098\n",
            "Epoch 32/100\n",
            "313/313 [==============================] - 2s 6ms/step - loss: 1.3827 - accuracy: 0.5515 - val_loss: 1.5237 - val_accuracy: 0.5069\n",
            "Epoch 33/100\n",
            "313/313 [==============================] - 2s 6ms/step - loss: 1.3842 - accuracy: 0.5497 - val_loss: 1.5284 - val_accuracy: 0.5004\n",
            "Epoch 34/100\n",
            "313/313 [==============================] - 2s 7ms/step - loss: 1.3752 - accuracy: 0.5583 - val_loss: 1.5414 - val_accuracy: 0.5065\n",
            "Epoch 35/100\n",
            "313/313 [==============================] - 2s 6ms/step - loss: 1.3725 - accuracy: 0.5557 - val_loss: 1.5370 - val_accuracy: 0.5032\n",
            "Epoch 36/100\n",
            "313/313 [==============================] - 2s 6ms/step - loss: 1.3716 - accuracy: 0.5564 - val_loss: 1.5912 - val_accuracy: 0.4916\n",
            "Epoch 37/100\n",
            "313/313 [==============================] - 2s 6ms/step - loss: 1.3689 - accuracy: 0.5562 - val_loss: 1.5305 - val_accuracy: 0.5062\n",
            "Epoch 38/100\n",
            "313/313 [==============================] - 2s 6ms/step - loss: 1.3645 - accuracy: 0.5624 - val_loss: 1.5257 - val_accuracy: 0.5102\n",
            "Epoch 39/100\n",
            "313/313 [==============================] - 2s 6ms/step - loss: 1.3538 - accuracy: 0.5659 - val_loss: 1.5624 - val_accuracy: 0.4991\n",
            "Epoch 40/100\n",
            "313/313 [==============================] - 2s 7ms/step - loss: 1.3618 - accuracy: 0.5607 - val_loss: 1.5327 - val_accuracy: 0.4996\n",
            "Epoch 41/100\n",
            "313/313 [==============================] - 2s 7ms/step - loss: 1.3697 - accuracy: 0.5579 - val_loss: 1.5759 - val_accuracy: 0.4987\n",
            "Epoch 42/100\n",
            "313/313 [==============================] - 2s 7ms/step - loss: 1.3505 - accuracy: 0.5659 - val_loss: 1.5036 - val_accuracy: 0.5180\n",
            "Epoch 43/100\n",
            "313/313 [==============================] - 2s 6ms/step - loss: 1.3470 - accuracy: 0.5684 - val_loss: 1.5336 - val_accuracy: 0.5092\n",
            "Epoch 44/100\n",
            "313/313 [==============================] - 2s 6ms/step - loss: 1.3360 - accuracy: 0.5721 - val_loss: 1.5582 - val_accuracy: 0.5043\n",
            "Epoch 45/100\n",
            "313/313 [==============================] - 2s 6ms/step - loss: 1.3450 - accuracy: 0.5704 - val_loss: 1.5765 - val_accuracy: 0.5020\n",
            "Epoch 46/100\n",
            "313/313 [==============================] - 2s 7ms/step - loss: 1.3311 - accuracy: 0.5762 - val_loss: 1.5295 - val_accuracy: 0.5170\n",
            "Epoch 47/100\n",
            "313/313 [==============================] - 2s 7ms/step - loss: 1.3310 - accuracy: 0.5731 - val_loss: 1.5293 - val_accuracy: 0.5170\n",
            "Epoch 48/100\n",
            "313/313 [==============================] - 2s 7ms/step - loss: 1.3428 - accuracy: 0.5696 - val_loss: 1.5505 - val_accuracy: 0.5016\n",
            "Epoch 49/100\n",
            "313/313 [==============================] - 2s 6ms/step - loss: 1.3189 - accuracy: 0.5803 - val_loss: 1.5417 - val_accuracy: 0.5099\n",
            "Epoch 50/100\n",
            "313/313 [==============================] - 2s 6ms/step - loss: 1.3136 - accuracy: 0.5831 - val_loss: 1.5420 - val_accuracy: 0.5122\n",
            "Epoch 51/100\n",
            "313/313 [==============================] - 2s 7ms/step - loss: 1.3291 - accuracy: 0.5753 - val_loss: 1.5522 - val_accuracy: 0.5026\n",
            "Epoch 52/100\n",
            "313/313 [==============================] - 2s 7ms/step - loss: 1.3197 - accuracy: 0.5785 - val_loss: 1.5850 - val_accuracy: 0.5037\n",
            "Epoch 53/100\n",
            "313/313 [==============================] - 2s 6ms/step - loss: 1.3187 - accuracy: 0.5798 - val_loss: 1.5469 - val_accuracy: 0.5159\n",
            "Epoch 54/100\n",
            "313/313 [==============================] - 2s 6ms/step - loss: 1.3255 - accuracy: 0.5798 - val_loss: 1.5322 - val_accuracy: 0.5125\n",
            "Epoch 55/100\n",
            "313/313 [==============================] - 2s 6ms/step - loss: 1.3160 - accuracy: 0.5819 - val_loss: 1.5789 - val_accuracy: 0.5030\n",
            "Epoch 56/100\n",
            "313/313 [==============================] - 2s 6ms/step - loss: 1.3118 - accuracy: 0.5818 - val_loss: 1.5515 - val_accuracy: 0.5124\n",
            "Epoch 57/100\n",
            "313/313 [==============================] - 2s 6ms/step - loss: 1.3107 - accuracy: 0.5833 - val_loss: 1.5482 - val_accuracy: 0.5172\n",
            "Epoch 58/100\n",
            "313/313 [==============================] - 2s 7ms/step - loss: 1.3029 - accuracy: 0.5869 - val_loss: 1.5965 - val_accuracy: 0.4964\n",
            "Epoch 59/100\n",
            "313/313 [==============================] - 2s 7ms/step - loss: 1.3054 - accuracy: 0.5855 - val_loss: 1.5794 - val_accuracy: 0.5013\n",
            "Epoch 60/100\n",
            "313/313 [==============================] - 2s 6ms/step - loss: 1.3012 - accuracy: 0.5863 - val_loss: 1.5843 - val_accuracy: 0.5047\n",
            "Epoch 61/100\n",
            "313/313 [==============================] - 2s 6ms/step - loss: 1.2985 - accuracy: 0.5905 - val_loss: 1.5393 - val_accuracy: 0.5102\n",
            "Epoch 62/100\n",
            "313/313 [==============================] - 2s 6ms/step - loss: 1.2883 - accuracy: 0.5927 - val_loss: 1.5337 - val_accuracy: 0.5191\n",
            "Epoch 63/100\n",
            "313/313 [==============================] - 2s 6ms/step - loss: 1.2887 - accuracy: 0.5925 - val_loss: 1.5459 - val_accuracy: 0.5123\n",
            "Epoch 64/100\n",
            "313/313 [==============================] - 2s 7ms/step - loss: 1.3043 - accuracy: 0.5858 - val_loss: 1.5515 - val_accuracy: 0.5095\n",
            "Epoch 65/100\n",
            "313/313 [==============================] - 2s 6ms/step - loss: 1.2848 - accuracy: 0.5954 - val_loss: 1.5653 - val_accuracy: 0.5091\n",
            "Epoch 66/100\n",
            "313/313 [==============================] - 2s 6ms/step - loss: 1.2893 - accuracy: 0.5940 - val_loss: 1.6131 - val_accuracy: 0.4963\n",
            "Epoch 67/100\n",
            "313/313 [==============================] - 2s 6ms/step - loss: 1.2875 - accuracy: 0.5957 - val_loss: 1.5701 - val_accuracy: 0.5114\n",
            "Epoch 68/100\n",
            "313/313 [==============================] - 2s 6ms/step - loss: 1.2790 - accuracy: 0.5980 - val_loss: 1.5816 - val_accuracy: 0.5127\n",
            "Epoch 69/100\n",
            "313/313 [==============================] - 2s 6ms/step - loss: 1.2960 - accuracy: 0.5917 - val_loss: 1.5793 - val_accuracy: 0.5013\n",
            "Epoch 70/100\n",
            "313/313 [==============================] - 2s 7ms/step - loss: 1.2838 - accuracy: 0.5959 - val_loss: 1.6112 - val_accuracy: 0.4967\n",
            "Epoch 71/100\n",
            "313/313 [==============================] - 2s 7ms/step - loss: 1.2828 - accuracy: 0.5979 - val_loss: 1.5831 - val_accuracy: 0.4983\n",
            "Epoch 72/100\n",
            "313/313 [==============================] - 2s 6ms/step - loss: 1.2816 - accuracy: 0.5976 - val_loss: 1.6135 - val_accuracy: 0.4996\n",
            "Epoch 73/100\n",
            "313/313 [==============================] - 2s 6ms/step - loss: 1.2967 - accuracy: 0.5899 - val_loss: 1.6280 - val_accuracy: 0.4948\n",
            "Epoch 74/100\n",
            "313/313 [==============================] - 2s 6ms/step - loss: 1.2705 - accuracy: 0.6006 - val_loss: 1.5879 - val_accuracy: 0.5113\n",
            "Epoch 75/100\n",
            "313/313 [==============================] - 2s 6ms/step - loss: 1.2721 - accuracy: 0.6014 - val_loss: 1.5458 - val_accuracy: 0.5188\n",
            "Epoch 76/100\n",
            "313/313 [==============================] - 2s 7ms/step - loss: 1.2724 - accuracy: 0.6020 - val_loss: 1.5543 - val_accuracy: 0.5223\n",
            "Epoch 77/100\n",
            "313/313 [==============================] - 2s 7ms/step - loss: 1.2705 - accuracy: 0.6005 - val_loss: 1.5901 - val_accuracy: 0.4999\n",
            "Epoch 78/100\n",
            "313/313 [==============================] - 2s 6ms/step - loss: 1.2708 - accuracy: 0.6011 - val_loss: 1.5624 - val_accuracy: 0.5150\n",
            "Epoch 79/100\n",
            "313/313 [==============================] - 2s 6ms/step - loss: 1.2776 - accuracy: 0.6001 - val_loss: 1.5822 - val_accuracy: 0.5127\n",
            "Epoch 80/100\n",
            "313/313 [==============================] - 2s 6ms/step - loss: 1.2613 - accuracy: 0.6044 - val_loss: 1.5607 - val_accuracy: 0.5088\n",
            "Epoch 81/100\n",
            "313/313 [==============================] - 2s 6ms/step - loss: 1.2672 - accuracy: 0.6048 - val_loss: 1.5746 - val_accuracy: 0.5211\n",
            "Epoch 82/100\n",
            "313/313 [==============================] - 2s 7ms/step - loss: 1.2586 - accuracy: 0.6078 - val_loss: 1.6621 - val_accuracy: 0.4987\n",
            "Epoch 83/100\n",
            "313/313 [==============================] - 2s 7ms/step - loss: 1.2657 - accuracy: 0.6060 - val_loss: 1.5782 - val_accuracy: 0.5132\n",
            "Epoch 84/100\n",
            "313/313 [==============================] - 2s 6ms/step - loss: 1.2605 - accuracy: 0.6069 - val_loss: 1.5822 - val_accuracy: 0.5160\n",
            "Epoch 85/100\n",
            "313/313 [==============================] - 2s 7ms/step - loss: 1.2554 - accuracy: 0.6093 - val_loss: 1.5670 - val_accuracy: 0.5192\n",
            "Epoch 86/100\n",
            "313/313 [==============================] - 2s 6ms/step - loss: 1.2513 - accuracy: 0.6108 - val_loss: 1.5681 - val_accuracy: 0.5209\n",
            "Epoch 87/100\n",
            "313/313 [==============================] - 2s 6ms/step - loss: 1.2616 - accuracy: 0.6069 - val_loss: 1.5792 - val_accuracy: 0.5137\n",
            "Epoch 88/100\n",
            "313/313 [==============================] - 2s 7ms/step - loss: 1.2528 - accuracy: 0.6109 - val_loss: 1.6597 - val_accuracy: 0.4993\n",
            "Epoch 89/100\n",
            "313/313 [==============================] - 2s 7ms/step - loss: 1.2522 - accuracy: 0.6110 - val_loss: 1.5735 - val_accuracy: 0.5103\n",
            "Epoch 90/100\n",
            "313/313 [==============================] - 2s 6ms/step - loss: 1.2521 - accuracy: 0.6111 - val_loss: 1.6118 - val_accuracy: 0.5107\n",
            "Epoch 91/100\n",
            "313/313 [==============================] - 2s 6ms/step - loss: 1.2492 - accuracy: 0.6143 - val_loss: 1.6376 - val_accuracy: 0.5045\n",
            "Epoch 92/100\n",
            "313/313 [==============================] - 2s 6ms/step - loss: 1.2516 - accuracy: 0.6122 - val_loss: 1.6075 - val_accuracy: 0.5114\n",
            "Epoch 93/100\n",
            "313/313 [==============================] - 2s 6ms/step - loss: 1.2537 - accuracy: 0.6130 - val_loss: 1.6183 - val_accuracy: 0.5073\n",
            "Epoch 94/100\n",
            "313/313 [==============================] - 2s 7ms/step - loss: 1.2547 - accuracy: 0.6114 - val_loss: 1.6273 - val_accuracy: 0.5007\n",
            "Epoch 95/100\n",
            "313/313 [==============================] - 2s 7ms/step - loss: 1.2456 - accuracy: 0.6164 - val_loss: 1.6005 - val_accuracy: 0.5105\n",
            "Epoch 96/100\n",
            "313/313 [==============================] - 2s 6ms/step - loss: 1.2369 - accuracy: 0.6183 - val_loss: 1.6083 - val_accuracy: 0.5090\n",
            "Epoch 97/100\n",
            "313/313 [==============================] - 2s 7ms/step - loss: 1.2502 - accuracy: 0.6108 - val_loss: 1.6577 - val_accuracy: 0.5004\n",
            "Epoch 98/100\n",
            "313/313 [==============================] - 2s 7ms/step - loss: 1.2559 - accuracy: 0.6113 - val_loss: 1.5976 - val_accuracy: 0.5155\n",
            "Epoch 99/100\n",
            "313/313 [==============================] - 2s 7ms/step - loss: 1.2540 - accuracy: 0.6130 - val_loss: 1.6024 - val_accuracy: 0.5173\n",
            "Epoch 100/100\n",
            "313/313 [==============================] - 2s 7ms/step - loss: 1.2575 - accuracy: 0.6095 - val_loss: 1.5902 - val_accuracy: 0.5150\n",
            "CPU times: user 3min 21s, sys: 14.6 s, total: 3min 36s\n",
            "Wall time: 4min 24s\n"
          ]
        }
      ]
    },
    {
      "cell_type": "markdown",
      "metadata": {
        "id": "FnnIyFtNKhbD"
      },
      "source": [
        "> ## 4) 학습 결과 시각화"
      ]
    },
    {
      "cell_type": "markdown",
      "metadata": {
        "id": "YgXRhVauKqOm"
      },
      "source": [
        "* Loss Visualization"
      ]
    },
    {
      "cell_type": "code",
      "metadata": {
        "id": "OQ4ke8BbKi50",
        "colab": {
          "base_uri": "https://localhost:8080/",
          "height": 487
        },
        "outputId": "7cf9594c-8af1-470e-f1ce-f9933d57c368"
      },
      "source": [
        "import matplotlib.pyplot as plt\n",
        "\n",
        "epochs = range(1, len(Hist_CIFAR.history['loss']) + 1)\n",
        "\n",
        "plt.figure(figsize = (15, 5))\n",
        "\n",
        "plt.subplot(1, 2, 1)\n",
        "plt.plot(epochs, Hist_CIFAR.history['loss'], 'b-')\n",
        "plt.plot(epochs, Hist_CIFAR.history['val_loss'], 'r--')\n",
        "plt.title('Training & Validation Loss')\n",
        "plt.xlabel('Epochs')\n",
        "plt.ylabel('Loss')\n",
        "plt.ylim(0, 4.5)\n",
        "plt.legend(['Training Loss', 'Validation Loss'])\n",
        "plt.grid()\n",
        "\n",
        "plt.subplot(1, 2, 2)\n",
        "plt.plot(epochs, Hist_CIFAR.history['accuracy'], 'b-')\n",
        "plt.plot(epochs, Hist_CIFAR.history['val_accuracy'], 'r--')\n",
        "plt.title('Training & Validation Accuracy')\n",
        "plt.xlabel('Epochs')\n",
        "plt.ylabel('Accuracy')\n",
        "plt.legend(['Training Accuracy', 'Validation Accuracy'])\n",
        "plt.grid()\n",
        "\n",
        "plt.show()"
      ],
      "execution_count": null,
      "outputs": [
        {
          "output_type": "display_data",
          "data": {
            "text/plain": [
              "<Figure size 1500x500 with 2 Axes>"
            ],
            "image/png": "[encoded data removed]"
          },
          "metadata": {}
        }
      ]
    },
    {
      "cell_type": "markdown",
      "metadata": {
        "id": "_uJSOLBko7lh"
      },
      "source": [
        "> ## 5) Model Evaluate"
      ]
    },
    {
      "cell_type": "markdown",
      "metadata": {
        "id": "i-TqAB2ALGzZ"
      },
      "source": [
        "* Loss & Accuracy"
      ]
    },
    {
      "cell_type": "code",
      "metadata": {
        "id": "OF30PuZsAxQJ",
        "colab": {
          "base_uri": "https://localhost:8080/"
        },
        "outputId": "949b8599-e2d6-4ff6-bd33-115a5b53b018"
      },
      "source": [
        "loss, accuracy = CIFAR.evaluate(X_test, y_test, verbose = 0)\n",
        "\n",
        "print('Loss = {:.5f}'.format(loss))\n",
        "print('Accuracy = {:.5f}'.format(accuracy))"
      ],
      "execution_count": null,
      "outputs": [
        {
          "output_type": "stream",
          "name": "stdout",
          "text": [
            "Loss = 1.57909\n",
            "Accuracy = 0.51410\n"
          ]
        }
      ]
    },
    {
      "cell_type": "markdown",
      "metadata": {
        "id": "sN48I9GrLxOX"
      },
      "source": [
        "#\n",
        "#\n",
        "#\n",
        "# End Of Document\n",
        "#\n",
        "#\n",
        "#"
      ]
    }
  ]
}