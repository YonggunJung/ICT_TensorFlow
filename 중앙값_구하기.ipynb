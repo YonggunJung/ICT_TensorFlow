{
  "nbformat": 4,
  "nbformat_minor": 0,
  "metadata": {
    "colab": {
      "provenance": [],
      "authorship_tag": "ABX9TyO++bOKXeyaOBhWj/QVzpbY",
      "include_colab_link": true
    },
    "kernelspec": {
      "name": "python3",
      "display_name": "Python 3"
    },
    "language_info": {
      "name": "python"
    }
  },
  "cells": [
    {
      "cell_type": "markdown",
      "metadata": {
        "id": "view-in-github",
        "colab_type": "text"
      },
      "source": [
        "<a href=\"https://colab.research.google.com/github/YonggunJung/ICT_TensorFlow/blob/main/%EC%A4%91%EC%95%99%EA%B0%92_%EA%B5%AC%ED%95%98%EA%B8%B0.ipynb\" target=\"_parent\"><img src=\"https://colab.research.google.com/assets/colab-badge.svg\" alt=\"Open In Colab\"/></a>"
      ]
    },
    {
      "cell_type": "code",
      "execution_count": 1,
      "metadata": {
        "id": "fmMSPX2I8Ehl"
      },
      "outputs": [],
      "source": [
        "# 문제 설명\n",
        "# 중앙값은 어떤 주어진 값들을 크기의 순서대로 정렬했을 때 가장 중앙에 위치하는 값을 의미합니다.\n",
        "# 예를 들어 1, 2, 7, 10, 11의 중앙값은 7입니다.\n",
        "# 정수 배열 array가 매개변수로 주어질 때,\n",
        "# 중앙값을 return 하도록 solution 함수를 완성해보세요.\n",
        "\n",
        "# 제한사항\n",
        "# array의 길이는 홀수입니다.\n",
        "# 0 < array의 길이 < 100\n",
        "# -1,000 < array의 원소 < 1,000\n",
        "\n",
        "# 입출력 예\n",
        "# array\t                result\n",
        "# [1, 2, 7, 10, 11]     \t7\n",
        "# [9, -1, 0]\t            0\n",
        "\n",
        "# 입출력 예 설명\n",
        "# 입출력 예 #1\n",
        "# 본문과 동일합니다.\n",
        "\n",
        "# 입출력 예 #2\n",
        "# 9, -1, 0을 오름차순 정렬하면 -1, 0, 9이고 가장 중앙에 위치하는 값은 0입니다."
      ]
    },
    {
      "cell_type": "code",
      "source": [
        "def solution(array):\n",
        "    answer = sorted(array)[len(array)//2]\n",
        "    return answer"
      ],
      "metadata": {
        "id": "rU8buEyT8Of5"
      },
      "execution_count": 14,
      "outputs": []
    },
    {
      "cell_type": "code",
      "source": [
        "array = [10, 9, -1, 0, -2]\n",
        "a = sorted(array)\n",
        "b = a[len(a)//2]\n",
        "b"
      ],
      "metadata": {
        "colab": {
          "base_uri": "https://localhost:8080/"
        },
        "id": "oKMtqpPx80mt",
        "outputId": "a27476c5-a7a1-491b-9b16-575506be1b2a"
      },
      "execution_count": 10,
      "outputs": [
        {
          "output_type": "execute_result",
          "data": {
            "text/plain": [
              "0"
            ]
          },
          "metadata": {},
          "execution_count": 10
        }
      ]
    },
    {
      "cell_type": "code",
      "source": [
        "array = [1, 2, 7, 10, 11]\n",
        "solution(array)"
      ],
      "metadata": {
        "colab": {
          "base_uri": "https://localhost:8080/"
        },
        "id": "spY36O8z8WYo",
        "outputId": "c46b5754-992f-4a84-c7b7-d24ae19d2bff"
      },
      "execution_count": 15,
      "outputs": [
        {
          "output_type": "execute_result",
          "data": {
            "text/plain": [
              "7"
            ]
          },
          "metadata": {},
          "execution_count": 15
        }
      ]
    },
    {
      "cell_type": "code",
      "source": [
        "array = [9, -1, 0]\n",
        "solution(array)"
      ],
      "metadata": {
        "colab": {
          "base_uri": "https://localhost:8080/"
        },
        "id": "WLz6RyQe8an9",
        "outputId": "3c2e75cd-d1e5-4c24-8cbc-4c81f2882800"
      },
      "execution_count": 16,
      "outputs": [
        {
          "output_type": "execute_result",
          "data": {
            "text/plain": [
              "0"
            ]
          },
          "metadata": {},
          "execution_count": 16
        }
      ]
    },
    {
      "cell_type": "code",
      "source": [
        "# 다른 사람 풀이"
      ],
      "metadata": {
        "id": "ntWXsLfR-DhJ"
      },
      "execution_count": 17,
      "outputs": []
    },
    {
      "cell_type": "code",
      "source": [
        "# 거의다 비슷함\n",
        "def solution(array):\n",
        "    array = sorted(array)\n",
        "    length = len(array)//2\n",
        "    return array[length]"
      ],
      "metadata": {
        "id": "ETNJYbSk-fl6"
      },
      "execution_count": null,
      "outputs": []
    }
  ]
}