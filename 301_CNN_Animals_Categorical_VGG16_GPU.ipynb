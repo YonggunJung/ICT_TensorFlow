{
  "nbformat": 4,
  "nbformat_minor": 0,
  "metadata": {
    "colab": {
      "provenance": [],
      "include_colab_link": true
    },
    "kernelspec": {
      "name": "python3",
      "display_name": "Python 3"
    },
    "gpuClass": "standard",
    "accelerator": "GPU"
  },
  "cells": [
    {
      "cell_type": "markdown",
      "metadata": {
        "id": "view-in-github",
        "colab_type": "text"
      },
      "source": [
        "<a href=\"https://colab.research.google.com/github/YonggunJung/ICT_TensorFlow/blob/main/301_CNN_Animals_Categorical_VGG16_GPU.ipynb\" target=\"_parent\"><img src=\"https://colab.research.google.com/assets/colab-badge.svg\" alt=\"Open In Colab\"/></a>"
      ]
    },
    {
      "cell_type": "markdown",
      "metadata": {
        "id": "q2Pr7oBdYLdf"
      },
      "source": [
        "# 이미지 데이터 셋을 이용한 CNN Modeling\n",
        "## Animals Dataset Categorical Classification\n",
        "* Train_Data : 5000\n",
        "* Valid_Data : 3000\n",
        "* Test_Data : 3000"
      ]
    },
    {
      "cell_type": "code",
      "metadata": {
        "id": "RbPgODpVzdHI"
      },
      "source": [
        "import warnings\n",
        "warnings.filterwarnings('ignore')"
      ],
      "execution_count": null,
      "outputs": []
    },
    {
      "cell_type": "markdown",
      "source": [
        "* Import TensorFlow"
      ],
      "metadata": {
        "id": "kGLxnpmRyMwH"
      }
    },
    {
      "cell_type": "code",
      "source": [
        "import tensorflow as tf\n",
        "\n",
        "tf.__version__"
      ],
      "metadata": {
        "colab": {
          "base_uri": "https://localhost:8080/",
          "height": 35
        },
        "id": "axDX2DfUyPlO",
        "outputId": "4d6adf50-46ef-4398-fcba-b3623c5b27b9"
      },
      "execution_count": null,
      "outputs": [
        {
          "output_type": "execute_result",
          "data": {
            "text/plain": [
              "'2.12.0'"
            ],
            "application/vnd.google.colaboratory.intrinsic+json": {
              "type": "string"
            }
          },
          "metadata": {},
          "execution_count": 2
        }
      ]
    },
    {
      "cell_type": "markdown",
      "metadata": {
        "id": "6d1FeKK1CgqG"
      },
      "source": [
        "# I. wget From Github"
      ]
    },
    {
      "cell_type": "markdown",
      "source": [
        "> ## 1) 'animals_part.zip' 파일 다운로드"
      ],
      "metadata": {
        "id": "aQ-o8xUHpG7-"
      }
    },
    {
      "cell_type": "code",
      "source": [
        "!wget https://raw.githubusercontent.com/rusita-ai/pyData/master/animals_part.z{ip,01,02}"
      ],
      "metadata": {
        "colab": {
          "base_uri": "https://localhost:8080/"
        },
        "outputId": "e901cd2c-403a-4cdb-a27e-d1aea5f0068f",
        "id": "2CzPFoL9DW-p"
      },
      "execution_count": null,
      "outputs": [
        {
          "output_type": "stream",
          "name": "stdout",
          "text": [
            "--2023-04-06 05:46:37--  https://raw.githubusercontent.com/rusita-ai/pyData/master/animals_part.zip\n",
            "Resolving raw.githubusercontent.com (raw.githubusercontent.com)... 185.199.111.133, 185.199.108.133, 185.199.110.133, ...\n",
            "Connecting to raw.githubusercontent.com (raw.githubusercontent.com)|185.199.111.133|:443... connected.\n",
            "HTTP request sent, awaiting response... 200 OK\n",
            "Length: 88551715 (84M) [application/zip]\n",
            "Saving to: ‘animals_part.zip’\n",
            "\n",
            "animals_part.zip    100%[===================>]  84.45M   168MB/s    in 0.5s    \n",
            "\n",
            "2023-04-06 05:46:40 (168 MB/s) - ‘animals_part.zip’ saved [88551715/88551715]\n",
            "\n",
            "--2023-04-06 05:46:40--  https://raw.githubusercontent.com/rusita-ai/pyData/master/animals_part.z01\n",
            "Reusing existing connection to raw.githubusercontent.com:443.\n",
            "HTTP request sent, awaiting response... 200 OK\n",
            "Length: 94371840 (90M) [application/octet-stream]\n",
            "Saving to: ‘animals_part.z01’\n",
            "\n",
            "animals_part.z01    100%[===================>]  90.00M   392MB/s    in 0.2s    \n",
            "\n",
            "2023-04-06 05:46:46 (392 MB/s) - ‘animals_part.z01’ saved [94371840/94371840]\n",
            "\n",
            "--2023-04-06 05:46:46--  https://raw.githubusercontent.com/rusita-ai/pyData/master/animals_part.z02\n",
            "Reusing existing connection to raw.githubusercontent.com:443.\n",
            "HTTP request sent, awaiting response... 200 OK\n",
            "Length: 94371840 (90M) [application/octet-stream]\n",
            "Saving to: ‘animals_part.z02’\n",
            "\n",
            "animals_part.z02    100%[===================>]  90.00M   236MB/s    in 0.4s    \n",
            "\n",
            "2023-04-06 05:46:49 (236 MB/s) - ‘animals_part.z02’ saved [94371840/94371840]\n",
            "\n",
            "FINISHED --2023-04-06 05:46:49--\n",
            "Total wall clock time: 12s\n",
            "Downloaded: 3 files, 264M in 1.1s (238 MB/s)\n"
          ]
        }
      ]
    },
    {
      "cell_type": "markdown",
      "metadata": {
        "id": "rBrMKlsgEvV7"
      },
      "source": [
        "* 다운로드 결과 확인"
      ]
    },
    {
      "cell_type": "code",
      "metadata": {
        "id": "ZAA_YjrVExu7",
        "colab": {
          "base_uri": "https://localhost:8080/"
        },
        "outputId": "03ef635b-9429-4c37-8314-e35edb24b21e"
      },
      "source": [
        "!ls -l"
      ],
      "execution_count": null,
      "outputs": [
        {
          "output_type": "stream",
          "name": "stdout",
          "text": [
            "total 270804\n",
            "-rw-r--r-- 1 root root 94371840 Apr  6 05:46 animals_part.z01\n",
            "-rw-r--r-- 1 root root 94371840 Apr  6 05:46 animals_part.z02\n",
            "-rw-r--r-- 1 root root 88551715 Apr  6 05:46 animals_part.zip\n",
            "drwxr-xr-x 1 root root     4096 Apr  4 13:35 sample_data\n"
          ]
        }
      ]
    },
    {
      "cell_type": "markdown",
      "source": [
        "> ## 2) 분할된 파일 합치기"
      ],
      "metadata": {
        "id": "LpDYRNy9pS72"
      }
    },
    {
      "cell_type": "code",
      "source": [
        "!zip -Fq /content/animals_part.zip --out /content/animals.zip"
      ],
      "metadata": {
        "id": "oObuOlWgc8X7"
      },
      "execution_count": null,
      "outputs": []
    },
    {
      "cell_type": "markdown",
      "source": [
        "* 'animals.zip' 생성 확인"
      ],
      "metadata": {
        "id": "2RJG0f3npnju"
      }
    },
    {
      "cell_type": "code",
      "source": [
        "!ls -l"
      ],
      "metadata": {
        "colab": {
          "base_uri": "https://localhost:8080/"
        },
        "id": "0QoV9boXpsL1",
        "outputId": "4d017256-cd8f-4c41-dde4-6111c5e1e23e"
      },
      "execution_count": null,
      "outputs": [
        {
          "output_type": "stream",
          "name": "stdout",
          "text": [
            "total 541604\n",
            "-rw-r--r-- 1 root root  94371840 Apr  6 05:46 animals_part.z01\n",
            "-rw-r--r-- 1 root root  94371840 Apr  6 05:46 animals_part.z02\n",
            "-rw-r--r-- 1 root root  88551715 Apr  6 05:46 animals_part.zip\n",
            "-rw-r--r-- 1 root root 277295391 Apr  6 05:46 animals.zip\n",
            "drwxr-xr-x 1 root root      4096 Apr  4 13:35 sample_data\n"
          ]
        }
      ]
    },
    {
      "cell_type": "markdown",
      "metadata": {
        "id": "1DyFdyVxFyHK"
      },
      "source": [
        "# II. Data Preprocessing"
      ]
    },
    {
      "cell_type": "markdown",
      "metadata": {
        "id": "D9zdBsGKnLUo"
      },
      "source": [
        "> ## 1) Unzip 'animals.zip'"
      ]
    },
    {
      "cell_type": "code",
      "metadata": {
        "id": "WkuHaDXcnUtY"
      },
      "source": [
        "!unzip -q /content/animals.zip"
      ],
      "execution_count": null,
      "outputs": []
    },
    {
      "cell_type": "markdown",
      "source": [
        "* 학습 데이터 확인"
      ],
      "metadata": {
        "id": "nYRGJ9bpp4pF"
      }
    },
    {
      "cell_type": "code",
      "source": [
        "!ls -l /content/animals"
      ],
      "metadata": {
        "colab": {
          "base_uri": "https://localhost:8080/"
        },
        "id": "FdQBGRJTp0MV",
        "outputId": "7ea85c9d-dcce-4c35-ea34-adc81bec80b7"
      },
      "execution_count": null,
      "outputs": [
        {
          "output_type": "stream",
          "name": "stdout",
          "text": [
            "total 12\n",
            "drwxr-xr-x 12 root root 4096 Oct 25 13:50 test\n",
            "drwxr-xr-x 12 root root 4096 Oct 25 13:50 train\n",
            "drwxr-xr-x 12 root root 4096 Oct 25 13:50 validation\n"
          ]
        }
      ]
    },
    {
      "cell_type": "markdown",
      "metadata": {
        "id": "H49A769LYp-a"
      },
      "source": [
        "> ## 2) Image_File Directory Setting"
      ]
    },
    {
      "cell_type": "markdown",
      "metadata": {
        "id": "fwUMpMCYGB7Z"
      },
      "source": [
        "* train_dir\n",
        "* valid_dir\n",
        "* test_dir"
      ]
    },
    {
      "cell_type": "code",
      "metadata": {
        "id": "DxstjE8b_6Te"
      },
      "source": [
        "train_dir = '/content/animals/train'\n",
        "valid_dir = '/content/animals/validation'\n",
        "test_dir  = '/content/animals/test'"
      ],
      "execution_count": null,
      "outputs": []
    },
    {
      "cell_type": "markdown",
      "metadata": {
        "id": "Mk9XL5vGHor6"
      },
      "source": [
        "> ## 3) ImageDataGenerator( ) & flow_from_directory( )"
      ]
    },
    {
      "cell_type": "markdown",
      "metadata": {
        "id": "_UbiVo2EGlOt"
      },
      "source": [
        "* Normalization\n",
        " * ImageDataGenerator( )\n",
        "* Resizing & Generator\n",
        " * flow_from_directory( )"
      ]
    },
    {
      "cell_type": "code",
      "metadata": {
        "id": "eC48Oym3Ao8E",
        "colab": {
          "base_uri": "https://localhost:8080/"
        },
        "outputId": "0389d654-e987-4206-a015-332ac7d2e75b"
      },
      "source": [
        "from tensorflow.keras.preprocessing.image import ImageDataGenerator\n",
        "\n",
        "train_datagen = ImageDataGenerator(rescale = 1./255,\n",
        "                                   rotation_range = 40,\n",
        "                                   width_shift_range = 0.2,\n",
        "                                   height_shift_range = 0.2,\n",
        "                                   shear_range = 0.2,\n",
        "                                   zoom_range = 0.2,\n",
        "                                   horizontal_flip = True,\n",
        "                                   vertical_flip = True,\n",
        "                                   fill_mode = 'nearest')\n",
        "\n",
        "valid_datagen = ImageDataGenerator(rescale = 1./255)\n",
        "\n",
        "\n",
        "train_generator = train_datagen.flow_from_directory(\n",
        "                  train_dir,\n",
        "                  target_size = (150, 150),\n",
        "                  batch_size = 20,\n",
        "                  class_mode = 'categorical')\n",
        "\n",
        "valid_generator = valid_datagen.flow_from_directory(\n",
        "                  valid_dir,\n",
        "                  target_size = (150, 150),\n",
        "                  batch_size = 20,\n",
        "                  class_mode = 'categorical')"
      ],
      "execution_count": null,
      "outputs": [
        {
          "output_type": "stream",
          "name": "stdout",
          "text": [
            "Found 5000 images belonging to 10 classes.\n",
            "Found 3000 images belonging to 10 classes.\n"
          ]
        }
      ]
    },
    {
      "cell_type": "markdown",
      "metadata": {
        "id": "vCpCB_giJbZr"
      },
      "source": [
        "> ## 4) Test train_generator"
      ]
    },
    {
      "cell_type": "code",
      "metadata": {
        "id": "NW5rHWtcJnTq",
        "colab": {
          "base_uri": "https://localhost:8080/"
        },
        "outputId": "1546b82a-5c86-4097-947f-7a4275c7c278"
      },
      "source": [
        "for data_batch, labels_batch in train_generator:\n",
        "    print('배치 데이터 크기:', data_batch.shape)\n",
        "    print('배치 레이블 크기:', labels_batch.shape)\n",
        "    break"
      ],
      "execution_count": null,
      "outputs": [
        {
          "output_type": "stream",
          "name": "stdout",
          "text": [
            "배치 데이터 크기: (20, 150, 150, 3)\n",
            "배치 레이블 크기: (20, 10)\n"
          ]
        }
      ]
    },
    {
      "cell_type": "code",
      "metadata": {
        "colab": {
          "base_uri": "https://localhost:8080/"
        },
        "id": "VnTocUr6YgKa",
        "outputId": "f713d473-ee3c-488e-8179-b004186029e7"
      },
      "source": [
        "labels_batch"
      ],
      "execution_count": null,
      "outputs": [
        {
          "output_type": "execute_result",
          "data": {
            "text/plain": [
              "array([[0., 0., 0., 0., 0., 1., 0., 0., 0., 0.],\n",
              "       [0., 1., 0., 0., 0., 0., 0., 0., 0., 0.],\n",
              "       [0., 0., 0., 0., 0., 1., 0., 0., 0., 0.],\n",
              "       [0., 0., 0., 0., 0., 0., 1., 0., 0., 0.],\n",
              "       [0., 0., 0., 0., 0., 0., 1., 0., 0., 0.],\n",
              "       [0., 1., 0., 0., 0., 0., 0., 0., 0., 0.],\n",
              "       [0., 0., 0., 0., 0., 0., 0., 1., 0., 0.],\n",
              "       [0., 0., 0., 0., 1., 0., 0., 0., 0., 0.],\n",
              "       [0., 0., 0., 0., 0., 1., 0., 0., 0., 0.],\n",
              "       [0., 0., 0., 0., 0., 1., 0., 0., 0., 0.],\n",
              "       [0., 0., 0., 0., 0., 0., 0., 1., 0., 0.],\n",
              "       [0., 1., 0., 0., 0., 0., 0., 0., 0., 0.],\n",
              "       [0., 0., 0., 0., 0., 1., 0., 0., 0., 0.],\n",
              "       [0., 0., 0., 0., 1., 0., 0., 0., 0., 0.],\n",
              "       [1., 0., 0., 0., 0., 0., 0., 0., 0., 0.],\n",
              "       [0., 0., 1., 0., 0., 0., 0., 0., 0., 0.],\n",
              "       [0., 0., 0., 0., 0., 0., 1., 0., 0., 0.],\n",
              "       [0., 0., 1., 0., 0., 0., 0., 0., 0., 0.],\n",
              "       [0., 0., 0., 0., 0., 0., 0., 1., 0., 0.],\n",
              "       [0., 0., 0., 0., 0., 0., 0., 0., 1., 0.]], dtype=float32)"
            ]
          },
          "metadata": {},
          "execution_count": 12
        }
      ]
    },
    {
      "cell_type": "markdown",
      "metadata": {
        "id": "wBAWLCWdGNde"
      },
      "source": [
        "# III. Import VGG-16 Model"
      ]
    },
    {
      "cell_type": "markdown",
      "metadata": {
        "id": "tpdqyBb2Gsdj"
      },
      "source": [
        "> ## 1) conv_base"
      ]
    },
    {
      "cell_type": "code",
      "metadata": {
        "id": "Zgv7VdbFGTGK",
        "colab": {
          "base_uri": "https://localhost:8080/"
        },
        "outputId": "bb7d2b89-0122-425c-eff5-78806f03b6b9"
      },
      "source": [
        "from tensorflow.keras.applications import VGG16\n",
        "\n",
        "conv_base = VGG16(weights = 'imagenet',\n",
        "                  include_top = False,\n",
        "                  input_shape = (150, 150, 3))"
      ],
      "execution_count": null,
      "outputs": [
        {
          "output_type": "stream",
          "name": "stdout",
          "text": [
            "Downloading data from https://storage.googleapis.com/tensorflow/keras-applications/vgg16/vgg16_weights_tf_dim_ordering_tf_kernels_notop.h5\n",
            "58889256/58889256 [==============================] - 0s 0us/step\n"
          ]
        }
      ]
    },
    {
      "cell_type": "markdown",
      "metadata": {
        "id": "GpZKQG4y3wLX"
      },
      "source": [
        "# IV. Keras CNN Modeling with VGG-16"
      ]
    },
    {
      "cell_type": "markdown",
      "metadata": {
        "id": "j5CT0TurJCkc"
      },
      "source": [
        "> ## 1) Model Define"
      ]
    },
    {
      "cell_type": "markdown",
      "metadata": {
        "id": "ydDCl0jTJD58"
      },
      "source": [
        "* 'conv_base' & 'Classification' Network\n",
        "* Dropout Layer"
      ]
    },
    {
      "cell_type": "code",
      "metadata": {
        "id": "II0DskRdAcHS"
      },
      "source": [
        "from tensorflow.keras import models, layers\n",
        "\n",
        "model = models.Sequential()\n",
        "model.add(conv_base)\n",
        "\n",
        "model.add(layers.Flatten())\n",
        "model.add(layers.Dense(512, activation = 'relu'))\n",
        "model.add(layers.Dropout(0.5))\n",
        "model.add(layers.Dense(10, activation = 'softmax'))"
      ],
      "execution_count": null,
      "outputs": []
    },
    {
      "cell_type": "code",
      "metadata": {
        "id": "wbtjOA4XMTUd",
        "colab": {
          "base_uri": "https://localhost:8080/"
        },
        "outputId": "6488461c-47fa-4c98-8748-e7546405ed6a"
      },
      "source": [
        "model.summary()"
      ],
      "execution_count": null,
      "outputs": [
        {
          "output_type": "stream",
          "name": "stdout",
          "text": [
            "Model: \"sequential\"\n",
            "_________________________________________________________________\n",
            " Layer (type)                Output Shape              Param #   \n",
            "=================================================================\n",
            " vgg16 (Functional)          (None, 4, 4, 512)         14714688  \n",
            "                                                                 \n",
            " flatten (Flatten)           (None, 8192)              0         \n",
            "                                                                 \n",
            " dense (Dense)               (None, 512)               4194816   \n",
            "                                                                 \n",
            " dropout (Dropout)           (None, 512)               0         \n",
            "                                                                 \n",
            " dense_1 (Dense)             (None, 10)                5130      \n",
            "                                                                 \n",
            "=================================================================\n",
            "Total params: 18,914,634\n",
            "Trainable params: 18,914,634\n",
            "Non-trainable params: 0\n",
            "_________________________________________________________________\n"
          ]
        }
      ]
    },
    {
      "cell_type": "markdown",
      "metadata": {
        "id": "tpjBDBeYoyuj"
      },
      "source": [
        "> ## 2) Model Compile"
      ]
    },
    {
      "cell_type": "markdown",
      "metadata": {
        "id": "f3sxkQa0JoUr"
      },
      "source": [
        "* 모델 학습방법 설정\n",
        " * 이미 학습된 Weight 값을 Tuning\n",
        " * <font color = 'red'>매우 작은 Learnig Rate 지정</font>\n",
        " * optimizers.Adam(learning_rate = 0.000005)"
      ]
    },
    {
      "cell_type": "code",
      "metadata": {
        "id": "AyK_t1qwAi6M"
      },
      "source": [
        "from tensorflow.keras import optimizers\n",
        "\n",
        "model.compile(loss = 'categorical_crossentropy',\n",
        "              optimizer = optimizers.Adam(learning_rate = 0.000005),\n",
        "              metrics = ['accuracy'])"
      ],
      "execution_count": null,
      "outputs": []
    },
    {
      "cell_type": "markdown",
      "metadata": {
        "id": "umiq4B-Xo3OB"
      },
      "source": [
        "> ## 3) Model Fit"
      ]
    },
    {
      "cell_type": "markdown",
      "metadata": {
        "id": "1KuXREziKMD1"
      },
      "source": [
        "* 약 30분"
      ]
    },
    {
      "cell_type": "code",
      "metadata": {
        "id": "zxwqwAqRAqRP",
        "colab": {
          "base_uri": "https://localhost:8080/"
        },
        "outputId": "d5cef995-80b3-4076-b9dc-aec742291416"
      },
      "source": [
        "%%time\n",
        "\n",
        "Hist_animal = model.fit(train_generator,\n",
        "                        steps_per_epoch = 250,\n",
        "                        epochs = 25,\n",
        "                        validation_data = valid_generator,\n",
        "                        validation_steps = 150)"
      ],
      "execution_count": null,
      "outputs": [
        {
          "output_type": "stream",
          "name": "stdout",
          "text": [
            "Epoch 1/25\n",
            "250/250 [==============================] - 79s 232ms/step - loss: 2.4011 - accuracy: 0.1366 - val_loss: 2.0075 - val_accuracy: 0.3237\n",
            "Epoch 2/25\n",
            "250/250 [==============================] - 60s 239ms/step - loss: 1.8780 - accuracy: 0.3360 - val_loss: 1.4894 - val_accuracy: 0.4637\n",
            "Epoch 3/25\n",
            "250/250 [==============================] - 58s 231ms/step - loss: 1.5053 - accuracy: 0.4752 - val_loss: 1.2826 - val_accuracy: 0.5310\n",
            "Epoch 4/25\n",
            "250/250 [==============================] - 58s 232ms/step - loss: 1.2935 - accuracy: 0.5472 - val_loss: 1.1388 - val_accuracy: 0.6010\n",
            "Epoch 5/25\n",
            "250/250 [==============================] - 58s 234ms/step - loss: 1.1444 - accuracy: 0.6000 - val_loss: 1.0568 - val_accuracy: 0.6373\n",
            "Epoch 6/25\n",
            "250/250 [==============================] - 59s 234ms/step - loss: 1.0525 - accuracy: 0.6348 - val_loss: 1.0083 - val_accuracy: 0.6603\n",
            "Epoch 7/25\n",
            "250/250 [==============================] - 59s 234ms/step - loss: 0.9685 - accuracy: 0.6598 - val_loss: 0.9617 - val_accuracy: 0.6807\n",
            "Epoch 8/25\n",
            "250/250 [==============================] - 59s 234ms/step - loss: 0.8990 - accuracy: 0.6906 - val_loss: 0.8561 - val_accuracy: 0.7290\n",
            "Epoch 9/25\n",
            "250/250 [==============================] - 59s 234ms/step - loss: 0.8354 - accuracy: 0.7144 - val_loss: 0.8666 - val_accuracy: 0.7273\n",
            "Epoch 10/25\n",
            "250/250 [==============================] - 58s 233ms/step - loss: 0.7870 - accuracy: 0.7250 - val_loss: 0.8221 - val_accuracy: 0.7350\n",
            "Epoch 11/25\n",
            "250/250 [==============================] - 58s 233ms/step - loss: 0.7344 - accuracy: 0.7448 - val_loss: 0.8524 - val_accuracy: 0.7393\n",
            "Epoch 12/25\n",
            "250/250 [==============================] - 59s 234ms/step - loss: 0.6911 - accuracy: 0.7622 - val_loss: 0.8185 - val_accuracy: 0.7493\n",
            "Epoch 13/25\n",
            "250/250 [==============================] - 58s 232ms/step - loss: 0.6707 - accuracy: 0.7684 - val_loss: 0.6973 - val_accuracy: 0.7780\n",
            "Epoch 14/25\n",
            "250/250 [==============================] - 58s 233ms/step - loss: 0.6382 - accuracy: 0.7802 - val_loss: 0.7361 - val_accuracy: 0.7760\n",
            "Epoch 15/25\n",
            "250/250 [==============================] - 58s 231ms/step - loss: 0.6119 - accuracy: 0.7918 - val_loss: 0.6636 - val_accuracy: 0.7937\n",
            "Epoch 16/25\n",
            "250/250 [==============================] - 58s 231ms/step - loss: 0.5727 - accuracy: 0.8054 - val_loss: 0.6537 - val_accuracy: 0.7997\n",
            "Epoch 17/25\n",
            "250/250 [==============================] - 58s 233ms/step - loss: 0.5465 - accuracy: 0.8166 - val_loss: 0.6628 - val_accuracy: 0.7927\n",
            "Epoch 18/25\n",
            "250/250 [==============================] - 58s 233ms/step - loss: 0.5180 - accuracy: 0.8252 - val_loss: 0.7032 - val_accuracy: 0.7873\n",
            "Epoch 19/25\n",
            "250/250 [==============================] - 58s 232ms/step - loss: 0.5071 - accuracy: 0.8316 - val_loss: 0.6818 - val_accuracy: 0.7920\n",
            "Epoch 20/25\n",
            "250/250 [==============================] - 58s 232ms/step - loss: 0.4788 - accuracy: 0.8370 - val_loss: 0.5942 - val_accuracy: 0.8173\n",
            "Epoch 21/25\n",
            "250/250 [==============================] - 58s 233ms/step - loss: 0.4694 - accuracy: 0.8432 - val_loss: 0.6065 - val_accuracy: 0.8127\n",
            "Epoch 22/25\n",
            "250/250 [==============================] - 60s 238ms/step - loss: 0.4529 - accuracy: 0.8472 - val_loss: 0.8402 - val_accuracy: 0.7660\n",
            "Epoch 23/25\n",
            "250/250 [==============================] - 58s 234ms/step - loss: 0.4436 - accuracy: 0.8462 - val_loss: 0.5867 - val_accuracy: 0.8210\n",
            "Epoch 24/25\n",
            "250/250 [==============================] - 60s 239ms/step - loss: 0.4220 - accuracy: 0.8572 - val_loss: 0.5561 - val_accuracy: 0.8313\n",
            "Epoch 25/25\n",
            "250/250 [==============================] - 58s 233ms/step - loss: 0.3970 - accuracy: 0.8644 - val_loss: 0.6094 - val_accuracy: 0.8207\n",
            "CPU times: user 33min 27s, sys: 33.6 s, total: 34min 1s\n",
            "Wall time: 25min 27s\n"
          ]
        }
      ]
    },
    {
      "cell_type": "markdown",
      "metadata": {
        "id": "FnnIyFtNKhbD"
      },
      "source": [
        "> ## 4) 학습 결과 시각화"
      ]
    },
    {
      "cell_type": "code",
      "metadata": {
        "id": "BRIqZjTOWaN2",
        "colab": {
          "base_uri": "https://localhost:8080/",
          "height": 487
        },
        "outputId": "20a80613-5f5c-447d-b2a7-c356e2baf20a"
      },
      "source": [
        "import matplotlib.pyplot as plt\n",
        "\n",
        "epochs = range(1, len(Hist_animal.history['loss']) + 1)\n",
        "\n",
        "plt.figure(figsize = (15, 5))\n",
        "\n",
        "plt.subplot(1, 2, 1)\n",
        "plt.plot(epochs, Hist_animal.history['loss'], 'b-')\n",
        "plt.plot(epochs, Hist_animal.history['val_loss'], 'r--')\n",
        "plt.title('Training & Validation Loss')\n",
        "plt.xlabel('Epochs')\n",
        "plt.ylabel('Loss')\n",
        "plt.legend(['Training Loss', 'Validation Loss'])\n",
        "plt.grid()\n",
        "\n",
        "plt.subplot(1, 2, 2)\n",
        "plt.plot(epochs, Hist_animal.history['accuracy'], 'b-')\n",
        "plt.plot(epochs, Hist_animal.history['val_accuracy'], 'r--')\n",
        "plt.title('Training & Validation Accuracy')\n",
        "plt.xlabel('Epochs')\n",
        "plt.ylabel('Accuracy')\n",
        "plt.legend(['Training Accuracy', 'Validation Accuracy'])\n",
        "plt.grid()\n",
        "\n",
        "plt.show()"
      ],
      "execution_count": null,
      "outputs": [
        {
          "output_type": "display_data",
          "data": {
            "text/plain": [
              "<Figure size 1500x500 with 2 Axes>"
            ],
            "image/png": "[encoded data removed]"
          },
          "metadata": {}
        }
      ]
    },
    {
      "cell_type": "markdown",
      "metadata": {
        "id": "_uJSOLBko7lh"
      },
      "source": [
        "> ## 5) Model Evaluate"
      ]
    },
    {
      "cell_type": "markdown",
      "metadata": {
        "id": "vqd33SF_RG3q"
      },
      "source": [
        "* test_generator"
      ]
    },
    {
      "cell_type": "code",
      "metadata": {
        "id": "2SZddYK7RLov",
        "colab": {
          "base_uri": "https://localhost:8080/"
        },
        "outputId": "efd71176-79ee-4ae0-ce27-cc9b66edd348"
      },
      "source": [
        "test_datagen = ImageDataGenerator(rescale = 1./255)\n",
        "\n",
        "test_generator = test_datagen.flow_from_directory(\n",
        "                 test_dir,\n",
        "                 target_size = (150, 150),\n",
        "                 batch_size = 20,\n",
        "                 class_mode = 'categorical')"
      ],
      "execution_count": null,
      "outputs": [
        {
          "output_type": "stream",
          "name": "stdout",
          "text": [
            "Found 3000 images belonging to 10 classes.\n"
          ]
        }
      ]
    },
    {
      "cell_type": "markdown",
      "metadata": {
        "id": "i-TqAB2ALGzZ"
      },
      "source": [
        "* Loss & Accuracy"
      ]
    },
    {
      "cell_type": "code",
      "metadata": {
        "id": "OF30PuZsAxQJ",
        "colab": {
          "base_uri": "https://localhost:8080/"
        },
        "outputId": "82d22fe6-d9d6-4117-ca60-fc29e614dd7c"
      },
      "source": [
        "loss, accuracy = model.evaluate(test_generator,\n",
        "                                steps = 150,\n",
        "                                verbose = 0)\n",
        "\n",
        "print('Loss = {:.5f}'.format(loss))\n",
        "print('Accuracy = {:.5f}'.format(accuracy))"
      ],
      "execution_count": null,
      "outputs": [
        {
          "output_type": "stream",
          "name": "stdout",
          "text": [
            "Loss = 0.63165\n",
            "Accuracy = 0.80500\n"
          ]
        }
      ]
    },
    {
      "cell_type": "markdown",
      "metadata": {
        "id": "sN48I9GrLxOX"
      },
      "source": [
        "#\n",
        "#\n",
        "#\n",
        "# End Of Document\n",
        "#\n",
        "#\n",
        "#"
      ]
    }
  ]
}