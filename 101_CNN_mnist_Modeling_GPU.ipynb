{
  "nbformat": 4,
  "nbformat_minor": 0,
  "metadata": {
    "colab": {
      "provenance": [],
      "include_colab_link": true
    },
    "kernelspec": {
      "name": "python3",
      "display_name": "Python 3"
    },
    "accelerator": "GPU"
  },
  "cells": [
    {
      "cell_type": "markdown",
      "metadata": {
        "id": "view-in-github",
        "colab_type": "text"
      },
      "source": [
        "<a href=\"https://colab.research.google.com/github/YonggunJung/ICT_TensorFlow/blob/main/101_CNN_mnist_Modeling_GPU.ipynb\" target=\"_parent\"><img src=\"https://colab.research.google.com/assets/colab-badge.svg\" alt=\"Open In Colab\"/></a>"
      ]
    },
    {
      "cell_type": "markdown",
      "metadata": {
        "id": "q2Pr7oBdYLdf"
      },
      "source": [
        "# MNIST - Categorical Classification\n",
        "> # Convolutional Neural Network\n"
      ]
    },
    {
      "cell_type": "code",
      "metadata": {
        "id": "RbPgODpVzdHI"
      },
      "source": [
        "import warnings\n",
        "warnings.filterwarnings('ignore')"
      ],
      "execution_count": null,
      "outputs": []
    },
    {
      "cell_type": "markdown",
      "metadata": {
        "id": "tUvJIk2aRFtw"
      },
      "source": [
        "* import Tensorflow"
      ]
    },
    {
      "cell_type": "code",
      "metadata": {
        "id": "GR4j3p6N_rDV",
        "colab": {
          "base_uri": "https://localhost:8080/",
          "height": 35
        },
        "outputId": "dbb3d6c2-41f1-4305-e9f9-cbc29a57a9aa"
      },
      "source": [
        "import tensorflow\n",
        "\n",
        "tensorflow.__version__"
      ],
      "execution_count": null,
      "outputs": [
        {
          "output_type": "execute_result",
          "data": {
            "text/plain": [
              "'2.13.0'"
            ],
            "application/vnd.google.colaboratory.intrinsic+json": {
              "type": "string"
            }
          },
          "metadata": {},
          "execution_count": 2
        }
      ]
    },
    {
      "cell_type": "markdown",
      "metadata": {
        "id": "H49A769LYp-a"
      },
      "source": [
        "# I. MNIST Data_Set Load"
      ]
    },
    {
      "cell_type": "code",
      "metadata": {
        "id": "DxstjE8b_6Te",
        "colab": {
          "base_uri": "https://localhost:8080/"
        },
        "outputId": "3a75a450-08d4-46c2-e45c-31ed3a9319a6"
      },
      "source": [
        "from tensorflow.keras.datasets import mnist\n",
        "\n",
        "(X_train, y_train), (X_test, y_test) = mnist.load_data()\n",
        "\n",
        "X_train.shape, y_train.shape, X_test.shape, y_test.shape"
      ],
      "execution_count": null,
      "outputs": [
        {
          "output_type": "stream",
          "name": "stdout",
          "text": [
            "Downloading data from https://storage.googleapis.com/tensorflow/tf-keras-datasets/mnist.npz\n",
            "11490434/11490434 [==============================] - 0s 0us/step\n"
          ]
        },
        {
          "output_type": "execute_result",
          "data": {
            "text/plain": [
              "((60000, 28, 28), (60000,), (10000, 28, 28), (10000,))"
            ]
          },
          "metadata": {},
          "execution_count": 3
        }
      ]
    },
    {
      "cell_type": "markdown",
      "metadata": {
        "id": "Mk9XL5vGHor6"
      },
      "source": [
        "# II. Data Preprocessing"
      ]
    },
    {
      "cell_type": "markdown",
      "metadata": {
        "id": "jc0dKKjQ8zuT"
      },
      "source": [
        "> ## 1) Normalization"
      ]
    },
    {
      "cell_type": "markdown",
      "metadata": {
        "id": "JKr2u3Qf8zuU"
      },
      "source": [
        "* 범위: 0 ~ 1"
      ]
    },
    {
      "cell_type": "code",
      "metadata": {
        "id": "SoGHuYeFIGBj"
      },
      "source": [
        "X_train = X_train.astype(float) / 255\n",
        "X_test = X_test.astype(float) / 255"
      ],
      "execution_count": null,
      "outputs": []
    },
    {
      "cell_type": "markdown",
      "metadata": {
        "id": "fegSl3Fu87qX"
      },
      "source": [
        "> ## 2) Reshape\n",
        "\n",
        " * (60000, 28, 28) to (60000, 28, 28, 1)"
      ]
    },
    {
      "cell_type": "code",
      "metadata": {
        "id": "8-toPn1ZAmFd"
      },
      "source": [
        "X_train = X_train.reshape((60000, 28, 28, 1))\n",
        "X_test = X_test.reshape((10000, 28, 28, 1))"
      ],
      "execution_count": null,
      "outputs": []
    },
    {
      "cell_type": "markdown",
      "metadata": {
        "id": "BtSROU80aF12"
      },
      "source": [
        "> ## 3) One Hot Encoding"
      ]
    },
    {
      "cell_type": "code",
      "metadata": {
        "id": "eC48Oym3Ao8E"
      },
      "source": [
        "from tensorflow.keras.utils import to_categorical\n",
        "\n",
        "y_train = to_categorical(y_train)\n",
        "y_test = to_categorical(y_test)"
      ],
      "execution_count": null,
      "outputs": []
    },
    {
      "cell_type": "markdown",
      "source": [
        "> ## 4) train_test_split( )\n",
        "\n",
        "* Train(48,000) vs. Validation(12,000)"
      ],
      "metadata": {
        "id": "5Y0xaGNzYkI2"
      }
    },
    {
      "cell_type": "code",
      "source": [
        "from sklearn.model_selection import train_test_split\n",
        "\n",
        "X_train, X_valid, y_train, y_valid = train_test_split(X_train, y_train,\n",
        "                                                      test_size = 0.2,\n",
        "                                                      random_state = 2045)\n",
        "\n",
        "X_train.shape, y_train.shape, X_valid.shape, y_valid.shape"
      ],
      "metadata": {
        "colab": {
          "base_uri": "https://localhost:8080/"
        },
        "id": "zdpfzw3TXRHG",
        "outputId": "8dd233d2-c291-456a-b95b-4463b06376fa"
      },
      "execution_count": null,
      "outputs": [
        {
          "output_type": "execute_result",
          "data": {
            "text/plain": [
              "((48000, 28, 28, 1), (48000, 10), (12000, 28, 28, 1), (12000, 10))"
            ]
          },
          "metadata": {},
          "execution_count": 7
        }
      ]
    },
    {
      "cell_type": "markdown",
      "metadata": {
        "id": "NTwZiSjiop3v"
      },
      "source": [
        "# III. MNIST Keras Modeling"
      ]
    },
    {
      "cell_type": "markdown",
      "metadata": {
        "id": "j5CT0TurJCkc"
      },
      "source": [
        "> ## 1) Model Define"
      ]
    },
    {
      "cell_type": "markdown",
      "metadata": {
        "id": "ydDCl0jTJD58"
      },
      "source": [
        "* Feature Extraction Layer"
      ]
    },
    {
      "cell_type": "code",
      "metadata": {
        "id": "II0DskRdAcHS"
      },
      "source": [
        "# CNN\n",
        "from tensorflow.keras import models\n",
        "from tensorflow.keras import layers\n",
        "\n",
        "model = models.Sequential()\n",
        "model.add(layers.Conv2D(filters = 8, kernel_size = (3, 3),\n",
        "                        strides = (1, 1), padding = 'valid',\n",
        "                        activation = 'relu', input_shape = (28, 28, 1)))\n",
        "model.add(layers.MaxPool2D(pool_size = (2, 2)))\n",
        "model.add(layers.Conv2D(filters = 16, kernel_size = (3, 3),\n",
        "                        strides = (1, 1), padding = 'valid',\n",
        "                        activation = 'relu'))\n",
        "model.add(layers.MaxPool2D(pool_size = (2, 2)))\n",
        "model.add(layers.Conv2D(filters = 32, kernel_size = (3, 3),\n",
        "                        strides = (1, 1), padding = 'valid',\n",
        "                        activation = 'relu'))"
      ],
      "execution_count": null,
      "outputs": []
    },
    {
      "cell_type": "code",
      "metadata": {
        "id": "wbtjOA4XMTUd",
        "colab": {
          "base_uri": "https://localhost:8080/"
        },
        "outputId": "d387b647-3625-4d0a-ffb0-820e0416bbf3"
      },
      "source": [
        "model.summary()"
      ],
      "execution_count": null,
      "outputs": [
        {
          "output_type": "stream",
          "name": "stdout",
          "text": [
            "Model: \"sequential\"\n",
            "_________________________________________________________________\n",
            " Layer (type)                Output Shape              Param #   \n",
            "=================================================================\n",
            " conv2d (Conv2D)             (None, 26, 26, 8)         80        \n",
            "                                                                 \n",
            " max_pooling2d (MaxPooling2  (None, 13, 13, 8)         0         \n",
            " D)                                                              \n",
            "                                                                 \n",
            " conv2d_1 (Conv2D)           (None, 11, 11, 16)        1168      \n",
            "                                                                 \n",
            " max_pooling2d_1 (MaxPoolin  (None, 5, 5, 16)          0         \n",
            " g2D)                                                            \n",
            "                                                                 \n",
            " conv2d_2 (Conv2D)           (None, 3, 3, 32)          4640      \n",
            "                                                                 \n",
            "=================================================================\n",
            "Total params: 5888 (23.00 KB)\n",
            "Trainable params: 5888 (23.00 KB)\n",
            "Non-trainable params: 0 (0.00 Byte)\n",
            "_________________________________________________________________\n"
          ]
        }
      ]
    },
    {
      "cell_type": "markdown",
      "metadata": {
        "id": "bs9_i1a382dw"
      },
      "source": [
        "* Classification Layer"
      ]
    },
    {
      "cell_type": "code",
      "metadata": {
        "id": "jqUDCY2e86G-"
      },
      "source": [
        "# DNN\n",
        "model.add(layers.Flatten())\n",
        "model.add(layers.Dropout(0.5))\n",
        "model.add(layers.Dense(units = 64, activation='relu'))\n",
        "model.add(layers.Dense(units = 10, activation='softmax'))"
      ],
      "execution_count": null,
      "outputs": []
    },
    {
      "cell_type": "code",
      "metadata": {
        "id": "kQ02_BOz8-ek",
        "colab": {
          "base_uri": "https://localhost:8080/"
        },
        "outputId": "05da4f0b-12f1-4092-b574-c1b56799a791"
      },
      "source": [
        "model.summary()"
      ],
      "execution_count": null,
      "outputs": [
        {
          "output_type": "stream",
          "name": "stdout",
          "text": [
            "Model: \"sequential\"\n",
            "_________________________________________________________________\n",
            " Layer (type)                Output Shape              Param #   \n",
            "=================================================================\n",
            " conv2d (Conv2D)             (None, 26, 26, 8)         80        \n",
            "                                                                 \n",
            " max_pooling2d (MaxPooling2  (None, 13, 13, 8)         0         \n",
            " D)                                                              \n",
            "                                                                 \n",
            " conv2d_1 (Conv2D)           (None, 11, 11, 16)        1168      \n",
            "                                                                 \n",
            " max_pooling2d_1 (MaxPoolin  (None, 5, 5, 16)          0         \n",
            " g2D)                                                            \n",
            "                                                                 \n",
            " conv2d_2 (Conv2D)           (None, 3, 3, 32)          4640      \n",
            "                                                                 \n",
            " flatten (Flatten)           (None, 288)               0         \n",
            "                                                                 \n",
            " dropout (Dropout)           (None, 288)               0         \n",
            "                                                                 \n",
            " dense (Dense)               (None, 64)                18496     \n",
            "                                                                 \n",
            " dense_1 (Dense)             (None, 10)                650       \n",
            "                                                                 \n",
            "=================================================================\n",
            "Total params: 25034 (97.79 KB)\n",
            "Trainable params: 25034 (97.79 KB)\n",
            "Non-trainable params: 0 (0.00 Byte)\n",
            "_________________________________________________________________\n"
          ]
        }
      ]
    },
    {
      "cell_type": "markdown",
      "metadata": {
        "id": "tpjBDBeYoyuj"
      },
      "source": [
        "> ## 2) Model Compile"
      ]
    },
    {
      "cell_type": "markdown",
      "metadata": {
        "id": "f3sxkQa0JoUr"
      },
      "source": [
        "* 모델 학습방법 설정"
      ]
    },
    {
      "cell_type": "code",
      "metadata": {
        "id": "AyK_t1qwAi6M"
      },
      "source": [
        "model.compile(loss = 'categorical_crossentropy',\n",
        "              optimizer = 'rmsprop',\n",
        "              metrics = ['accuracy'])"
      ],
      "execution_count": null,
      "outputs": []
    },
    {
      "cell_type": "markdown",
      "metadata": {
        "id": "umiq4B-Xo3OB"
      },
      "source": [
        "> ## 3) Model Fit"
      ]
    },
    {
      "cell_type": "markdown",
      "metadata": {
        "id": "1KuXREziKMD1"
      },
      "source": [
        "* 약 5분"
      ]
    },
    {
      "cell_type": "code",
      "metadata": {
        "id": "zxwqwAqRAqRP",
        "colab": {
          "base_uri": "https://localhost:8080/"
        },
        "outputId": "c0414b2b-1641-4c1b-9b77-b31d8052177f"
      },
      "source": [
        "%%time\n",
        "\n",
        "Hist_mnist = model.fit(X_train, y_train,\n",
        "                       epochs = 100,\n",
        "                       batch_size = 128,\n",
        "                       validation_data = (X_valid, y_valid))"
      ],
      "execution_count": null,
      "outputs": [
        {
          "output_type": "stream",
          "name": "stdout",
          "text": [
            "Epoch 1/100\n",
            "375/375 [==============================] - 16s 8ms/step - loss: 0.6132 - accuracy: 0.8036 - val_loss: 0.1844 - val_accuracy: 0.9447\n",
            "Epoch 2/100\n",
            "375/375 [==============================] - 2s 5ms/step - loss: 0.2078 - accuracy: 0.9350 - val_loss: 0.1066 - val_accuracy: 0.9678\n",
            "Epoch 3/100\n",
            "375/375 [==============================] - 2s 5ms/step - loss: 0.1448 - accuracy: 0.9546 - val_loss: 0.0958 - val_accuracy: 0.9720\n",
            "Epoch 4/100\n",
            "375/375 [==============================] - 2s 5ms/step - loss: 0.1193 - accuracy: 0.9616 - val_loss: 0.0755 - val_accuracy: 0.9776\n",
            "Epoch 5/100\n",
            "375/375 [==============================] - 2s 5ms/step - loss: 0.1054 - accuracy: 0.9657 - val_loss: 0.0683 - val_accuracy: 0.9790\n",
            "Epoch 6/100\n",
            "375/375 [==============================] - 2s 5ms/step - loss: 0.0939 - accuracy: 0.9702 - val_loss: 0.0598 - val_accuracy: 0.9808\n",
            "Epoch 7/100\n",
            "375/375 [==============================] - 3s 8ms/step - loss: 0.0850 - accuracy: 0.9729 - val_loss: 0.0581 - val_accuracy: 0.9817\n",
            "Epoch 8/100\n",
            "375/375 [==============================] - 2s 5ms/step - loss: 0.0821 - accuracy: 0.9735 - val_loss: 0.0516 - val_accuracy: 0.9834\n",
            "Epoch 9/100\n",
            "375/375 [==============================] - 2s 5ms/step - loss: 0.0724 - accuracy: 0.9771 - val_loss: 0.0492 - val_accuracy: 0.9848\n",
            "Epoch 10/100\n",
            "375/375 [==============================] - 2s 5ms/step - loss: 0.0684 - accuracy: 0.9785 - val_loss: 0.0486 - val_accuracy: 0.9858\n",
            "Epoch 11/100\n",
            "375/375 [==============================] - 2s 5ms/step - loss: 0.0670 - accuracy: 0.9788 - val_loss: 0.0477 - val_accuracy: 0.9866\n",
            "Epoch 12/100\n",
            "375/375 [==============================] - 2s 4ms/step - loss: 0.0633 - accuracy: 0.9800 - val_loss: 0.0473 - val_accuracy: 0.9859\n",
            "Epoch 13/100\n",
            "375/375 [==============================] - 2s 6ms/step - loss: 0.0595 - accuracy: 0.9815 - val_loss: 0.0484 - val_accuracy: 0.9859\n",
            "Epoch 14/100\n",
            "375/375 [==============================] - 2s 5ms/step - loss: 0.0541 - accuracy: 0.9829 - val_loss: 0.0455 - val_accuracy: 0.9867\n",
            "Epoch 15/100\n",
            "375/375 [==============================] - 2s 5ms/step - loss: 0.0543 - accuracy: 0.9826 - val_loss: 0.0451 - val_accuracy: 0.9881\n",
            "Epoch 16/100\n",
            "375/375 [==============================] - 2s 5ms/step - loss: 0.0537 - accuracy: 0.9826 - val_loss: 0.0425 - val_accuracy: 0.9879\n",
            "Epoch 17/100\n",
            "375/375 [==============================] - 2s 5ms/step - loss: 0.0507 - accuracy: 0.9838 - val_loss: 0.0413 - val_accuracy: 0.9893\n",
            "Epoch 18/100\n",
            "375/375 [==============================] - 2s 5ms/step - loss: 0.0483 - accuracy: 0.9853 - val_loss: 0.0419 - val_accuracy: 0.9888\n",
            "Epoch 19/100\n",
            "375/375 [==============================] - 2s 5ms/step - loss: 0.0466 - accuracy: 0.9855 - val_loss: 0.0394 - val_accuracy: 0.9883\n",
            "Epoch 20/100\n",
            "375/375 [==============================] - 2s 6ms/step - loss: 0.0467 - accuracy: 0.9854 - val_loss: 0.0428 - val_accuracy: 0.9883\n",
            "Epoch 21/100\n",
            "375/375 [==============================] - 2s 5ms/step - loss: 0.0457 - accuracy: 0.9851 - val_loss: 0.0407 - val_accuracy: 0.9874\n",
            "Epoch 22/100\n",
            "375/375 [==============================] - 2s 5ms/step - loss: 0.0449 - accuracy: 0.9856 - val_loss: 0.0462 - val_accuracy: 0.9876\n",
            "Epoch 23/100\n",
            "375/375 [==============================] - 2s 5ms/step - loss: 0.0441 - accuracy: 0.9857 - val_loss: 0.0394 - val_accuracy: 0.9887\n",
            "Epoch 24/100\n",
            "375/375 [==============================] - 2s 5ms/step - loss: 0.0442 - accuracy: 0.9855 - val_loss: 0.0378 - val_accuracy: 0.9898\n",
            "Epoch 25/100\n",
            "375/375 [==============================] - 2s 5ms/step - loss: 0.0416 - accuracy: 0.9865 - val_loss: 0.0400 - val_accuracy: 0.9896\n",
            "Epoch 26/100\n",
            "375/375 [==============================] - 3s 7ms/step - loss: 0.0394 - accuracy: 0.9868 - val_loss: 0.0435 - val_accuracy: 0.9892\n",
            "Epoch 27/100\n",
            "375/375 [==============================] - 2s 5ms/step - loss: 0.0415 - accuracy: 0.9866 - val_loss: 0.0406 - val_accuracy: 0.9882\n",
            "Epoch 28/100\n",
            "375/375 [==============================] - 2s 5ms/step - loss: 0.0403 - accuracy: 0.9871 - val_loss: 0.0408 - val_accuracy: 0.9898\n",
            "Epoch 29/100\n",
            "375/375 [==============================] - 2s 5ms/step - loss: 0.0385 - accuracy: 0.9873 - val_loss: 0.0374 - val_accuracy: 0.9896\n",
            "Epoch 30/100\n",
            "375/375 [==============================] - 2s 5ms/step - loss: 0.0381 - accuracy: 0.9881 - val_loss: 0.0426 - val_accuracy: 0.9887\n",
            "Epoch 31/100\n",
            "375/375 [==============================] - 2s 5ms/step - loss: 0.0363 - accuracy: 0.9880 - val_loss: 0.0415 - val_accuracy: 0.9899\n",
            "Epoch 32/100\n",
            "375/375 [==============================] - 2s 6ms/step - loss: 0.0386 - accuracy: 0.9878 - val_loss: 0.0388 - val_accuracy: 0.9899\n",
            "Epoch 33/100\n",
            "375/375 [==============================] - 2s 5ms/step - loss: 0.0347 - accuracy: 0.9883 - val_loss: 0.0376 - val_accuracy: 0.9903\n",
            "Epoch 34/100\n",
            "375/375 [==============================] - 2s 5ms/step - loss: 0.0369 - accuracy: 0.9880 - val_loss: 0.0465 - val_accuracy: 0.9877\n",
            "Epoch 35/100\n",
            "375/375 [==============================] - 2s 5ms/step - loss: 0.0357 - accuracy: 0.9886 - val_loss: 0.0414 - val_accuracy: 0.9898\n",
            "Epoch 36/100\n",
            "375/375 [==============================] - 2s 5ms/step - loss: 0.0350 - accuracy: 0.9892 - val_loss: 0.0434 - val_accuracy: 0.9893\n",
            "Epoch 37/100\n",
            "375/375 [==============================] - 2s 5ms/step - loss: 0.0338 - accuracy: 0.9891 - val_loss: 0.0410 - val_accuracy: 0.9897\n",
            "Epoch 38/100\n",
            "375/375 [==============================] - 2s 5ms/step - loss: 0.0337 - accuracy: 0.9892 - val_loss: 0.0386 - val_accuracy: 0.9899\n",
            "Epoch 39/100\n",
            "375/375 [==============================] - 2s 6ms/step - loss: 0.0321 - accuracy: 0.9895 - val_loss: 0.0410 - val_accuracy: 0.9903\n",
            "Epoch 40/100\n",
            "375/375 [==============================] - 2s 5ms/step - loss: 0.0327 - accuracy: 0.9892 - val_loss: 0.0409 - val_accuracy: 0.9902\n",
            "Epoch 41/100\n",
            "375/375 [==============================] - 2s 5ms/step - loss: 0.0314 - accuracy: 0.9897 - val_loss: 0.0457 - val_accuracy: 0.9889\n",
            "Epoch 42/100\n",
            "375/375 [==============================] - 2s 6ms/step - loss: 0.0331 - accuracy: 0.9898 - val_loss: 0.0388 - val_accuracy: 0.9904\n",
            "Epoch 43/100\n",
            "375/375 [==============================] - 2s 5ms/step - loss: 0.0309 - accuracy: 0.9900 - val_loss: 0.0401 - val_accuracy: 0.9901\n",
            "Epoch 44/100\n",
            "375/375 [==============================] - 2s 5ms/step - loss: 0.0316 - accuracy: 0.9898 - val_loss: 0.0361 - val_accuracy: 0.9900\n",
            "Epoch 45/100\n",
            "375/375 [==============================] - 2s 7ms/step - loss: 0.0317 - accuracy: 0.9901 - val_loss: 0.0369 - val_accuracy: 0.9908\n",
            "Epoch 46/100\n",
            "375/375 [==============================] - 2s 5ms/step - loss: 0.0322 - accuracy: 0.9898 - val_loss: 0.0424 - val_accuracy: 0.9896\n",
            "Epoch 47/100\n",
            "375/375 [==============================] - 2s 5ms/step - loss: 0.0290 - accuracy: 0.9906 - val_loss: 0.0407 - val_accuracy: 0.9903\n",
            "Epoch 48/100\n",
            "375/375 [==============================] - 2s 5ms/step - loss: 0.0307 - accuracy: 0.9903 - val_loss: 0.0484 - val_accuracy: 0.9893\n",
            "Epoch 49/100\n",
            "375/375 [==============================] - 2s 5ms/step - loss: 0.0297 - accuracy: 0.9904 - val_loss: 0.0356 - val_accuracy: 0.9909\n",
            "Epoch 50/100\n",
            "375/375 [==============================] - 2s 5ms/step - loss: 0.0316 - accuracy: 0.9902 - val_loss: 0.0432 - val_accuracy: 0.9902\n",
            "Epoch 51/100\n",
            "375/375 [==============================] - 2s 6ms/step - loss: 0.0296 - accuracy: 0.9903 - val_loss: 0.0370 - val_accuracy: 0.9913\n",
            "Epoch 52/100\n",
            "375/375 [==============================] - 2s 6ms/step - loss: 0.0303 - accuracy: 0.9902 - val_loss: 0.0401 - val_accuracy: 0.9893\n",
            "Epoch 53/100\n",
            "375/375 [==============================] - 2s 5ms/step - loss: 0.0284 - accuracy: 0.9906 - val_loss: 0.0395 - val_accuracy: 0.9903\n",
            "Epoch 54/100\n",
            "375/375 [==============================] - 2s 5ms/step - loss: 0.0278 - accuracy: 0.9911 - val_loss: 0.0446 - val_accuracy: 0.9899\n",
            "Epoch 55/100\n",
            "375/375 [==============================] - 2s 5ms/step - loss: 0.0302 - accuracy: 0.9906 - val_loss: 0.0475 - val_accuracy: 0.9891\n",
            "Epoch 56/100\n",
            "375/375 [==============================] - 2s 5ms/step - loss: 0.0282 - accuracy: 0.9909 - val_loss: 0.0433 - val_accuracy: 0.9899\n",
            "Epoch 57/100\n",
            "375/375 [==============================] - 2s 5ms/step - loss: 0.0277 - accuracy: 0.9910 - val_loss: 0.0407 - val_accuracy: 0.9909\n",
            "Epoch 58/100\n",
            "375/375 [==============================] - 3s 7ms/step - loss: 0.0279 - accuracy: 0.9910 - val_loss: 0.0420 - val_accuracy: 0.9910\n",
            "Epoch 59/100\n",
            "375/375 [==============================] - 2s 5ms/step - loss: 0.0281 - accuracy: 0.9909 - val_loss: 0.0521 - val_accuracy: 0.9881\n",
            "Epoch 60/100\n",
            "375/375 [==============================] - 2s 5ms/step - loss: 0.0278 - accuracy: 0.9906 - val_loss: 0.0359 - val_accuracy: 0.9909\n",
            "Epoch 61/100\n",
            "375/375 [==============================] - 2s 5ms/step - loss: 0.0268 - accuracy: 0.9910 - val_loss: 0.0371 - val_accuracy: 0.9910\n",
            "Epoch 62/100\n",
            "375/375 [==============================] - 2s 5ms/step - loss: 0.0290 - accuracy: 0.9906 - val_loss: 0.0396 - val_accuracy: 0.9904\n",
            "Epoch 63/100\n",
            "375/375 [==============================] - 2s 5ms/step - loss: 0.0276 - accuracy: 0.9913 - val_loss: 0.0410 - val_accuracy: 0.9903\n",
            "Epoch 64/100\n",
            "375/375 [==============================] - 2s 6ms/step - loss: 0.0276 - accuracy: 0.9910 - val_loss: 0.0404 - val_accuracy: 0.9901\n",
            "Epoch 65/100\n",
            "375/375 [==============================] - 2s 6ms/step - loss: 0.0270 - accuracy: 0.9911 - val_loss: 0.0422 - val_accuracy: 0.9905\n",
            "Epoch 66/100\n",
            "375/375 [==============================] - 2s 5ms/step - loss: 0.0270 - accuracy: 0.9918 - val_loss: 0.0446 - val_accuracy: 0.9902\n",
            "Epoch 67/100\n",
            "375/375 [==============================] - 2s 5ms/step - loss: 0.0248 - accuracy: 0.9920 - val_loss: 0.0416 - val_accuracy: 0.9912\n",
            "Epoch 68/100\n",
            "375/375 [==============================] - 2s 5ms/step - loss: 0.0258 - accuracy: 0.9913 - val_loss: 0.0392 - val_accuracy: 0.9916\n",
            "Epoch 69/100\n",
            "375/375 [==============================] - 2s 5ms/step - loss: 0.0248 - accuracy: 0.9920 - val_loss: 0.0400 - val_accuracy: 0.9911\n",
            "Epoch 70/100\n",
            "375/375 [==============================] - 2s 5ms/step - loss: 0.0232 - accuracy: 0.9924 - val_loss: 0.0450 - val_accuracy: 0.9911\n",
            "Epoch 71/100\n",
            "375/375 [==============================] - 2s 6ms/step - loss: 0.0260 - accuracy: 0.9915 - val_loss: 0.0415 - val_accuracy: 0.9903\n",
            "Epoch 72/100\n",
            "375/375 [==============================] - 2s 5ms/step - loss: 0.0244 - accuracy: 0.9919 - val_loss: 0.0472 - val_accuracy: 0.9892\n",
            "Epoch 73/100\n",
            "375/375 [==============================] - 2s 5ms/step - loss: 0.0258 - accuracy: 0.9918 - val_loss: 0.0447 - val_accuracy: 0.9904\n",
            "Epoch 74/100\n",
            "375/375 [==============================] - 2s 5ms/step - loss: 0.0249 - accuracy: 0.9921 - val_loss: 0.0429 - val_accuracy: 0.9907\n",
            "Epoch 75/100\n",
            "375/375 [==============================] - 2s 5ms/step - loss: 0.0264 - accuracy: 0.9910 - val_loss: 0.0391 - val_accuracy: 0.9910\n",
            "Epoch 76/100\n",
            "375/375 [==============================] - 2s 5ms/step - loss: 0.0245 - accuracy: 0.9921 - val_loss: 0.0438 - val_accuracy: 0.9904\n",
            "Epoch 77/100\n",
            "375/375 [==============================] - 3s 7ms/step - loss: 0.0236 - accuracy: 0.9922 - val_loss: 0.0431 - val_accuracy: 0.9910\n",
            "Epoch 78/100\n",
            "375/375 [==============================] - 2s 5ms/step - loss: 0.0249 - accuracy: 0.9917 - val_loss: 0.0400 - val_accuracy: 0.9914\n",
            "Epoch 79/100\n",
            "375/375 [==============================] - 2s 5ms/step - loss: 0.0247 - accuracy: 0.9920 - val_loss: 0.0420 - val_accuracy: 0.9903\n",
            "Epoch 80/100\n",
            "375/375 [==============================] - 2s 5ms/step - loss: 0.0257 - accuracy: 0.9913 - val_loss: 0.0431 - val_accuracy: 0.9894\n",
            "Epoch 81/100\n",
            "375/375 [==============================] - 2s 5ms/step - loss: 0.0223 - accuracy: 0.9926 - val_loss: 0.0450 - val_accuracy: 0.9913\n",
            "Epoch 82/100\n",
            "375/375 [==============================] - 2s 5ms/step - loss: 0.0247 - accuracy: 0.9923 - val_loss: 0.0468 - val_accuracy: 0.9912\n",
            "Epoch 83/100\n",
            "375/375 [==============================] - 2s 6ms/step - loss: 0.0244 - accuracy: 0.9923 - val_loss: 0.0497 - val_accuracy: 0.9913\n",
            "Epoch 84/100\n",
            "375/375 [==============================] - 2s 5ms/step - loss: 0.0234 - accuracy: 0.9922 - val_loss: 0.0383 - val_accuracy: 0.9915\n",
            "Epoch 85/100\n",
            "375/375 [==============================] - 2s 5ms/step - loss: 0.0233 - accuracy: 0.9924 - val_loss: 0.0474 - val_accuracy: 0.9899\n",
            "Epoch 86/100\n",
            "375/375 [==============================] - 2s 5ms/step - loss: 0.0237 - accuracy: 0.9921 - val_loss: 0.0462 - val_accuracy: 0.9910\n",
            "Epoch 87/100\n",
            "375/375 [==============================] - 2s 5ms/step - loss: 0.0241 - accuracy: 0.9925 - val_loss: 0.0387 - val_accuracy: 0.9915\n",
            "Epoch 88/100\n",
            "375/375 [==============================] - 2s 5ms/step - loss: 0.0241 - accuracy: 0.9923 - val_loss: 0.0408 - val_accuracy: 0.9913\n",
            "Epoch 89/100\n",
            "375/375 [==============================] - 2s 5ms/step - loss: 0.0231 - accuracy: 0.9924 - val_loss: 0.0413 - val_accuracy: 0.9914\n",
            "Epoch 90/100\n",
            "375/375 [==============================] - 2s 6ms/step - loss: 0.0257 - accuracy: 0.9913 - val_loss: 0.0378 - val_accuracy: 0.9912\n",
            "Epoch 91/100\n",
            "375/375 [==============================] - 2s 5ms/step - loss: 0.0236 - accuracy: 0.9921 - val_loss: 0.0493 - val_accuracy: 0.9897\n",
            "Epoch 92/100\n",
            "375/375 [==============================] - 2s 5ms/step - loss: 0.0246 - accuracy: 0.9921 - val_loss: 0.0411 - val_accuracy: 0.9917\n",
            "Epoch 93/100\n",
            "375/375 [==============================] - 2s 5ms/step - loss: 0.0228 - accuracy: 0.9926 - val_loss: 0.0432 - val_accuracy: 0.9912\n",
            "Epoch 94/100\n",
            "375/375 [==============================] - 2s 5ms/step - loss: 0.0230 - accuracy: 0.9927 - val_loss: 0.0408 - val_accuracy: 0.9911\n",
            "Epoch 95/100\n",
            "375/375 [==============================] - 2s 5ms/step - loss: 0.0222 - accuracy: 0.9928 - val_loss: 0.0442 - val_accuracy: 0.9912\n",
            "Epoch 96/100\n",
            "375/375 [==============================] - 3s 7ms/step - loss: 0.0207 - accuracy: 0.9933 - val_loss: 0.0489 - val_accuracy: 0.9904\n",
            "Epoch 97/100\n",
            "375/375 [==============================] - 2s 5ms/step - loss: 0.0240 - accuracy: 0.9926 - val_loss: 0.0486 - val_accuracy: 0.9908\n",
            "Epoch 98/100\n",
            "375/375 [==============================] - 2s 5ms/step - loss: 0.0231 - accuracy: 0.9926 - val_loss: 0.0438 - val_accuracy: 0.9909\n",
            "Epoch 99/100\n",
            "375/375 [==============================] - 2s 5ms/step - loss: 0.0230 - accuracy: 0.9927 - val_loss: 0.0443 - val_accuracy: 0.9914\n",
            "Epoch 100/100\n",
            "375/375 [==============================] - 2s 5ms/step - loss: 0.0214 - accuracy: 0.9933 - val_loss: 0.0424 - val_accuracy: 0.9915\n",
            "CPU times: user 3min 12s, sys: 16.1 s, total: 3min 28s\n",
            "Wall time: 4min 25s\n"
          ]
        }
      ]
    },
    {
      "cell_type": "markdown",
      "metadata": {
        "id": "FnnIyFtNKhbD"
      },
      "source": [
        "> ## 4) 학습 결과 시각화"
      ]
    },
    {
      "cell_type": "code",
      "metadata": {
        "id": "OQ4ke8BbKi50",
        "colab": {
          "base_uri": "https://localhost:8080/",
          "height": 487
        },
        "outputId": "605d9eb3-38dd-4f51-a235-d5bf3e71f49c"
      },
      "source": [
        "import matplotlib.pyplot as plt\n",
        "\n",
        "epochs = range(1, len(Hist_mnist.history['loss']) + 1)\n",
        "\n",
        "plt.figure(figsize = (15, 5))\n",
        "\n",
        "plt.subplot(1, 2, 1)\n",
        "plt.plot(epochs, Hist_mnist.history['loss'], 'b-')\n",
        "plt.plot(epochs, Hist_mnist.history['val_loss'], 'r--')\n",
        "plt.title('Training & Validation Loss')\n",
        "plt.xlabel('Epochs')\n",
        "plt.ylabel('Loss')\n",
        "plt.legend(['Training Loss', 'Validation Loss'])\n",
        "plt.grid()\n",
        "\n",
        "plt.subplot(1, 2, 2)\n",
        "plt.plot(epochs, Hist_mnist.history['accuracy'], 'b-')\n",
        "plt.plot(epochs, Hist_mnist.history['val_accuracy'], 'r--')\n",
        "plt.title('Training & Validation Accuracy')\n",
        "plt.xlabel('Epochs')\n",
        "plt.ylabel('Accuracy')\n",
        "plt.legend(['Training Accuracy', 'Validation Accuracy'])\n",
        "plt.grid()\n",
        "\n",
        "plt.show()"
      ],
      "execution_count": null,
      "outputs": [
        {
          "output_type": "display_data",
          "data": {
            "text/plain": [
              "<Figure size 1500x500 with 2 Axes>"
            ],
            "image/png": "[encoded data removed]"
          },
          "metadata": {}
        }
      ]
    },
    {
      "cell_type": "markdown",
      "metadata": {
        "id": "_uJSOLBko7lh"
      },
      "source": [
        "> ## 5) Model Evaluate"
      ]
    },
    {
      "cell_type": "markdown",
      "metadata": {
        "id": "i-TqAB2ALGzZ"
      },
      "source": [
        "* Loss & Accuracy"
      ]
    },
    {
      "cell_type": "code",
      "metadata": {
        "id": "OF30PuZsAxQJ",
        "colab": {
          "base_uri": "https://localhost:8080/"
        },
        "outputId": "b5c1b43d-31e8-447a-a0e2-8d3175a75642"
      },
      "source": [
        "loss, accuracy = model.evaluate(X_test, y_test, verbose = 0)\n",
        "\n",
        "print('Loss = {:.5f}'.format(loss))\n",
        "print('Accuracy = {:.5f}'.format(accuracy))"
      ],
      "execution_count": null,
      "outputs": [
        {
          "output_type": "stream",
          "name": "stdout",
          "text": [
            "Loss = 0.02827\n",
            "Accuracy = 0.99160\n"
          ]
        }
      ]
    },
    {
      "cell_type": "markdown",
      "metadata": {
        "id": "sN48I9GrLxOX"
      },
      "source": [
        "#\n",
        "#\n",
        "#\n",
        "# End Of Document\n",
        "#\n",
        "#\n",
        "#"
      ]
    }
  ]
}